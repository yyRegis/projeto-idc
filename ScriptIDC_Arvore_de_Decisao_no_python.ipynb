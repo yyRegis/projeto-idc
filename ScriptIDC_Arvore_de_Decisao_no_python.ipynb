{
  "nbformat": 4,
  "nbformat_minor": 0,
  "metadata": {
    "colab": {
      "provenance": [],
      "include_colab_link": true
    },
    "kernelspec": {
      "name": "python3",
      "display_name": "Python 3"
    },
    "language_info": {
      "name": "python"
    },
    "widgets": {
      "application/vnd.jupyter.widget-state+json": {
        "81ef92cf6d0240428d6db1d31fc45a8e": {
          "model_module": "@jupyter-widgets/controls",
          "model_name": "HBoxModel",
          "model_module_version": "1.5.0",
          "state": {
            "_dom_classes": [],
            "_model_module": "@jupyter-widgets/controls",
            "_model_module_version": "1.5.0",
            "_model_name": "HBoxModel",
            "_view_count": null,
            "_view_module": "@jupyter-widgets/controls",
            "_view_module_version": "1.5.0",
            "_view_name": "HBoxView",
            "box_style": "",
            "children": [
              "IPY_MODEL_2e249fdfbd364d4e920a8b5e7a7da0fd",
              "IPY_MODEL_e1283315eba04837b591537ed33fdbe8",
              "IPY_MODEL_7c7c1d912a594027801b8ddbebc94190"
            ],
            "layout": "IPY_MODEL_42940ec881a64efdb6fefe1e3c1e387d"
          }
        },
        "2e249fdfbd364d4e920a8b5e7a7da0fd": {
          "model_module": "@jupyter-widgets/controls",
          "model_name": "HTMLModel",
          "model_module_version": "1.5.0",
          "state": {
            "_dom_classes": [],
            "_model_module": "@jupyter-widgets/controls",
            "_model_module_version": "1.5.0",
            "_model_name": "HTMLModel",
            "_view_count": null,
            "_view_module": "@jupyter-widgets/controls",
            "_view_module_version": "1.5.0",
            "_view_name": "HTMLView",
            "description": "",
            "description_tooltip": null,
            "layout": "IPY_MODEL_bd87881f05764266941aada14301e4ed",
            "placeholder": "​",
            "style": "IPY_MODEL_3fd91cdeccd24225a0d4ec9065134774",
            "value": "Processing: 100%"
          }
        },
        "e1283315eba04837b591537ed33fdbe8": {
          "model_module": "@jupyter-widgets/controls",
          "model_name": "FloatProgressModel",
          "model_module_version": "1.5.0",
          "state": {
            "_dom_classes": [],
            "_model_module": "@jupyter-widgets/controls",
            "_model_module_version": "1.5.0",
            "_model_name": "FloatProgressModel",
            "_view_count": null,
            "_view_module": "@jupyter-widgets/controls",
            "_view_module_version": "1.5.0",
            "_view_name": "ProgressView",
            "bar_style": "",
            "description": "",
            "description_tooltip": null,
            "layout": "IPY_MODEL_894cdc6273cc4bfe90ee2928341b9084",
            "max": 4,
            "min": 0,
            "orientation": "horizontal",
            "style": "IPY_MODEL_c4293c252336408881db53f458cbe24a",
            "value": 4
          }
        },
        "7c7c1d912a594027801b8ddbebc94190": {
          "model_module": "@jupyter-widgets/controls",
          "model_name": "HTMLModel",
          "model_module_version": "1.5.0",
          "state": {
            "_dom_classes": [],
            "_model_module": "@jupyter-widgets/controls",
            "_model_module_version": "1.5.0",
            "_model_name": "HTMLModel",
            "_view_count": null,
            "_view_module": "@jupyter-widgets/controls",
            "_view_module_version": "1.5.0",
            "_view_name": "HTMLView",
            "description": "",
            "description_tooltip": null,
            "layout": "IPY_MODEL_08058c85cdf84e278d1554a2319277e5",
            "placeholder": "​",
            "style": "IPY_MODEL_983384bbcd7c4ce59f2d2e701941b2a9",
            "value": " 4/4 [00:07&lt;00:00,  1.77s/it]"
          }
        },
        "42940ec881a64efdb6fefe1e3c1e387d": {
          "model_module": "@jupyter-widgets/base",
          "model_name": "LayoutModel",
          "model_module_version": "1.2.0",
          "state": {
            "_model_module": "@jupyter-widgets/base",
            "_model_module_version": "1.2.0",
            "_model_name": "LayoutModel",
            "_view_count": null,
            "_view_module": "@jupyter-widgets/base",
            "_view_module_version": "1.2.0",
            "_view_name": "LayoutView",
            "align_content": null,
            "align_items": null,
            "align_self": null,
            "border": null,
            "bottom": null,
            "display": null,
            "flex": null,
            "flex_flow": null,
            "grid_area": null,
            "grid_auto_columns": null,
            "grid_auto_flow": null,
            "grid_auto_rows": null,
            "grid_column": null,
            "grid_gap": null,
            "grid_row": null,
            "grid_template_areas": null,
            "grid_template_columns": null,
            "grid_template_rows": null,
            "height": null,
            "justify_content": null,
            "justify_items": null,
            "left": null,
            "margin": null,
            "max_height": null,
            "max_width": null,
            "min_height": null,
            "min_width": null,
            "object_fit": null,
            "object_position": null,
            "order": null,
            "overflow": null,
            "overflow_x": null,
            "overflow_y": null,
            "padding": null,
            "right": null,
            "top": null,
            "visibility": "hidden",
            "width": null
          }
        },
        "bd87881f05764266941aada14301e4ed": {
          "model_module": "@jupyter-widgets/base",
          "model_name": "LayoutModel",
          "model_module_version": "1.2.0",
          "state": {
            "_model_module": "@jupyter-widgets/base",
            "_model_module_version": "1.2.0",
            "_model_name": "LayoutModel",
            "_view_count": null,
            "_view_module": "@jupyter-widgets/base",
            "_view_module_version": "1.2.0",
            "_view_name": "LayoutView",
            "align_content": null,
            "align_items": null,
            "align_self": null,
            "border": null,
            "bottom": null,
            "display": null,
            "flex": null,
            "flex_flow": null,
            "grid_area": null,
            "grid_auto_columns": null,
            "grid_auto_flow": null,
            "grid_auto_rows": null,
            "grid_column": null,
            "grid_gap": null,
            "grid_row": null,
            "grid_template_areas": null,
            "grid_template_columns": null,
            "grid_template_rows": null,
            "height": null,
            "justify_content": null,
            "justify_items": null,
            "left": null,
            "margin": null,
            "max_height": null,
            "max_width": null,
            "min_height": null,
            "min_width": null,
            "object_fit": null,
            "object_position": null,
            "order": null,
            "overflow": null,
            "overflow_x": null,
            "overflow_y": null,
            "padding": null,
            "right": null,
            "top": null,
            "visibility": null,
            "width": null
          }
        },
        "3fd91cdeccd24225a0d4ec9065134774": {
          "model_module": "@jupyter-widgets/controls",
          "model_name": "DescriptionStyleModel",
          "model_module_version": "1.5.0",
          "state": {
            "_model_module": "@jupyter-widgets/controls",
            "_model_module_version": "1.5.0",
            "_model_name": "DescriptionStyleModel",
            "_view_count": null,
            "_view_module": "@jupyter-widgets/base",
            "_view_module_version": "1.2.0",
            "_view_name": "StyleView",
            "description_width": ""
          }
        },
        "894cdc6273cc4bfe90ee2928341b9084": {
          "model_module": "@jupyter-widgets/base",
          "model_name": "LayoutModel",
          "model_module_version": "1.2.0",
          "state": {
            "_model_module": "@jupyter-widgets/base",
            "_model_module_version": "1.2.0",
            "_model_name": "LayoutModel",
            "_view_count": null,
            "_view_module": "@jupyter-widgets/base",
            "_view_module_version": "1.2.0",
            "_view_name": "LayoutView",
            "align_content": null,
            "align_items": null,
            "align_self": null,
            "border": null,
            "bottom": null,
            "display": null,
            "flex": null,
            "flex_flow": null,
            "grid_area": null,
            "grid_auto_columns": null,
            "grid_auto_flow": null,
            "grid_auto_rows": null,
            "grid_column": null,
            "grid_gap": null,
            "grid_row": null,
            "grid_template_areas": null,
            "grid_template_columns": null,
            "grid_template_rows": null,
            "height": null,
            "justify_content": null,
            "justify_items": null,
            "left": null,
            "margin": null,
            "max_height": null,
            "max_width": null,
            "min_height": null,
            "min_width": null,
            "object_fit": null,
            "object_position": null,
            "order": null,
            "overflow": null,
            "overflow_x": null,
            "overflow_y": null,
            "padding": null,
            "right": null,
            "top": null,
            "visibility": null,
            "width": null
          }
        },
        "c4293c252336408881db53f458cbe24a": {
          "model_module": "@jupyter-widgets/controls",
          "model_name": "ProgressStyleModel",
          "model_module_version": "1.5.0",
          "state": {
            "_model_module": "@jupyter-widgets/controls",
            "_model_module_version": "1.5.0",
            "_model_name": "ProgressStyleModel",
            "_view_count": null,
            "_view_module": "@jupyter-widgets/base",
            "_view_module_version": "1.2.0",
            "_view_name": "StyleView",
            "bar_color": null,
            "description_width": ""
          }
        },
        "08058c85cdf84e278d1554a2319277e5": {
          "model_module": "@jupyter-widgets/base",
          "model_name": "LayoutModel",
          "model_module_version": "1.2.0",
          "state": {
            "_model_module": "@jupyter-widgets/base",
            "_model_module_version": "1.2.0",
            "_model_name": "LayoutModel",
            "_view_count": null,
            "_view_module": "@jupyter-widgets/base",
            "_view_module_version": "1.2.0",
            "_view_name": "LayoutView",
            "align_content": null,
            "align_items": null,
            "align_self": null,
            "border": null,
            "bottom": null,
            "display": null,
            "flex": null,
            "flex_flow": null,
            "grid_area": null,
            "grid_auto_columns": null,
            "grid_auto_flow": null,
            "grid_auto_rows": null,
            "grid_column": null,
            "grid_gap": null,
            "grid_row": null,
            "grid_template_areas": null,
            "grid_template_columns": null,
            "grid_template_rows": null,
            "height": null,
            "justify_content": null,
            "justify_items": null,
            "left": null,
            "margin": null,
            "max_height": null,
            "max_width": null,
            "min_height": null,
            "min_width": null,
            "object_fit": null,
            "object_position": null,
            "order": null,
            "overflow": null,
            "overflow_x": null,
            "overflow_y": null,
            "padding": null,
            "right": null,
            "top": null,
            "visibility": null,
            "width": null
          }
        },
        "983384bbcd7c4ce59f2d2e701941b2a9": {
          "model_module": "@jupyter-widgets/controls",
          "model_name": "DescriptionStyleModel",
          "model_module_version": "1.5.0",
          "state": {
            "_model_module": "@jupyter-widgets/controls",
            "_model_module_version": "1.5.0",
            "_model_name": "DescriptionStyleModel",
            "_view_count": null,
            "_view_module": "@jupyter-widgets/base",
            "_view_module_version": "1.2.0",
            "_view_name": "StyleView",
            "description_width": ""
          }
        }
      }
    }
  },
  "cells": [
    {
      "cell_type": "markdown",
      "metadata": {
        "id": "view-in-github",
        "colab_type": "text"
      },
      "source": [
        "<a href=\"https://colab.research.google.com/github/yyRegis/projeto-idc/blob/main/ScriptIDC_Arvore_de_Decisao_no_python.ipynb\" target=\"_parent\"><img src=\"https://colab.research.google.com/assets/colab-badge.svg\" alt=\"Open In Colab\"/></a>"
      ]
    },
    {
      "cell_type": "markdown",
      "source": [
        "Atualizado em: 01.2025"
      ],
      "metadata": {
        "id": "s8BZx-F0Mgrq"
      }
    },
    {
      "cell_type": "code",
      "source": [
        "# <> ------------------------------------------------------\n",
        "# <> Verificando se o pacote está instalado\n",
        "# <> o símbolo % é para executar no bash\n",
        "%pip show pycaret"
      ],
      "metadata": {
        "id": "2F6iAQDWMdxT",
        "outputId": "9ac0eb8e-e135-4691-8c4b-e6a7268de8d5",
        "colab": {
          "base_uri": "https://localhost:8080/"
        }
      },
      "execution_count": null,
      "outputs": [
        {
          "output_type": "stream",
          "name": "stdout",
          "text": [
            "\u001b[33mWARNING: Package(s) not found: pycaret\u001b[0m\u001b[33m\n",
            "\u001b[0m"
          ]
        }
      ]
    },
    {
      "cell_type": "code",
      "source": [
        "!pip install numpy==1.26.4"
      ],
      "metadata": {
        "colab": {
          "base_uri": "https://localhost:8080/"
        },
        "id": "PcGGFCllc0M1",
        "outputId": "35aaa5bc-54af-495b-8e78-69ea9c506078"
      },
      "execution_count": 1,
      "outputs": [
        {
          "output_type": "stream",
          "name": "stdout",
          "text": [
            "Collecting numpy==1.26.4\n",
            "  Downloading numpy-1.26.4-cp311-cp311-manylinux_2_17_x86_64.manylinux2014_x86_64.whl.metadata (61 kB)\n",
            "\u001b[2K     \u001b[90m━━━━━━━━━━━━━━━━━━━━━━━━━━━━━━━━━━━━━━━━\u001b[0m \u001b[32m61.0/61.0 kB\u001b[0m \u001b[31m787.9 kB/s\u001b[0m eta \u001b[36m0:00:00\u001b[0m\n",
            "\u001b[?25hDownloading numpy-1.26.4-cp311-cp311-manylinux_2_17_x86_64.manylinux2014_x86_64.whl (18.3 MB)\n",
            "\u001b[2K   \u001b[90m━━━━━━━━━━━━━━━━━━━━━━━━━━━━━━━━━━━━━━━━\u001b[0m \u001b[32m18.3/18.3 MB\u001b[0m \u001b[31m28.5 MB/s\u001b[0m eta \u001b[36m0:00:00\u001b[0m\n",
            "\u001b[?25hInstalling collected packages: numpy\n",
            "  Attempting uninstall: numpy\n",
            "    Found existing installation: numpy 2.0.2\n",
            "    Uninstalling numpy-2.0.2:\n",
            "      Successfully uninstalled numpy-2.0.2\n",
            "Successfully installed numpy-1.26.4\n"
          ]
        }
      ]
    },
    {
      "cell_type": "code",
      "source": [
        "# <> ------------------------------------------------------\n",
        "# <> Se o pacote não tiver instalado\n",
        "# <> executar o comando abaixo\n",
        "%pip install pycaret --quiet"
      ],
      "metadata": {
        "id": "DzswfUi7Mimf",
        "colab": {
          "base_uri": "https://localhost:8080/"
        },
        "outputId": "94e82c6a-96fa-44b6-d012-01f07a247eb0"
      },
      "execution_count": 2,
      "outputs": [
        {
          "output_type": "stream",
          "name": "stdout",
          "text": [
            "\u001b[2K     \u001b[90m━━━━━━━━━━━━━━━━━━━━━━━━━━━━━━━━━━━━━━━━\u001b[0m \u001b[32m60.4/60.4 kB\u001b[0m \u001b[31m1.3 MB/s\u001b[0m eta \u001b[36m0:00:00\u001b[0m\n",
            "\u001b[2K     \u001b[90m━━━━━━━━━━━━━━━━━━━━━━━━━━━━━━━━━━━━━━━━\u001b[0m \u001b[32m169.6/169.6 kB\u001b[0m \u001b[31m6.6 MB/s\u001b[0m eta \u001b[36m0:00:00\u001b[0m\n",
            "\u001b[?25h  Preparing metadata (setup.py) ... \u001b[?25l\u001b[?25hdone\n",
            "  Preparing metadata (setup.py) ... \u001b[?25l\u001b[?25hdone\n",
            "\u001b[2K   \u001b[90m━━━━━━━━━━━━━━━━━━━━━━━━━━━━━━━━━━━━━━━━\u001b[0m \u001b[32m486.1/486.1 kB\u001b[0m \u001b[31m15.9 MB/s\u001b[0m eta \u001b[36m0:00:00\u001b[0m\n",
            "\u001b[2K   \u001b[90m━━━━━━━━━━━━━━━━━━━━━━━━━━━━━━━━━━━━━━━━\u001b[0m \u001b[32m106.8/106.8 kB\u001b[0m \u001b[31m5.9 MB/s\u001b[0m eta \u001b[36m0:00:00\u001b[0m\n",
            "\u001b[2K   \u001b[90m━━━━━━━━━━━━━━━━━━━━━━━━━━━━━━━━━━━━━━━━\u001b[0m \u001b[32m21.8/21.8 MB\u001b[0m \u001b[31m75.8 MB/s\u001b[0m eta \u001b[36m0:00:00\u001b[0m\n",
            "\u001b[2K   \u001b[90m━━━━━━━━━━━━━━━━━━━━━━━━━━━━━━━━━━━━━━━━\u001b[0m \u001b[32m85.4/85.4 kB\u001b[0m \u001b[31m5.5 MB/s\u001b[0m eta \u001b[36m0:00:00\u001b[0m\n",
            "\u001b[2K   \u001b[90m━━━━━━━━━━━━━━━━━━━━━━━━━━━━━━━━━━━━━━━━\u001b[0m \u001b[32m302.2/302.2 kB\u001b[0m \u001b[31m18.6 MB/s\u001b[0m eta \u001b[36m0:00:00\u001b[0m\n",
            "\u001b[2K   \u001b[90m━━━━━━━━━━━━━━━━━━━━━━━━━━━━━━━━━━━━━━━━\u001b[0m \u001b[32m79.9/79.9 MB\u001b[0m \u001b[31m10.0 MB/s\u001b[0m eta \u001b[36m0:00:00\u001b[0m\n",
            "\u001b[2K   \u001b[90m━━━━━━━━━━━━━━━━━━━━━━━━━━━━━━━━━━━━━━━━\u001b[0m \u001b[32m11.6/11.6 MB\u001b[0m \u001b[31m92.8 MB/s\u001b[0m eta \u001b[36m0:00:00\u001b[0m\n",
            "\u001b[2K   \u001b[90m━━━━━━━━━━━━━━━━━━━━━━━━━━━━━━━━━━━━━━━━\u001b[0m \u001b[32m12.2/12.2 MB\u001b[0m \u001b[31m86.1 MB/s\u001b[0m eta \u001b[36m0:00:00\u001b[0m\n",
            "\u001b[2K   \u001b[90m━━━━━━━━━━━━━━━━━━━━━━━━━━━━━━━━━━━━━━━━\u001b[0m \u001b[32m80.7/80.7 kB\u001b[0m \u001b[31m4.6 MB/s\u001b[0m eta \u001b[36m0:00:00\u001b[0m\n",
            "\u001b[2K   \u001b[90m━━━━━━━━━━━━━━━━━━━━━━━━━━━━━━━━━━━━━━━━\u001b[0m \u001b[32m2.2/2.2 MB\u001b[0m \u001b[31m61.7 MB/s\u001b[0m eta \u001b[36m0:00:00\u001b[0m\n",
            "\u001b[2K   \u001b[90m━━━━━━━━━━━━━━━━━━━━━━━━━━━━━━━━━━━━━━━━\u001b[0m \u001b[32m12.1/12.1 MB\u001b[0m \u001b[31m91.2 MB/s\u001b[0m eta \u001b[36m0:00:00\u001b[0m\n",
            "\u001b[2K   \u001b[90m━━━━━━━━━━━━━━━━━━━━━━━━━━━━━━━━━━━━━━━━\u001b[0m \u001b[32m36.4/36.4 MB\u001b[0m \u001b[31m12.8 MB/s\u001b[0m eta \u001b[36m0:00:00\u001b[0m\n",
            "\u001b[2K   \u001b[90m━━━━━━━━━━━━━━━━━━━━━━━━━━━━━━━━━━━━━━━━\u001b[0m \u001b[32m44.0/44.0 kB\u001b[0m \u001b[31m2.3 MB/s\u001b[0m eta \u001b[36m0:00:00\u001b[0m\n",
            "\u001b[2K   \u001b[90m━━━━━━━━━━━━━━━━━━━━━━━━━━━━━━━━━━━━━━━━\u001b[0m \u001b[32m194.8/194.8 kB\u001b[0m \u001b[31m9.6 MB/s\u001b[0m eta \u001b[36m0:00:00\u001b[0m\n",
            "\u001b[2K   \u001b[90m━━━━━━━━━━━━━━━━━━━━━━━━━━━━━━━━━━━━━━━━\u001b[0m \u001b[32m8.0/8.0 MB\u001b[0m \u001b[31m86.7 MB/s\u001b[0m eta \u001b[36m0:00:00\u001b[0m\n",
            "\u001b[2K   \u001b[90m━━━━━━━━━━━━━━━━━━━━━━━━━━━━━━━━━━━━━━━━\u001b[0m \u001b[32m1.6/1.6 MB\u001b[0m \u001b[31m47.8 MB/s\u001b[0m eta \u001b[36m0:00:00\u001b[0m\n",
            "\u001b[2K   \u001b[90m━━━━━━━━━━━━━━━━━━━━━━━━━━━━━━━━━━━━━━━━\u001b[0m \u001b[32m130.1/130.1 kB\u001b[0m \u001b[31m7.5 MB/s\u001b[0m eta \u001b[36m0:00:00\u001b[0m\n",
            "\u001b[2K   \u001b[90m━━━━━━━━━━━━━━━━━━━━━━━━━━━━━━━━━━━━━━━━\u001b[0m \u001b[32m1.3/1.3 MB\u001b[0m \u001b[31m46.7 MB/s\u001b[0m eta \u001b[36m0:00:00\u001b[0m\n",
            "\u001b[2K   \u001b[90m━━━━━━━━━━━━━━━━━━━━━━━━━━━━━━━━━━━━━━━━\u001b[0m \u001b[32m101.7/101.7 kB\u001b[0m \u001b[31m6.3 MB/s\u001b[0m eta \u001b[36m0:00:00\u001b[0m\n",
            "\u001b[2K   \u001b[90m━━━━━━━━━━━━━━━━━━━━━━━━━━━━━━━━━━━━━━━━\u001b[0m \u001b[32m228.0/228.0 kB\u001b[0m \u001b[31m13.0 MB/s\u001b[0m eta \u001b[36m0:00:00\u001b[0m\n",
            "\u001b[?25h  Building wheel for pyod (setup.py) ... \u001b[?25l\u001b[?25hdone\n",
            "  Building wheel for stringcase (setup.py) ... \u001b[?25l\u001b[?25hdone\n",
            "\u001b[31mERROR: pip's dependency resolver does not currently take into account all the packages that are installed. This behaviour is the source of the following dependency conflicts.\n",
            "google-colab 1.0.0 requires pandas==2.2.2, but you have pandas 2.1.4 which is incompatible.\n",
            "mizani 0.13.1 requires pandas>=2.2.0, but you have pandas 2.1.4 which is incompatible.\n",
            "plotnine 0.14.5 requires matplotlib>=3.8.0, but you have matplotlib 3.7.5 which is incompatible.\n",
            "plotnine 0.14.5 requires pandas>=2.2.0, but you have pandas 2.1.4 which is incompatible.\u001b[0m\u001b[31m\n",
            "\u001b[0m"
          ]
        }
      ]
    },
    {
      "cell_type": "code",
      "source": [
        "# <> ------------------------------------------------------\n",
        "# <> Verificando se o pacote foi instalado\n",
        "%pip show pycaret"
      ],
      "metadata": {
        "id": "tB60kmrKM_GM",
        "colab": {
          "base_uri": "https://localhost:8080/"
        },
        "outputId": "9a6fef6e-fdb8-4b06-a88e-bcc429ec2c37"
      },
      "execution_count": null,
      "outputs": [
        {
          "output_type": "stream",
          "name": "stdout",
          "text": [
            "Name: pycaret\n",
            "Version: 3.3.2\n",
            "Summary: PyCaret - An open source, low-code machine learning library in Python.\n",
            "Home-page: https://github.com/pycaret/pycaret\n",
            "Author: Moez Ali\n",
            "Author-email: moez.ali@queensu.ca\n",
            "License: MIT\n",
            "Location: /usr/local/lib/python3.11/dist-packages\n",
            "Requires: category-encoders, cloudpickle, deprecation, imbalanced-learn, importlib-metadata, ipython, ipywidgets, jinja2, joblib, kaleido, lightgbm, markupsafe, matplotlib, nbformat, numba, numpy, pandas, plotly, plotly-resampler, pmdarima, psutil, pyod, requests, schemdraw, scikit-learn, scikit-plot, scipy, sktime, statsmodels, tbats, tqdm, wurlitzer, xxhash, yellowbrick\n",
            "Required-by: \n"
          ]
        }
      ]
    },
    {
      "cell_type": "code",
      "source": [
        "# <> -----------------------------------------------------\n",
        "# Lendo as bibliotecas necessárias\n",
        "\n",
        "# <> -----------------------------\n",
        "# <> Bibliotecas dos algoritmos\n",
        "from pycaret.classification import *\n",
        "from sklearn.tree import plot_tree\n",
        "from sklearn.metrics import confusion_matrix, accuracy_score, cohen_kappa_score, classification_report\n",
        "from sklearn.tree import export_text\n",
        "from sklearn.model_selection import train_test_split\n",
        "from scipy import stats\n",
        "import numpy as np\n",
        "from pycaret.classification import setup, create_model, tune_model, compare_models, predict_model\n",
        "from sklearn.preprocessing import LabelEncoder, StandardScaler\n",
        "from sklearn.tree import DecisionTreeClassifier\n",
        "\n",
        "# <> Bibliotecas de Visualização\n",
        "import seaborn as sns\n",
        "import matplotlib.pyplot as plt\n",
        "\n",
        "# <> Biliotecas para manipulação com dados\n",
        "import pandas as pd\n",
        "from sklearn.preprocessing import LabelEncoder\n"
      ],
      "metadata": {
        "id": "JWGEpYwrg4pj"
      },
      "execution_count": 1,
      "outputs": []
    },
    {
      "cell_type": "markdown",
      "source": [
        "#### Forma 1 - Utilizando dados separados para treino e teste manualmente"
      ],
      "metadata": {
        "id": "wt8YI9a6atko"
      }
    },
    {
      "cell_type": "markdown",
      "source": [
        "### Variáveis:\n",
        "\n",
        "\n",
        "- **A**: Representa a altura da árvore (em metros).\n",
        "\n",
        "- **B**: Representa a largura da árvore (em metros).\n",
        "\n",
        "- **Class**: Representa o tipo de planta."
      ],
      "metadata": {
        "id": "QH-fsMk1lE8A"
      }
    },
    {
      "cell_type": "code",
      "source": [
        "url_data = '/content/student_admission_record_dirty.csv'  # Caminho do dataset\n",
        "\n",
        "df = pd.read_csv(url_data)"
      ],
      "metadata": {
        "id": "xtvRR2y8a0QF"
      },
      "execution_count": 2,
      "outputs": []
    },
    {
      "cell_type": "code",
      "source": [
        "# Remover colunas que não interessam--------\n",
        "df.drop(columns=['Name','City'], inplace=True)\n",
        "\n",
        "# Corrigir valores negativos\n",
        "df.loc[df['Age'] < 0, 'Age'] = None\n",
        "df.loc[df['Admission Test Score'] < 0, 'Admission Test Score'] = None\n",
        "df.loc[df['High School Percentage'] < 0, 'High School Percentage'] = None\n",
        "\n",
        "# Remover outliers extremos\n",
        "percentile_99 = df[['Admission Test Score', 'High School Percentage']].quantile(0.99)\n",
        "df = df[(df['Admission Test Score'] <= percentile_99['Admission Test Score']) &\n",
        "        (df['High School Percentage'] <= percentile_99['High School Percentage'])]\n",
        "\n",
        "# Preencher valores ausentes com a mediana para números e moda para categorias\n",
        "df.fillna({'Age': df['Age'].median(),\n",
        "           'Admission Test Score': df['Admission Test Score'].median(),\n",
        "           'High School Percentage': df['High School Percentage'].median(),\n",
        "           'Gender': df['Gender'].mode()[0],\n",
        "           'Admission Status': df['Admission Status'].mode()[0]}, inplace=True)\n",
        "\n",
        "# Remover registros onde Admission Status está ausente\n",
        "df.dropna(subset=['Admission Status'], inplace=True)\n",
        "\n",
        "# Converter variáveis categóricas para numéricas\n",
        "label_encoder = LabelEncoder()\n",
        "df['Gender'] = label_encoder.fit_transform(df['Gender'])"
      ],
      "metadata": {
        "id": "IN5PHprot-vD"
      },
      "execution_count": 3,
      "outputs": []
    },
    {
      "cell_type": "code",
      "source": [
        "df.dtypes"
      ],
      "metadata": {
        "colab": {
          "base_uri": "https://localhost:8080/",
          "height": 241
        },
        "id": "FecPgfJn_y3k",
        "outputId": "38a01d8c-6691-4fd7-bfff-902be76e2ce5"
      },
      "execution_count": 4,
      "outputs": [
        {
          "output_type": "execute_result",
          "data": {
            "text/plain": [
              "Age                       float64\n",
              "Gender                      int64\n",
              "Admission Test Score      float64\n",
              "High School Percentage    float64\n",
              "Admission Status           object\n",
              "dtype: object"
            ],
            "text/html": [
              "<div>\n",
              "<style scoped>\n",
              "    .dataframe tbody tr th:only-of-type {\n",
              "        vertical-align: middle;\n",
              "    }\n",
              "\n",
              "    .dataframe tbody tr th {\n",
              "        vertical-align: top;\n",
              "    }\n",
              "\n",
              "    .dataframe thead th {\n",
              "        text-align: right;\n",
              "    }\n",
              "</style>\n",
              "<table border=\"1\" class=\"dataframe\">\n",
              "  <thead>\n",
              "    <tr style=\"text-align: right;\">\n",
              "      <th></th>\n",
              "      <th>0</th>\n",
              "    </tr>\n",
              "  </thead>\n",
              "  <tbody>\n",
              "    <tr>\n",
              "      <th>Age</th>\n",
              "      <td>float64</td>\n",
              "    </tr>\n",
              "    <tr>\n",
              "      <th>Gender</th>\n",
              "      <td>int64</td>\n",
              "    </tr>\n",
              "    <tr>\n",
              "      <th>Admission Test Score</th>\n",
              "      <td>float64</td>\n",
              "    </tr>\n",
              "    <tr>\n",
              "      <th>High School Percentage</th>\n",
              "      <td>float64</td>\n",
              "    </tr>\n",
              "    <tr>\n",
              "      <th>Admission Status</th>\n",
              "      <td>object</td>\n",
              "    </tr>\n",
              "  </tbody>\n",
              "</table>\n",
              "</div><br><label><b>dtype:</b> object</label>"
            ]
          },
          "metadata": {},
          "execution_count": 4
        }
      ]
    },
    {
      "cell_type": "code",
      "source": [
        "df.head()"
      ],
      "metadata": {
        "colab": {
          "base_uri": "https://localhost:8080/",
          "height": 206
        },
        "id": "93LHAY7eWoMA",
        "outputId": "55c461f2-b27c-4ab1-87a3-709db60604b6"
      },
      "execution_count": 5,
      "outputs": [
        {
          "output_type": "execute_result",
          "data": {
            "text/plain": [
              "    Age  Gender  Admission Test Score  High School Percentage Admission Status\n",
              "0  24.0       0                  50.0                   68.90         Rejected\n",
              "1  21.0       0                  99.0                   60.73         Rejected\n",
              "3  17.0       1                  55.0                   85.29         Rejected\n",
              "4  20.0       1                  65.0                   61.13         Rejected\n",
              "7  20.0       0                  82.0                   55.67         Accepted"
            ],
            "text/html": [
              "\n",
              "  <div id=\"df-f4df85ee-b7b7-421e-8147-841e012ac496\" class=\"colab-df-container\">\n",
              "    <div>\n",
              "<style scoped>\n",
              "    .dataframe tbody tr th:only-of-type {\n",
              "        vertical-align: middle;\n",
              "    }\n",
              "\n",
              "    .dataframe tbody tr th {\n",
              "        vertical-align: top;\n",
              "    }\n",
              "\n",
              "    .dataframe thead th {\n",
              "        text-align: right;\n",
              "    }\n",
              "</style>\n",
              "<table border=\"1\" class=\"dataframe\">\n",
              "  <thead>\n",
              "    <tr style=\"text-align: right;\">\n",
              "      <th></th>\n",
              "      <th>Age</th>\n",
              "      <th>Gender</th>\n",
              "      <th>Admission Test Score</th>\n",
              "      <th>High School Percentage</th>\n",
              "      <th>Admission Status</th>\n",
              "    </tr>\n",
              "  </thead>\n",
              "  <tbody>\n",
              "    <tr>\n",
              "      <th>0</th>\n",
              "      <td>24.0</td>\n",
              "      <td>0</td>\n",
              "      <td>50.0</td>\n",
              "      <td>68.90</td>\n",
              "      <td>Rejected</td>\n",
              "    </tr>\n",
              "    <tr>\n",
              "      <th>1</th>\n",
              "      <td>21.0</td>\n",
              "      <td>0</td>\n",
              "      <td>99.0</td>\n",
              "      <td>60.73</td>\n",
              "      <td>Rejected</td>\n",
              "    </tr>\n",
              "    <tr>\n",
              "      <th>3</th>\n",
              "      <td>17.0</td>\n",
              "      <td>1</td>\n",
              "      <td>55.0</td>\n",
              "      <td>85.29</td>\n",
              "      <td>Rejected</td>\n",
              "    </tr>\n",
              "    <tr>\n",
              "      <th>4</th>\n",
              "      <td>20.0</td>\n",
              "      <td>1</td>\n",
              "      <td>65.0</td>\n",
              "      <td>61.13</td>\n",
              "      <td>Rejected</td>\n",
              "    </tr>\n",
              "    <tr>\n",
              "      <th>7</th>\n",
              "      <td>20.0</td>\n",
              "      <td>0</td>\n",
              "      <td>82.0</td>\n",
              "      <td>55.67</td>\n",
              "      <td>Accepted</td>\n",
              "    </tr>\n",
              "  </tbody>\n",
              "</table>\n",
              "</div>\n",
              "    <div class=\"colab-df-buttons\">\n",
              "\n",
              "  <div class=\"colab-df-container\">\n",
              "    <button class=\"colab-df-convert\" onclick=\"convertToInteractive('df-f4df85ee-b7b7-421e-8147-841e012ac496')\"\n",
              "            title=\"Convert this dataframe to an interactive table.\"\n",
              "            style=\"display:none;\">\n",
              "\n",
              "  <svg xmlns=\"http://www.w3.org/2000/svg\" height=\"24px\" viewBox=\"0 -960 960 960\">\n",
              "    <path d=\"M120-120v-720h720v720H120Zm60-500h600v-160H180v160Zm220 220h160v-160H400v160Zm0 220h160v-160H400v160ZM180-400h160v-160H180v160Zm440 0h160v-160H620v160ZM180-180h160v-160H180v160Zm440 0h160v-160H620v160Z\"/>\n",
              "  </svg>\n",
              "    </button>\n",
              "\n",
              "  <style>\n",
              "    .colab-df-container {\n",
              "      display:flex;\n",
              "      gap: 12px;\n",
              "    }\n",
              "\n",
              "    .colab-df-convert {\n",
              "      background-color: #E8F0FE;\n",
              "      border: none;\n",
              "      border-radius: 50%;\n",
              "      cursor: pointer;\n",
              "      display: none;\n",
              "      fill: #1967D2;\n",
              "      height: 32px;\n",
              "      padding: 0 0 0 0;\n",
              "      width: 32px;\n",
              "    }\n",
              "\n",
              "    .colab-df-convert:hover {\n",
              "      background-color: #E2EBFA;\n",
              "      box-shadow: 0px 1px 2px rgba(60, 64, 67, 0.3), 0px 1px 3px 1px rgba(60, 64, 67, 0.15);\n",
              "      fill: #174EA6;\n",
              "    }\n",
              "\n",
              "    .colab-df-buttons div {\n",
              "      margin-bottom: 4px;\n",
              "    }\n",
              "\n",
              "    [theme=dark] .colab-df-convert {\n",
              "      background-color: #3B4455;\n",
              "      fill: #D2E3FC;\n",
              "    }\n",
              "\n",
              "    [theme=dark] .colab-df-convert:hover {\n",
              "      background-color: #434B5C;\n",
              "      box-shadow: 0px 1px 3px 1px rgba(0, 0, 0, 0.15);\n",
              "      filter: drop-shadow(0px 1px 2px rgba(0, 0, 0, 0.3));\n",
              "      fill: #FFFFFF;\n",
              "    }\n",
              "  </style>\n",
              "\n",
              "    <script>\n",
              "      const buttonEl =\n",
              "        document.querySelector('#df-f4df85ee-b7b7-421e-8147-841e012ac496 button.colab-df-convert');\n",
              "      buttonEl.style.display =\n",
              "        google.colab.kernel.accessAllowed ? 'block' : 'none';\n",
              "\n",
              "      async function convertToInteractive(key) {\n",
              "        const element = document.querySelector('#df-f4df85ee-b7b7-421e-8147-841e012ac496');\n",
              "        const dataTable =\n",
              "          await google.colab.kernel.invokeFunction('convertToInteractive',\n",
              "                                                    [key], {});\n",
              "        if (!dataTable) return;\n",
              "\n",
              "        const docLinkHtml = 'Like what you see? Visit the ' +\n",
              "          '<a target=\"_blank\" href=https://colab.research.google.com/notebooks/data_table.ipynb>data table notebook</a>'\n",
              "          + ' to learn more about interactive tables.';\n",
              "        element.innerHTML = '';\n",
              "        dataTable['output_type'] = 'display_data';\n",
              "        await google.colab.output.renderOutput(dataTable, element);\n",
              "        const docLink = document.createElement('div');\n",
              "        docLink.innerHTML = docLinkHtml;\n",
              "        element.appendChild(docLink);\n",
              "      }\n",
              "    </script>\n",
              "  </div>\n",
              "\n",
              "\n",
              "<div id=\"df-f75a39a9-0afe-4e13-a2b6-86bfa52ca9c5\">\n",
              "  <button class=\"colab-df-quickchart\" onclick=\"quickchart('df-f75a39a9-0afe-4e13-a2b6-86bfa52ca9c5')\"\n",
              "            title=\"Suggest charts\"\n",
              "            style=\"display:none;\">\n",
              "\n",
              "<svg xmlns=\"http://www.w3.org/2000/svg\" height=\"24px\"viewBox=\"0 0 24 24\"\n",
              "     width=\"24px\">\n",
              "    <g>\n",
              "        <path d=\"M19 3H5c-1.1 0-2 .9-2 2v14c0 1.1.9 2 2 2h14c1.1 0 2-.9 2-2V5c0-1.1-.9-2-2-2zM9 17H7v-7h2v7zm4 0h-2V7h2v10zm4 0h-2v-4h2v4z\"/>\n",
              "    </g>\n",
              "</svg>\n",
              "  </button>\n",
              "\n",
              "<style>\n",
              "  .colab-df-quickchart {\n",
              "      --bg-color: #E8F0FE;\n",
              "      --fill-color: #1967D2;\n",
              "      --hover-bg-color: #E2EBFA;\n",
              "      --hover-fill-color: #174EA6;\n",
              "      --disabled-fill-color: #AAA;\n",
              "      --disabled-bg-color: #DDD;\n",
              "  }\n",
              "\n",
              "  [theme=dark] .colab-df-quickchart {\n",
              "      --bg-color: #3B4455;\n",
              "      --fill-color: #D2E3FC;\n",
              "      --hover-bg-color: #434B5C;\n",
              "      --hover-fill-color: #FFFFFF;\n",
              "      --disabled-bg-color: #3B4455;\n",
              "      --disabled-fill-color: #666;\n",
              "  }\n",
              "\n",
              "  .colab-df-quickchart {\n",
              "    background-color: var(--bg-color);\n",
              "    border: none;\n",
              "    border-radius: 50%;\n",
              "    cursor: pointer;\n",
              "    display: none;\n",
              "    fill: var(--fill-color);\n",
              "    height: 32px;\n",
              "    padding: 0;\n",
              "    width: 32px;\n",
              "  }\n",
              "\n",
              "  .colab-df-quickchart:hover {\n",
              "    background-color: var(--hover-bg-color);\n",
              "    box-shadow: 0 1px 2px rgba(60, 64, 67, 0.3), 0 1px 3px 1px rgba(60, 64, 67, 0.15);\n",
              "    fill: var(--button-hover-fill-color);\n",
              "  }\n",
              "\n",
              "  .colab-df-quickchart-complete:disabled,\n",
              "  .colab-df-quickchart-complete:disabled:hover {\n",
              "    background-color: var(--disabled-bg-color);\n",
              "    fill: var(--disabled-fill-color);\n",
              "    box-shadow: none;\n",
              "  }\n",
              "\n",
              "  .colab-df-spinner {\n",
              "    border: 2px solid var(--fill-color);\n",
              "    border-color: transparent;\n",
              "    border-bottom-color: var(--fill-color);\n",
              "    animation:\n",
              "      spin 1s steps(1) infinite;\n",
              "  }\n",
              "\n",
              "  @keyframes spin {\n",
              "    0% {\n",
              "      border-color: transparent;\n",
              "      border-bottom-color: var(--fill-color);\n",
              "      border-left-color: var(--fill-color);\n",
              "    }\n",
              "    20% {\n",
              "      border-color: transparent;\n",
              "      border-left-color: var(--fill-color);\n",
              "      border-top-color: var(--fill-color);\n",
              "    }\n",
              "    30% {\n",
              "      border-color: transparent;\n",
              "      border-left-color: var(--fill-color);\n",
              "      border-top-color: var(--fill-color);\n",
              "      border-right-color: var(--fill-color);\n",
              "    }\n",
              "    40% {\n",
              "      border-color: transparent;\n",
              "      border-right-color: var(--fill-color);\n",
              "      border-top-color: var(--fill-color);\n",
              "    }\n",
              "    60% {\n",
              "      border-color: transparent;\n",
              "      border-right-color: var(--fill-color);\n",
              "    }\n",
              "    80% {\n",
              "      border-color: transparent;\n",
              "      border-right-color: var(--fill-color);\n",
              "      border-bottom-color: var(--fill-color);\n",
              "    }\n",
              "    90% {\n",
              "      border-color: transparent;\n",
              "      border-bottom-color: var(--fill-color);\n",
              "    }\n",
              "  }\n",
              "</style>\n",
              "\n",
              "  <script>\n",
              "    async function quickchart(key) {\n",
              "      const quickchartButtonEl =\n",
              "        document.querySelector('#' + key + ' button');\n",
              "      quickchartButtonEl.disabled = true;  // To prevent multiple clicks.\n",
              "      quickchartButtonEl.classList.add('colab-df-spinner');\n",
              "      try {\n",
              "        const charts = await google.colab.kernel.invokeFunction(\n",
              "            'suggestCharts', [key], {});\n",
              "      } catch (error) {\n",
              "        console.error('Error during call to suggestCharts:', error);\n",
              "      }\n",
              "      quickchartButtonEl.classList.remove('colab-df-spinner');\n",
              "      quickchartButtonEl.classList.add('colab-df-quickchart-complete');\n",
              "    }\n",
              "    (() => {\n",
              "      let quickchartButtonEl =\n",
              "        document.querySelector('#df-f75a39a9-0afe-4e13-a2b6-86bfa52ca9c5 button');\n",
              "      quickchartButtonEl.style.display =\n",
              "        google.colab.kernel.accessAllowed ? 'block' : 'none';\n",
              "    })();\n",
              "  </script>\n",
              "</div>\n",
              "\n",
              "    </div>\n",
              "  </div>\n"
            ],
            "application/vnd.google.colaboratory.intrinsic+json": {
              "type": "dataframe",
              "variable_name": "df",
              "summary": "{\n  \"name\": \"df\",\n  \"rows\": 131,\n  \"fields\": [\n    {\n      \"column\": \"Age\",\n      \"properties\": {\n        \"dtype\": \"number\",\n        \"std\": 2.2796039667997623,\n        \"min\": 17.0,\n        \"max\": 24.0,\n        \"num_unique_values\": 8,\n        \"samples\": [\n          21.0,\n          19.0,\n          24.0\n        ],\n        \"semantic_type\": \"\",\n        \"description\": \"\"\n      }\n    },\n    {\n      \"column\": \"Gender\",\n      \"properties\": {\n        \"dtype\": \"number\",\n        \"std\": 0,\n        \"min\": 0,\n        \"max\": 1,\n        \"num_unique_values\": 2,\n        \"samples\": [\n          1,\n          0\n        ],\n        \"semantic_type\": \"\",\n        \"description\": \"\"\n      }\n    },\n    {\n      \"column\": \"Admission Test Score\",\n      \"properties\": {\n        \"dtype\": \"number\",\n        \"std\": 14.05707683971832,\n        \"min\": 50.0,\n        \"max\": 99.0,\n        \"num_unique_values\": 44,\n        \"samples\": [\n          81.0,\n          68.0\n        ],\n        \"semantic_type\": \"\",\n        \"description\": \"\"\n      }\n    },\n    {\n      \"column\": \"High School Percentage\",\n      \"properties\": {\n        \"dtype\": \"number\",\n        \"std\": 14.25088955243914,\n        \"min\": 40.7,\n        \"max\": 98.98,\n        \"num_unique_values\": 118,\n        \"samples\": [\n          63.04,\n          67.32\n        ],\n        \"semantic_type\": \"\",\n        \"description\": \"\"\n      }\n    },\n    {\n      \"column\": \"Admission Status\",\n      \"properties\": {\n        \"dtype\": \"category\",\n        \"num_unique_values\": 2,\n        \"samples\": [\n          \"Accepted\",\n          \"Rejected\"\n        ],\n        \"semantic_type\": \"\",\n        \"description\": \"\"\n      }\n    }\n  ]\n}"
            }
          },
          "metadata": {},
          "execution_count": 5
        }
      ]
    },
    {
      "cell_type": "code",
      "source": [
        "# Now, proceed with train_test_split\n",
        "df_train, df_test = train_test_split(df, test_size=0.2, random_state=123, stratify=df['Admission Status'])"
      ],
      "metadata": {
        "id": "88ODjtmAcDef"
      },
      "execution_count": 6,
      "outputs": []
    },
    {
      "cell_type": "code",
      "source": [
        "# Validar tamanhos\n",
        "print(\"Tamanho treino:\", len(df_train))\n",
        "print(\"Tamanho teste:\", len(df_test))"
      ],
      "metadata": {
        "colab": {
          "base_uri": "https://localhost:8080/"
        },
        "id": "FnDN1o9X5rkN",
        "outputId": "1a4ba8e3-211d-47cb-c201-c570ec24bdf2"
      },
      "execution_count": 7,
      "outputs": [
        {
          "output_type": "stream",
          "name": "stdout",
          "text": [
            "Tamanho treino: 104\n",
            "Tamanho teste: 27\n"
          ]
        }
      ]
    },
    {
      "cell_type": "code",
      "source": [
        "# Configurar PyCaret\n",
        "cdt = setup(data=df_train, target='Admission Status', session_id=123, fix_imbalance=True, normalize=True)\n"
      ],
      "metadata": {
        "colab": {
          "base_uri": "https://localhost:8080/",
          "height": 802
        },
        "id": "MvFatatZR-aW",
        "outputId": "fcc6dec5-e689-4977-9e6c-bcaf4f9787b3"
      },
      "execution_count": 8,
      "outputs": [
        {
          "output_type": "display_data",
          "data": {
            "text/plain": [
              "<pandas.io.formats.style.Styler at 0x7f18e68187d0>"
            ],
            "text/html": [
              "<style type=\"text/css\">\n",
              "#T_23620_row9_col1, #T_23620_row13_col1, #T_23620_row15_col1 {\n",
              "  background-color: lightgreen;\n",
              "}\n",
              "</style>\n",
              "<table id=\"T_23620\" class=\"dataframe\">\n",
              "  <thead>\n",
              "    <tr>\n",
              "      <th class=\"blank level0\" >&nbsp;</th>\n",
              "      <th id=\"T_23620_level0_col0\" class=\"col_heading level0 col0\" >Description</th>\n",
              "      <th id=\"T_23620_level0_col1\" class=\"col_heading level0 col1\" >Value</th>\n",
              "    </tr>\n",
              "  </thead>\n",
              "  <tbody>\n",
              "    <tr>\n",
              "      <th id=\"T_23620_level0_row0\" class=\"row_heading level0 row0\" >0</th>\n",
              "      <td id=\"T_23620_row0_col0\" class=\"data row0 col0\" >Session id</td>\n",
              "      <td id=\"T_23620_row0_col1\" class=\"data row0 col1\" >123</td>\n",
              "    </tr>\n",
              "    <tr>\n",
              "      <th id=\"T_23620_level0_row1\" class=\"row_heading level0 row1\" >1</th>\n",
              "      <td id=\"T_23620_row1_col0\" class=\"data row1 col0\" >Target</td>\n",
              "      <td id=\"T_23620_row1_col1\" class=\"data row1 col1\" >Admission Status</td>\n",
              "    </tr>\n",
              "    <tr>\n",
              "      <th id=\"T_23620_level0_row2\" class=\"row_heading level0 row2\" >2</th>\n",
              "      <td id=\"T_23620_row2_col0\" class=\"data row2 col0\" >Target type</td>\n",
              "      <td id=\"T_23620_row2_col1\" class=\"data row2 col1\" >Binary</td>\n",
              "    </tr>\n",
              "    <tr>\n",
              "      <th id=\"T_23620_level0_row3\" class=\"row_heading level0 row3\" >3</th>\n",
              "      <td id=\"T_23620_row3_col0\" class=\"data row3 col0\" >Target mapping</td>\n",
              "      <td id=\"T_23620_row3_col1\" class=\"data row3 col1\" >Accepted: 0, Rejected: 1</td>\n",
              "    </tr>\n",
              "    <tr>\n",
              "      <th id=\"T_23620_level0_row4\" class=\"row_heading level0 row4\" >4</th>\n",
              "      <td id=\"T_23620_row4_col0\" class=\"data row4 col0\" >Original data shape</td>\n",
              "      <td id=\"T_23620_row4_col1\" class=\"data row4 col1\" >(104, 5)</td>\n",
              "    </tr>\n",
              "    <tr>\n",
              "      <th id=\"T_23620_level0_row5\" class=\"row_heading level0 row5\" >5</th>\n",
              "      <td id=\"T_23620_row5_col0\" class=\"data row5 col0\" >Transformed data shape</td>\n",
              "      <td id=\"T_23620_row5_col1\" class=\"data row5 col1\" >(110, 5)</td>\n",
              "    </tr>\n",
              "    <tr>\n",
              "      <th id=\"T_23620_level0_row6\" class=\"row_heading level0 row6\" >6</th>\n",
              "      <td id=\"T_23620_row6_col0\" class=\"data row6 col0\" >Transformed train set shape</td>\n",
              "      <td id=\"T_23620_row6_col1\" class=\"data row6 col1\" >(78, 5)</td>\n",
              "    </tr>\n",
              "    <tr>\n",
              "      <th id=\"T_23620_level0_row7\" class=\"row_heading level0 row7\" >7</th>\n",
              "      <td id=\"T_23620_row7_col0\" class=\"data row7 col0\" >Transformed test set shape</td>\n",
              "      <td id=\"T_23620_row7_col1\" class=\"data row7 col1\" >(32, 5)</td>\n",
              "    </tr>\n",
              "    <tr>\n",
              "      <th id=\"T_23620_level0_row8\" class=\"row_heading level0 row8\" >8</th>\n",
              "      <td id=\"T_23620_row8_col0\" class=\"data row8 col0\" >Numeric features</td>\n",
              "      <td id=\"T_23620_row8_col1\" class=\"data row8 col1\" >4</td>\n",
              "    </tr>\n",
              "    <tr>\n",
              "      <th id=\"T_23620_level0_row9\" class=\"row_heading level0 row9\" >9</th>\n",
              "      <td id=\"T_23620_row9_col0\" class=\"data row9 col0\" >Preprocess</td>\n",
              "      <td id=\"T_23620_row9_col1\" class=\"data row9 col1\" >True</td>\n",
              "    </tr>\n",
              "    <tr>\n",
              "      <th id=\"T_23620_level0_row10\" class=\"row_heading level0 row10\" >10</th>\n",
              "      <td id=\"T_23620_row10_col0\" class=\"data row10 col0\" >Imputation type</td>\n",
              "      <td id=\"T_23620_row10_col1\" class=\"data row10 col1\" >simple</td>\n",
              "    </tr>\n",
              "    <tr>\n",
              "      <th id=\"T_23620_level0_row11\" class=\"row_heading level0 row11\" >11</th>\n",
              "      <td id=\"T_23620_row11_col0\" class=\"data row11 col0\" >Numeric imputation</td>\n",
              "      <td id=\"T_23620_row11_col1\" class=\"data row11 col1\" >mean</td>\n",
              "    </tr>\n",
              "    <tr>\n",
              "      <th id=\"T_23620_level0_row12\" class=\"row_heading level0 row12\" >12</th>\n",
              "      <td id=\"T_23620_row12_col0\" class=\"data row12 col0\" >Categorical imputation</td>\n",
              "      <td id=\"T_23620_row12_col1\" class=\"data row12 col1\" >mode</td>\n",
              "    </tr>\n",
              "    <tr>\n",
              "      <th id=\"T_23620_level0_row13\" class=\"row_heading level0 row13\" >13</th>\n",
              "      <td id=\"T_23620_row13_col0\" class=\"data row13 col0\" >Fix imbalance</td>\n",
              "      <td id=\"T_23620_row13_col1\" class=\"data row13 col1\" >True</td>\n",
              "    </tr>\n",
              "    <tr>\n",
              "      <th id=\"T_23620_level0_row14\" class=\"row_heading level0 row14\" >14</th>\n",
              "      <td id=\"T_23620_row14_col0\" class=\"data row14 col0\" >Fix imbalance method</td>\n",
              "      <td id=\"T_23620_row14_col1\" class=\"data row14 col1\" >SMOTE</td>\n",
              "    </tr>\n",
              "    <tr>\n",
              "      <th id=\"T_23620_level0_row15\" class=\"row_heading level0 row15\" >15</th>\n",
              "      <td id=\"T_23620_row15_col0\" class=\"data row15 col0\" >Normalize</td>\n",
              "      <td id=\"T_23620_row15_col1\" class=\"data row15 col1\" >True</td>\n",
              "    </tr>\n",
              "    <tr>\n",
              "      <th id=\"T_23620_level0_row16\" class=\"row_heading level0 row16\" >16</th>\n",
              "      <td id=\"T_23620_row16_col0\" class=\"data row16 col0\" >Normalize method</td>\n",
              "      <td id=\"T_23620_row16_col1\" class=\"data row16 col1\" >zscore</td>\n",
              "    </tr>\n",
              "    <tr>\n",
              "      <th id=\"T_23620_level0_row17\" class=\"row_heading level0 row17\" >17</th>\n",
              "      <td id=\"T_23620_row17_col0\" class=\"data row17 col0\" >Fold Generator</td>\n",
              "      <td id=\"T_23620_row17_col1\" class=\"data row17 col1\" >StratifiedKFold</td>\n",
              "    </tr>\n",
              "    <tr>\n",
              "      <th id=\"T_23620_level0_row18\" class=\"row_heading level0 row18\" >18</th>\n",
              "      <td id=\"T_23620_row18_col0\" class=\"data row18 col0\" >Fold Number</td>\n",
              "      <td id=\"T_23620_row18_col1\" class=\"data row18 col1\" >10</td>\n",
              "    </tr>\n",
              "    <tr>\n",
              "      <th id=\"T_23620_level0_row19\" class=\"row_heading level0 row19\" >19</th>\n",
              "      <td id=\"T_23620_row19_col0\" class=\"data row19 col0\" >CPU Jobs</td>\n",
              "      <td id=\"T_23620_row19_col1\" class=\"data row19 col1\" >-1</td>\n",
              "    </tr>\n",
              "    <tr>\n",
              "      <th id=\"T_23620_level0_row20\" class=\"row_heading level0 row20\" >20</th>\n",
              "      <td id=\"T_23620_row20_col0\" class=\"data row20 col0\" >Use GPU</td>\n",
              "      <td id=\"T_23620_row20_col1\" class=\"data row20 col1\" >False</td>\n",
              "    </tr>\n",
              "    <tr>\n",
              "      <th id=\"T_23620_level0_row21\" class=\"row_heading level0 row21\" >21</th>\n",
              "      <td id=\"T_23620_row21_col0\" class=\"data row21 col0\" >Log Experiment</td>\n",
              "      <td id=\"T_23620_row21_col1\" class=\"data row21 col1\" >False</td>\n",
              "    </tr>\n",
              "    <tr>\n",
              "      <th id=\"T_23620_level0_row22\" class=\"row_heading level0 row22\" >22</th>\n",
              "      <td id=\"T_23620_row22_col0\" class=\"data row22 col0\" >Experiment Name</td>\n",
              "      <td id=\"T_23620_row22_col1\" class=\"data row22 col1\" >clf-default-name</td>\n",
              "    </tr>\n",
              "    <tr>\n",
              "      <th id=\"T_23620_level0_row23\" class=\"row_heading level0 row23\" >23</th>\n",
              "      <td id=\"T_23620_row23_col0\" class=\"data row23 col0\" >USI</td>\n",
              "      <td id=\"T_23620_row23_col1\" class=\"data row23 col1\" >424e</td>\n",
              "    </tr>\n",
              "  </tbody>\n",
              "</table>\n"
            ]
          },
          "metadata": {}
        }
      ]
    },
    {
      "cell_type": "markdown",
      "source": [
        "Resumo das Métricas:\n",
        "\n",
        "- **Accuracy**: Mede a taxa de acerto geral.\n",
        "\n",
        "- **AUC**: Mede a capacidade de discriminação do modelo.\n",
        "\n",
        "- **Recall**: Mede a capacidade de identificar positivos reais.\n",
        "\n",
        "- **Precision**: Mede a confiabilidade das previsões positivas.\n",
        "\n",
        "- **F1**: Equilibra Precision e Recall.\n",
        "\n",
        "- **Kappa**: Mede a concordância ajustada ao acaso.\n",
        "\n",
        "- **MCC**: Mede a correlação entre previsões e valores reais, robusta a desbalanceamentos.\n",
        "\n"
      ],
      "metadata": {
        "id": "bLtZAVOYCER3"
      }
    },
    {
      "cell_type": "code",
      "source": [
        "# Criar modelo Decision Tree com validação cruzada (evita underfitting)\n",
        "decision_tree_model = create_model('dt', max_depth=4, min_samples_split=2, fold=5)"
      ],
      "metadata": {
        "colab": {
          "base_uri": "https://localhost:8080/",
          "height": 300,
          "referenced_widgets": [
            "81ef92cf6d0240428d6db1d31fc45a8e",
            "2e249fdfbd364d4e920a8b5e7a7da0fd",
            "e1283315eba04837b591537ed33fdbe8",
            "7c7c1d912a594027801b8ddbebc94190",
            "42940ec881a64efdb6fefe1e3c1e387d",
            "bd87881f05764266941aada14301e4ed",
            "3fd91cdeccd24225a0d4ec9065134774",
            "894cdc6273cc4bfe90ee2928341b9084",
            "c4293c252336408881db53f458cbe24a",
            "08058c85cdf84e278d1554a2319277e5",
            "983384bbcd7c4ce59f2d2e701941b2a9"
          ]
        },
        "id": "5Ao5iMFT8yAh",
        "outputId": "d25dbb07-20e1-4c86-8801-1a3b0ddbe2a9"
      },
      "execution_count": 9,
      "outputs": [
        {
          "output_type": "display_data",
          "data": {
            "text/plain": [
              "<IPython.core.display.HTML object>"
            ],
            "text/html": []
          },
          "metadata": {}
        },
        {
          "output_type": "display_data",
          "data": {
            "text/plain": [
              "<pandas.io.formats.style.Styler at 0x7f18e6765510>"
            ],
            "text/html": [
              "<style type=\"text/css\">\n",
              "#T_c5c93_row5_col0, #T_c5c93_row5_col1, #T_c5c93_row5_col2, #T_c5c93_row5_col3, #T_c5c93_row5_col4, #T_c5c93_row5_col5, #T_c5c93_row5_col6 {\n",
              "  background: yellow;\n",
              "}\n",
              "</style>\n",
              "<table id=\"T_c5c93\" class=\"dataframe\">\n",
              "  <thead>\n",
              "    <tr>\n",
              "      <th class=\"blank level0\" >&nbsp;</th>\n",
              "      <th id=\"T_c5c93_level0_col0\" class=\"col_heading level0 col0\" >Accuracy</th>\n",
              "      <th id=\"T_c5c93_level0_col1\" class=\"col_heading level0 col1\" >AUC</th>\n",
              "      <th id=\"T_c5c93_level0_col2\" class=\"col_heading level0 col2\" >Recall</th>\n",
              "      <th id=\"T_c5c93_level0_col3\" class=\"col_heading level0 col3\" >Prec.</th>\n",
              "      <th id=\"T_c5c93_level0_col4\" class=\"col_heading level0 col4\" >F1</th>\n",
              "      <th id=\"T_c5c93_level0_col5\" class=\"col_heading level0 col5\" >Kappa</th>\n",
              "      <th id=\"T_c5c93_level0_col6\" class=\"col_heading level0 col6\" >MCC</th>\n",
              "    </tr>\n",
              "    <tr>\n",
              "      <th class=\"index_name level0\" >Fold</th>\n",
              "      <th class=\"blank col0\" >&nbsp;</th>\n",
              "      <th class=\"blank col1\" >&nbsp;</th>\n",
              "      <th class=\"blank col2\" >&nbsp;</th>\n",
              "      <th class=\"blank col3\" >&nbsp;</th>\n",
              "      <th class=\"blank col4\" >&nbsp;</th>\n",
              "      <th class=\"blank col5\" >&nbsp;</th>\n",
              "      <th class=\"blank col6\" >&nbsp;</th>\n",
              "    </tr>\n",
              "  </thead>\n",
              "  <tbody>\n",
              "    <tr>\n",
              "      <th id=\"T_c5c93_level0_row0\" class=\"row_heading level0 row0\" >0</th>\n",
              "      <td id=\"T_c5c93_row0_col0\" class=\"data row0 col0\" >0.4667</td>\n",
              "      <td id=\"T_c5c93_row0_col1\" class=\"data row0 col1\" >0.5625</td>\n",
              "      <td id=\"T_c5c93_row0_col2\" class=\"data row0 col2\" >0.4667</td>\n",
              "      <td id=\"T_c5c93_row0_col3\" class=\"data row0 col3\" >0.4533</td>\n",
              "      <td id=\"T_c5c93_row0_col4\" class=\"data row0 col4\" >0.4519</td>\n",
              "      <td id=\"T_c5c93_row0_col5\" class=\"data row0 col5\" >-0.0909</td>\n",
              "      <td id=\"T_c5c93_row0_col6\" class=\"data row0 col6\" >-0.0945</td>\n",
              "    </tr>\n",
              "    <tr>\n",
              "      <th id=\"T_c5c93_level0_row1\" class=\"row_heading level0 row1\" >1</th>\n",
              "      <td id=\"T_c5c93_row1_col0\" class=\"data row1 col0\" >0.6667</td>\n",
              "      <td id=\"T_c5c93_row1_col1\" class=\"data row1 col1\" >0.6786</td>\n",
              "      <td id=\"T_c5c93_row1_col2\" class=\"data row1 col2\" >0.6667</td>\n",
              "      <td id=\"T_c5c93_row1_col3\" class=\"data row1 col3\" >0.6894</td>\n",
              "      <td id=\"T_c5c93_row1_col4\" class=\"data row1 col4\" >0.6475</td>\n",
              "      <td id=\"T_c5c93_row1_col5\" class=\"data row1 col5\" >0.3119</td>\n",
              "      <td id=\"T_c5c93_row1_col6\" class=\"data row1 col6\" >0.3425</td>\n",
              "    </tr>\n",
              "    <tr>\n",
              "      <th id=\"T_c5c93_level0_row2\" class=\"row_heading level0 row2\" >2</th>\n",
              "      <td id=\"T_c5c93_row2_col0\" class=\"data row2 col0\" >0.8571</td>\n",
              "      <td id=\"T_c5c93_row2_col1\" class=\"data row2 col1\" >0.9796</td>\n",
              "      <td id=\"T_c5c93_row2_col2\" class=\"data row2 col2\" >0.8571</td>\n",
              "      <td id=\"T_c5c93_row2_col3\" class=\"data row2 col3\" >0.8889</td>\n",
              "      <td id=\"T_c5c93_row2_col4\" class=\"data row2 col4\" >0.8542</td>\n",
              "      <td id=\"T_c5c93_row2_col5\" class=\"data row2 col5\" >0.7143</td>\n",
              "      <td id=\"T_c5c93_row2_col6\" class=\"data row2 col6\" >0.7454</td>\n",
              "    </tr>\n",
              "    <tr>\n",
              "      <th id=\"T_c5c93_level0_row3\" class=\"row_heading level0 row3\" >3</th>\n",
              "      <td id=\"T_c5c93_row3_col0\" class=\"data row3 col0\" >0.5000</td>\n",
              "      <td id=\"T_c5c93_row3_col1\" class=\"data row3 col1\" >0.4479</td>\n",
              "      <td id=\"T_c5c93_row3_col2\" class=\"data row3 col2\" >0.5000</td>\n",
              "      <td id=\"T_c5c93_row3_col3\" class=\"data row3 col3\" >0.5333</td>\n",
              "      <td id=\"T_c5c93_row3_col4\" class=\"data row3 col4\" >0.4923</td>\n",
              "      <td id=\"T_c5c93_row3_col5\" class=\"data row3 col5\" >0.0392</td>\n",
              "      <td id=\"T_c5c93_row3_col6\" class=\"data row3 col6\" >0.0430</td>\n",
              "    </tr>\n",
              "    <tr>\n",
              "      <th id=\"T_c5c93_level0_row4\" class=\"row_heading level0 row4\" >4</th>\n",
              "      <td id=\"T_c5c93_row4_col0\" class=\"data row4 col0\" >0.2143</td>\n",
              "      <td id=\"T_c5c93_row4_col1\" class=\"data row4 col1\" >0.0938</td>\n",
              "      <td id=\"T_c5c93_row4_col2\" class=\"data row4 col2\" >0.2143</td>\n",
              "      <td id=\"T_c5c93_row4_col3\" class=\"data row4 col3\" >0.1169</td>\n",
              "      <td id=\"T_c5c93_row4_col4\" class=\"data row4 col4\" >0.1513</td>\n",
              "      <td id=\"T_c5c93_row4_col5\" class=\"data row4 col5\" >-0.4528</td>\n",
              "      <td id=\"T_c5c93_row4_col6\" class=\"data row4 col6\" >-0.6030</td>\n",
              "    </tr>\n",
              "    <tr>\n",
              "      <th id=\"T_c5c93_level0_row5\" class=\"row_heading level0 row5\" >Mean</th>\n",
              "      <td id=\"T_c5c93_row5_col0\" class=\"data row5 col0\" >0.5410</td>\n",
              "      <td id=\"T_c5c93_row5_col1\" class=\"data row5 col1\" >0.5525</td>\n",
              "      <td id=\"T_c5c93_row5_col2\" class=\"data row5 col2\" >0.5410</td>\n",
              "      <td id=\"T_c5c93_row5_col3\" class=\"data row5 col3\" >0.5364</td>\n",
              "      <td id=\"T_c5c93_row5_col4\" class=\"data row5 col4\" >0.5194</td>\n",
              "      <td id=\"T_c5c93_row5_col5\" class=\"data row5 col5\" >0.1043</td>\n",
              "      <td id=\"T_c5c93_row5_col6\" class=\"data row5 col6\" >0.0867</td>\n",
              "    </tr>\n",
              "    <tr>\n",
              "      <th id=\"T_c5c93_level0_row6\" class=\"row_heading level0 row6\" >Std</th>\n",
              "      <td id=\"T_c5c93_row6_col0\" class=\"data row6 col0\" >0.2143</td>\n",
              "      <td id=\"T_c5c93_row6_col1\" class=\"data row6 col1\" >0.2898</td>\n",
              "      <td id=\"T_c5c93_row6_col2\" class=\"data row6 col2\" >0.2143</td>\n",
              "      <td id=\"T_c5c93_row6_col3\" class=\"data row6 col3\" >0.2571</td>\n",
              "      <td id=\"T_c5c93_row6_col4\" class=\"data row6 col4\" >0.2321</td>\n",
              "      <td id=\"T_c5c93_row6_col5\" class=\"data row6 col5\" >0.3919</td>\n",
              "      <td id=\"T_c5c93_row6_col6\" class=\"data row6 col6\" >0.4494</td>\n",
              "    </tr>\n",
              "  </tbody>\n",
              "</table>\n"
            ]
          },
          "metadata": {}
        },
        {
          "output_type": "display_data",
          "data": {
            "text/plain": [
              "Processing:   0%|          | 0/4 [00:00<?, ?it/s]"
            ],
            "application/vnd.jupyter.widget-view+json": {
              "version_major": 2,
              "version_minor": 0,
              "model_id": "81ef92cf6d0240428d6db1d31fc45a8e"
            }
          },
          "metadata": {
            "application/vnd.jupyter.widget-view+json": {
              "colab": {
                "custom_widget_manager": {
                  "url": "https://ssl.gstatic.com/colaboratory-static/widgets/colab-cdn-widget-manager/2b70e893a8ba7c0f/manager.min.js"
                }
              }
            }
          }
        },
        {
          "output_type": "display_data",
          "data": {
            "text/plain": [
              "<IPython.core.display.HTML object>"
            ],
            "text/html": []
          },
          "metadata": {}
        }
      ]
    },
    {
      "cell_type": "code",
      "source": [
        "# Testar modelo nos dados de teste (dados novos, sem \"contaminação\")\n",
        "test_predictions = predict_model(decision_tree_model, data=df_test)"
      ],
      "metadata": {
        "colab": {
          "base_uri": "https://localhost:8080/",
          "height": 81
        },
        "id": "nA8dBr7d4Ulc",
        "outputId": "3e889b2a-e668-4b17-b290-2410a62c1dbd"
      },
      "execution_count": 10,
      "outputs": [
        {
          "output_type": "display_data",
          "data": {
            "text/plain": [
              "<pandas.io.formats.style.Styler at 0x7f1a2dfab890>"
            ],
            "text/html": [
              "<style type=\"text/css\">\n",
              "</style>\n",
              "<table id=\"T_8803d\" class=\"dataframe\">\n",
              "  <thead>\n",
              "    <tr>\n",
              "      <th class=\"blank level0\" >&nbsp;</th>\n",
              "      <th id=\"T_8803d_level0_col0\" class=\"col_heading level0 col0\" >Model</th>\n",
              "      <th id=\"T_8803d_level0_col1\" class=\"col_heading level0 col1\" >Accuracy</th>\n",
              "      <th id=\"T_8803d_level0_col2\" class=\"col_heading level0 col2\" >AUC</th>\n",
              "      <th id=\"T_8803d_level0_col3\" class=\"col_heading level0 col3\" >Recall</th>\n",
              "      <th id=\"T_8803d_level0_col4\" class=\"col_heading level0 col4\" >Prec.</th>\n",
              "      <th id=\"T_8803d_level0_col5\" class=\"col_heading level0 col5\" >F1</th>\n",
              "      <th id=\"T_8803d_level0_col6\" class=\"col_heading level0 col6\" >Kappa</th>\n",
              "      <th id=\"T_8803d_level0_col7\" class=\"col_heading level0 col7\" >MCC</th>\n",
              "    </tr>\n",
              "  </thead>\n",
              "  <tbody>\n",
              "    <tr>\n",
              "      <th id=\"T_8803d_level0_row0\" class=\"row_heading level0 row0\" >0</th>\n",
              "      <td id=\"T_8803d_row0_col0\" class=\"data row0 col0\" >Decision Tree Classifier</td>\n",
              "      <td id=\"T_8803d_row0_col1\" class=\"data row0 col1\" >0.6296</td>\n",
              "      <td id=\"T_8803d_row0_col2\" class=\"data row0 col2\" >0.6099</td>\n",
              "      <td id=\"T_8803d_row0_col3\" class=\"data row0 col3\" >0.6296</td>\n",
              "      <td id=\"T_8803d_row0_col4\" class=\"data row0 col4\" >0.6305</td>\n",
              "      <td id=\"T_8803d_row0_col5\" class=\"data row0 col5\" >0.6265</td>\n",
              "      <td id=\"T_8803d_row0_col6\" class=\"data row0 col6\" >0.2541</td>\n",
              "      <td id=\"T_8803d_row0_col7\" class=\"data row0 col7\" >0.2570</td>\n",
              "    </tr>\n",
              "  </tbody>\n",
              "</table>\n"
            ]
          },
          "metadata": {}
        }
      ]
    },
    {
      "cell_type": "code",
      "source": [
        "# <> -----------------------------\n",
        "# <> Visualizando o modelo\n",
        "print(decision_tree_model)"
      ],
      "metadata": {
        "colab": {
          "base_uri": "https://localhost:8080/"
        },
        "id": "W2kIFK49SQN1",
        "outputId": "c750483f-8bf2-4d73-c759-70468cb26fa5"
      },
      "execution_count": 11,
      "outputs": [
        {
          "output_type": "stream",
          "name": "stdout",
          "text": [
            "DecisionTreeClassifier(ccp_alpha=0.0, class_weight=None, criterion='gini',\n",
            "                       max_depth=4, max_features=None, max_leaf_nodes=None,\n",
            "                       min_impurity_decrease=0.0, min_samples_leaf=1,\n",
            "                       min_samples_split=2, min_weight_fraction_leaf=0.0,\n",
            "                       monotonic_cst=None, random_state=123, splitter='best')\n"
          ]
        }
      ]
    },
    {
      "cell_type": "code",
      "source": [
        "# Assuming test_predictions['prediction_label'] contains your predicted labels\n",
        "predicted_labels = test_predictions['prediction_label']\n",
        "true_labels = df_test['Admission Status']  # Assuming 'Admission Status' is your target column\n",
        "\n",
        "conf_matrix = confusion_matrix(true_labels, predicted_labels)\n",
        "plt.figure(figsize=(10,7))\n",
        "sns.heatmap(conf_matrix, annot=True, fmt='d', cmap='Blues')\n",
        "plt.xlabel('Predicted Labels')\n",
        "plt.ylabel('True Labels')\n",
        "plt.title('Confusion Matrix')\n",
        "plt.show()\n",
        "\n",
        "# Calcular métricas\n",
        "accuracy = accuracy_score(true_labels, predicted_labels)\n",
        "kappa = cohen_kappa_score(true_labels, predicted_labels)\n",
        "classification_rep = classification_report(true_labels, predicted_labels)\n",
        "\n",
        "print(f'Accuracy: {accuracy}')\n",
        "print(f'Kappa: {kappa}')\n",
        "print('Classification Report:')\n",
        "print(classification_rep)\n"
      ],
      "metadata": {
        "colab": {
          "base_uri": "https://localhost:8080/",
          "height": 847
        },
        "id": "ly6SGJ5QYnit",
        "outputId": "bd5d5dda-e13f-40c1-a082-804c5fc65fae"
      },
      "execution_count": 12,
      "outputs": [
        {
          "output_type": "display_data",
          "data": {
            "text/plain": [
              "<Figure size 1000x700 with 2 Axes>"
            ],
            "image/png": "[encoded data removed]"
          },
          "metadata": {}
        },
        {
          "output_type": "stream",
          "name": "stdout",
          "text": [
            "Accuracy: 0.6296296296296297\n",
            "Kappa: 0.2541436464088397\n",
            "Classification Report:\n",
            "              precision    recall  f1-score   support\n",
            "\n",
            "    Accepted       0.64      0.54      0.58        13\n",
            "    Rejected       0.62      0.71      0.67        14\n",
            "\n",
            "    accuracy                           0.63        27\n",
            "   macro avg       0.63      0.63      0.62        27\n",
            "weighted avg       0.63      0.63      0.63        27\n",
            "\n"
          ]
        }
      ]
    },
    {
      "cell_type": "code",
      "source": [
        "# <> ------------------------------------------------------\n",
        "# <> Visualizando o boundary\n",
        "# <>\n",
        "plot_model(decision_tree_model, plot = 'boundary')"
      ],
      "metadata": {
        "colab": {
          "base_uri": "https://localhost:8080/",
          "height": 503
        },
        "id": "2dv7-wH1rJ7b",
        "outputId": "d3496c24-80a1-4b95-cdec-7ad2c1145f1d"
      },
      "execution_count": 13,
      "outputs": [
        {
          "output_type": "display_data",
          "data": {
            "text/plain": [
              "<IPython.core.display.HTML object>"
            ],
            "text/html": []
          },
          "metadata": {}
        },
        {
          "output_type": "display_data",
          "data": {
            "text/plain": [
              "<Figure size 800x550 with 1 Axes>"
            ],
            "image/png": "[encoded data removed]"
          },
          "metadata": {}
        }
      ]
    },
    {
      "cell_type": "markdown",
      "source": [
        "----"
      ],
      "metadata": {
        "id": "8iXXgn54fR1d"
      }
    },
    {
      "cell_type": "code",
      "source": [
        "# Assumindo que dt_model é o modelo de árvore de decisão treinado\n",
        "plot_model(decision_tree_model, plot='feature')"
      ],
      "metadata": {
        "colab": {
          "base_uri": "https://localhost:8080/",
          "height": 485
        },
        "id": "r6PWNF42dQ1N",
        "outputId": "94cce797-c156-4d7a-d211-af0e3f3f999e"
      },
      "execution_count": 14,
      "outputs": [
        {
          "output_type": "display_data",
          "data": {
            "text/plain": [
              "<IPython.core.display.HTML object>"
            ],
            "text/html": []
          },
          "metadata": {}
        },
        {
          "output_type": "display_data",
          "data": {
            "text/plain": [
              "<Figure size 800x500 with 1 Axes>"
            ],
            "image/png": "[encoded data removed]"
          },
          "metadata": {}
        }
      ]
    },
    {
      "cell_type": "code",
      "source": [
        "plot_model(decision_tree_model, plot='learning')"
      ],
      "metadata": {
        "colab": {
          "base_uri": "https://localhost:8080/",
          "height": 524
        },
        "id": "74b58aFmB6nm",
        "outputId": "8b679056-da4c-4309-e19e-d6d1a2849a73"
      },
      "execution_count": 15,
      "outputs": [
        {
          "output_type": "display_data",
          "data": {
            "text/plain": [
              "<IPython.core.display.HTML object>"
            ],
            "text/html": []
          },
          "metadata": {}
        },
        {
          "output_type": "display_data",
          "data": {
            "text/plain": [
              "<Figure size 800x550 with 1 Axes>"
            ],
            "image/png": "[encoded data removed]"
          },
          "metadata": {}
        }
      ]
    },
    {
      "cell_type": "code",
      "source": [
        "# Obter os nomes reais dos recursos da configuração do PyCaret, incluindo quaisquer transformações\n",
        "feature_names = get_config('X_train').columns.tolist()\n",
        "\n",
        "# Imprimir o número de features para verificação\n",
        "print(f\"Número de features: {len(feature_names)}\")\n",
        "\n",
        "# Visualizando a estrutura da Árvore\n",
        "# Get the actual feature names used by the model\n",
        "model_feature_names = decision_tree_model.feature_names_in_\n",
        "\n",
        "# Ensure the feature names are a list (if not already)\n",
        "model_feature_names = list(model_feature_names)\n",
        "\n",
        "estrutura_DT = export_text(decision_tree_model, feature_names=model_feature_names)  # Usar feature_names atualizados\n",
        "print(estrutura_DT)"
      ],
      "metadata": {
        "colab": {
          "base_uri": "https://localhost:8080/"
        },
        "id": "Qk4Wd4NkebR5",
        "outputId": "485c3888-0f70-4be7-8c3f-e09d39885139"
      },
      "execution_count": 16,
      "outputs": [
        {
          "output_type": "stream",
          "name": "stdout",
          "text": [
            "Número de features: 4\n",
            "|--- High School Percentage <= -0.08\n",
            "|   |--- Admission Test Score <= 0.36\n",
            "|   |   |--- High School Percentage <= -1.12\n",
            "|   |   |   |--- class: 1\n",
            "|   |   |--- High School Percentage >  -1.12\n",
            "|   |   |   |--- Age <= -0.99\n",
            "|   |   |   |   |--- class: 0\n",
            "|   |   |   |--- Age >  -0.99\n",
            "|   |   |   |   |--- class: 1\n",
            "|   |--- Admission Test Score >  0.36\n",
            "|   |   |--- Admission Test Score <= 0.52\n",
            "|   |   |   |--- class: 0\n",
            "|   |   |--- Admission Test Score >  0.52\n",
            "|   |   |   |--- Admission Test Score <= 1.51\n",
            "|   |   |   |   |--- class: 1\n",
            "|   |   |   |--- Admission Test Score >  1.51\n",
            "|   |   |   |   |--- class: 0\n",
            "|--- High School Percentage >  -0.08\n",
            "|   |--- High School Percentage <= 0.33\n",
            "|   |   |--- class: 0\n",
            "|   |--- High School Percentage >  0.33\n",
            "|   |   |--- High School Percentage <= 0.54\n",
            "|   |   |   |--- Admission Test Score <= -0.77\n",
            "|   |   |   |   |--- class: 0\n",
            "|   |   |   |--- Admission Test Score >  -0.77\n",
            "|   |   |   |   |--- class: 1\n",
            "|   |   |--- High School Percentage >  0.54\n",
            "|   |   |   |--- High School Percentage <= 1.45\n",
            "|   |   |   |   |--- class: 0\n",
            "|   |   |   |--- High School Percentage >  1.45\n",
            "|   |   |   |   |--- class: 1\n",
            "\n"
          ]
        }
      ]
    },
    {
      "cell_type": "code",
      "source": [
        "# <> -------------------------------------------\n",
        "# <> Plotar a árvore de decisão\n",
        "plt.figure(figsize=(10,10))\n",
        "# Assuming 'df_train' or 'cdt' contains your training data and target variable\n",
        "# Replace 'Admission Status' with the actual name of your target column\n",
        "# Get feature names from PyCaret setup, including any transformations:\n",
        "#feature_names = get_config('X_train').columns.tolist()  <- This line was replaced\n",
        "\n",
        "# Using feature_names_in_ to get the original feature names\n",
        "feature_names = decision_tree_model.feature_names_in_\n",
        "\n",
        "# OR if the above doesn't work, try:\n",
        "# feature_names = dt_model.feature_names_in_  # Get feature names directly from the model\n",
        "\n",
        "\n",
        "plot_tree(decision_tree_model, filled=True, feature_names=feature_names,\n",
        "          class_names=df_train['Admission Status'].unique())  # Using unique values from the target column\n",
        "plt.show()"
      ],
      "metadata": {
        "colab": {
          "base_uri": "https://localhost:8080/",
          "height": 807
        },
        "id": "XB0fGLEEe2nx",
        "outputId": "82a59dcf-5d95-412d-b1c3-2a48a01fd5ca"
      },
      "execution_count": 17,
      "outputs": [
        {
          "output_type": "display_data",
          "data": {
            "text/plain": [
              "<Figure size 1000x1000 with 1 Axes>"
            ],
            "image/png": "[encoded data removed]"
          },
          "metadata": {}
        }
      ]
    }
  ]
}