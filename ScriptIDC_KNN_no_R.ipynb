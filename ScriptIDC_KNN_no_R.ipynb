{
  "cells": [
    {
      "cell_type": "markdown",
      "metadata": {
        "id": "view-in-github",
        "colab_type": "text"
      },
      "source": [
        "<a href=\"https://colab.research.google.com/github/yyRegis/projeto-idc/blob/main/ScriptIDC_KNN_no_R.ipynb\" target=\"_parent\"><img src=\"https://colab.research.google.com/assets/colab-badge.svg\" alt=\"Open In Colab\"/></a>"
      ]
    },
    {
      "cell_type": "markdown",
      "metadata": {
        "id": "tcYAr0kmxMDw"
      },
      "source": [
        "Abrir colab com R\n",
        "\n",
        "Link: https://colab.research.google.com/#create=true&language=r\n",
        "\n",
        "Atualizado em: 01.2025"
      ]
    },
    {
      "cell_type": "markdown",
      "metadata": {
        "id": "ytRYlB1yxPpD"
      },
      "source": [
        "### KNN\n"
      ]
    },
    {
      "cell_type": "code",
      "execution_count": 2,
      "metadata": {
        "id": "Bmd2prFtx85g",
        "vscode": {
          "languageId": "r"
        },
        "colab": {
          "base_uri": "https://localhost:8080/"
        },
        "outputId": "23eaab0d-8b93-4146-fa88-8aea4f1e3544"
      },
      "outputs": [
        {
          "output_type": "stream",
          "name": "stderr",
          "text": [
            "Installing package into ‘/usr/local/lib/R/site-library’\n",
            "(as ‘lib’ is unspecified)\n",
            "\n",
            "also installing the dependencies ‘shape’, ‘numDeriv’, ‘progressr’, ‘SQUAREM’, ‘diagram’, ‘lava’, ‘prodlim’, ‘warp’, ‘future.apply’, ‘iterators’, ‘listenv’, ‘parallelly’, ‘lhs’, ‘DiceDesign’, ‘sfd’, ‘sparsevctrs’, ‘patchwork’, ‘globals’, ‘clock’, ‘gower’, ‘ipred’, ‘timeDate’, ‘furrr’, ‘slider’, ‘doFuture’, ‘foreach’, ‘future’, ‘GPfit’, ‘modelenv’, ‘dials’, ‘hardhat’, ‘infer’, ‘modeldata’, ‘parsnip’, ‘recipes’, ‘rsample’, ‘tune’, ‘workflows’, ‘workflowsets’, ‘yardstick’\n",
            "\n",
            "\n",
            "Installing package into ‘/usr/local/lib/R/site-library’\n",
            "(as ‘lib’ is unspecified)\n",
            "\n",
            "also installing the dependency ‘igraph’\n",
            "\n",
            "\n"
          ]
        }
      ],
      "source": [
        "# <> ----------------------------\n",
        "# <> Instalando bibliotecas\n",
        "install.packages(\"tidymodels\")\n",
        "install.packages(\"kknn\")\n"
      ]
    },
    {
      "cell_type": "code",
      "execution_count": 3,
      "metadata": {
        "id": "C7efr9Zux2iQ",
        "vscode": {
          "languageId": "r"
        },
        "colab": {
          "base_uri": "https://localhost:8080/"
        },
        "outputId": "f4d96929-a746-4aed-d522-f954c9dd0096"
      },
      "outputs": [
        {
          "output_type": "stream",
          "name": "stderr",
          "text": [
            "── \u001b[1mAttaching packages\u001b[22m ────────────────────────────────────── tidymodels 1.3.0 ──\n",
            "\n",
            "\u001b[32m✔\u001b[39m \u001b[34mbroom       \u001b[39m 1.0.7     \u001b[32m✔\u001b[39m \u001b[34mrecipes     \u001b[39m 1.2.0\n",
            "\u001b[32m✔\u001b[39m \u001b[34mdials       \u001b[39m 1.4.0     \u001b[32m✔\u001b[39m \u001b[34mrsample     \u001b[39m 1.2.1\n",
            "\u001b[32m✔\u001b[39m \u001b[34mdplyr       \u001b[39m 1.1.4     \u001b[32m✔\u001b[39m \u001b[34mtibble      \u001b[39m 3.2.1\n",
            "\u001b[32m✔\u001b[39m \u001b[34mggplot2     \u001b[39m 3.5.1     \u001b[32m✔\u001b[39m \u001b[34mtidyr       \u001b[39m 1.3.1\n",
            "\u001b[32m✔\u001b[39m \u001b[34minfer       \u001b[39m 1.0.7     \u001b[32m✔\u001b[39m \u001b[34mtune        \u001b[39m 1.3.0\n",
            "\u001b[32m✔\u001b[39m \u001b[34mmodeldata   \u001b[39m 1.4.0     \u001b[32m✔\u001b[39m \u001b[34mworkflows   \u001b[39m 1.2.0\n",
            "\u001b[32m✔\u001b[39m \u001b[34mparsnip     \u001b[39m 1.3.1     \u001b[32m✔\u001b[39m \u001b[34mworkflowsets\u001b[39m 1.1.0\n",
            "\u001b[32m✔\u001b[39m \u001b[34mpurrr       \u001b[39m 1.0.4     \u001b[32m✔\u001b[39m \u001b[34myardstick   \u001b[39m 1.3.2\n",
            "\n",
            "── \u001b[1mConflicts\u001b[22m ───────────────────────────────────────── tidymodels_conflicts() ──\n",
            "\u001b[31m✖\u001b[39m \u001b[34mpurrr\u001b[39m::\u001b[32mdiscard()\u001b[39m masks \u001b[34mscales\u001b[39m::discard()\n",
            "\u001b[31m✖\u001b[39m \u001b[34mdplyr\u001b[39m::\u001b[32mfilter()\u001b[39m  masks \u001b[34mstats\u001b[39m::filter()\n",
            "\u001b[31m✖\u001b[39m \u001b[34mdplyr\u001b[39m::\u001b[32mlag()\u001b[39m     masks \u001b[34mstats\u001b[39m::lag()\n",
            "\u001b[31m✖\u001b[39m \u001b[34mrecipes\u001b[39m::\u001b[32mstep()\u001b[39m  masks \u001b[34mstats\u001b[39m::step()\n",
            "\n"
          ]
        }
      ],
      "source": [
        "# <> ----------------------------\n",
        "# Lendo bibliotecas\n",
        "library(tidymodels)\n",
        "library(kknn)\n"
      ]
    },
    {
      "cell_type": "code",
      "source": [
        "data <- \"/content/student_admission_record_dirty.csv\""
      ],
      "metadata": {
        "id": "8DwsLBfe9KQ9"
      },
      "execution_count": 4,
      "outputs": []
    },
    {
      "cell_type": "code",
      "source": [
        "df <- read.csv(data, stringsAsFactors = FALSE)"
      ],
      "metadata": {
        "id": "WxyuAJGV9c6R"
      },
      "execution_count": 5,
      "outputs": []
    },
    {
      "cell_type": "code",
      "source": [
        "# Remover colunas irrelevantes\n",
        "df <- df[, !(names(df) %in% c(\"Name\", \"City\"))]\n",
        "\n",
        "# Corrigir valores negativos\n",
        "df$Age[df$Age < 0] <- NA\n",
        "df$Admission.Test.Score[df$Admission.Test.Score < 0] <- NA\n",
        "df$High.School.Percentage[df$High.School.Percentage < 0] <- NA\n",
        "\n",
        "# Remover outliers extremos\n",
        "percentile_99 <- apply(df[, c(\"Admission.Test.Score\", \"High.School.Percentage\")], 2, quantile, 0.99, na.rm = TRUE)\n",
        "df <- df[df$Admission.Test.Score <= percentile_99[\"Admission.Test.Score\"] &\n",
        "         df$High.School.Percentage <= percentile_99[\"High.School.Percentage\"], ]\n",
        "\n",
        "# Preencher valores ausentes com mediana (para números) e moda (para categorias)\n",
        "df$Age[is.na(df$Age)] <- median(df$Age, na.rm = TRUE)\n",
        "df$Admission.Test.Score[is.na(df$Admission.Test.Score)] <- median(df$Admission.Test.Score, na.rm = TRUE)\n",
        "df$High.School.Percentage[is.na(df$High.School.Percentage)] <- median(df$High.School.Percentage, na.rm = TRUE)\n",
        "\n",
        "# Remover valores ausentes em 'Admission Status'\n",
        "df <- df[!is.na(df$Admission.Status), ]\n",
        "\n",
        "# Converter variáveis categóricas para fator\n",
        "df$Gender <- as.factor(df$Gender)\n",
        "df$Admission.Status <- as.factor(df$Admission.Status)\n"
      ],
      "metadata": {
        "id": "B4expOkq9msF"
      },
      "execution_count": 6,
      "outputs": []
    },
    {
      "cell_type": "code",
      "execution_count": 7,
      "metadata": {
        "id": "FFUwFU3D065N",
        "vscode": {
          "languageId": "r"
        }
      },
      "outputs": [],
      "source": [
        "# <> ----------------------------\n",
        "# <> Para conflitos de funções, usar a do tidymodels\n",
        "tidymodels_prefer()"
      ]
    },
    {
      "cell_type": "code",
      "execution_count": 8,
      "metadata": {
        "id": "vkV1owU8Cu2A",
        "vscode": {
          "languageId": "r"
        }
      },
      "outputs": [],
      "source": [
        "# <> ----------------------------\n",
        "# <> Selecionando Amostra de Treinamento e Teste\n",
        "set.seed(123)\n",
        "cell_split <- initial_split(df, strata = Admission.Status, prop = 0.7)"
      ]
    },
    {
      "cell_type": "code",
      "source": [
        "# <> Dividindo em treinamento e teste\n",
        "data_train <- training(cell_split)\n",
        "data_test  <- testing(cell_split)"
      ],
      "metadata": {
        "id": "8ZswRwZZ93q3"
      },
      "execution_count": 9,
      "outputs": []
    },
    {
      "cell_type": "code",
      "source": [
        "# <> ----------------------------\n",
        "# <> Definir o modelo kNN\n",
        "knn_spec <- nearest_neighbor(mode = \"classification\", neighbors = 5) |>\n",
        "  set_engine(\"kknn\")"
      ],
      "metadata": {
        "id": "crOAsC6J94SP"
      },
      "execution_count": 44,
      "outputs": []
    },
    {
      "cell_type": "code",
      "source": [
        "# <> ----------------------------\n",
        "# <> Treinamento do modelo\n",
        "set.seed(1)\n",
        "knn_fit <- knn_spec |>\n",
        "  fit(Admission.Status ~ ., data = data_train)"
      ],
      "metadata": {
        "id": "HtVgtcmf96qI"
      },
      "execution_count": 45,
      "outputs": []
    },
    {
      "cell_type": "code",
      "source": [
        "# <> ----------------------------\n",
        "# <> Fazendo previsão no conjunto de teste\n",
        "dt_testing_pred <- predict(knn_fit, data_test) |>\n",
        "  bind_cols(predict(knn_fit, data_test, type = \"prob\")) |>\n",
        "  bind_cols(data_test |> select(Admission.Status))\n"
      ],
      "metadata": {
        "id": "2YoMyj65CRiN"
      },
      "execution_count": 46,
      "outputs": []
    },
    {
      "cell_type": "code",
      "source": [
        "# <> ----------------------------\n",
        "# <> Avaliação do modelo\n",
        "dt_testing_pred |>\n",
        "  accuracy(truth = Admission.Status, .pred_class)\n",
        "\n"
      ],
      "metadata": {
        "id": "AvrLXSE2C163",
        "colab": {
          "base_uri": "https://localhost:8080/",
          "height": 129
        },
        "outputId": "73c8a374-c974-42f6-d21e-09e40db9d798"
      },
      "execution_count": 47,
      "outputs": [
        {
          "output_type": "display_data",
          "data": {
            "text/html": [
              "<table class=\"dataframe\">\n",
              "<caption>A tibble: 1 × 3</caption>\n",
              "<thead>\n",
              "\t<tr><th scope=col>.metric</th><th scope=col>.estimator</th><th scope=col>.estimate</th></tr>\n",
              "\t<tr><th scope=col>&lt;chr&gt;</th><th scope=col>&lt;chr&gt;</th><th scope=col>&lt;dbl&gt;</th></tr>\n",
              "</thead>\n",
              "<tbody>\n",
              "\t<tr><td>accuracy</td><td>multiclass</td><td>0.55</td></tr>\n",
              "</tbody>\n",
              "</table>\n"
            ],
            "text/markdown": "\nA tibble: 1 × 3\n\n| .metric &lt;chr&gt; | .estimator &lt;chr&gt; | .estimate &lt;dbl&gt; |\n|---|---|---|\n| accuracy | multiclass | 0.55 |\n\n",
            "text/latex": "A tibble: 1 × 3\n\\begin{tabular}{lll}\n .metric & .estimator & .estimate\\\\\n <chr> & <chr> & <dbl>\\\\\n\\hline\n\t accuracy & multiclass & 0.55\\\\\n\\end{tabular}\n",
            "text/plain": [
              "  .metric  .estimator .estimate\n",
              "1 accuracy multiclass 0.55     "
            ]
          },
          "metadata": {}
        }
      ]
    },
    {
      "cell_type": "markdown",
      "metadata": {
        "id": "Cq1p_mnYCSGq"
      },
      "source": [
        "--------"
      ]
    },
    {
      "cell_type": "markdown",
      "source": [
        "## Aplicando k-fold"
      ],
      "metadata": {
        "id": "9G9rRwtMJ_aq"
      }
    },
    {
      "cell_type": "code",
      "execution_count": 49,
      "metadata": {
        "id": "RsJB4oJWCTOF",
        "vscode": {
          "languageId": "r"
        }
      },
      "outputs": [],
      "source": [
        "# <> ----------------------------\n",
        "# <> Definindo o modelo kNN\n",
        "knn_spec <-\n",
        "  nearest_neighbor(neighbors = 5) |> # Define k=5 (ajustável)\n",
        "  set_mode(\"classification\") |>\n",
        "  set_engine(\"kknn\")"
      ]
    },
    {
      "cell_type": "code",
      "source": [
        "# <> ----------------------------\n",
        "# <> Criando o workflow de treinamento\n",
        "knn_wf <-\n",
        "  workflow() |>\n",
        "  add_model(knn_spec) |>\n",
        "  add_formula(Admission.Status ~ .)"
      ],
      "metadata": {
        "id": "naUM7QVQG8Fw"
      },
      "execution_count": 50,
      "outputs": []
    },
    {
      "cell_type": "code",
      "execution_count": 51,
      "metadata": {
        "id": "-OzQAtR2DoYK",
        "vscode": {
          "languageId": "r"
        }
      },
      "outputs": [],
      "source": [
        "# <> ----------------------------\n",
        "# <> Treinamento com reamostragem k-fold\n",
        "set.seed(345)\n",
        "folds <- vfold_cv(data_train, v = 5, strata = Admission.Status)\n"
      ]
    },
    {
      "cell_type": "code",
      "source": [
        "# <> ----------------------------\n",
        "# <> Treinando o modelo final\n",
        "set.seed(1)\n",
        "knn_fit <-\n",
        "  knn_wf |>\n",
        "  fit(data = data_train)"
      ],
      "metadata": {
        "id": "5XZfsCsEIrmo"
      },
      "execution_count": 52,
      "outputs": []
    },
    {
      "cell_type": "code",
      "source": [
        "# <> ----------------------------\n",
        "# <> Fazendo a predição na amostra de teste\n",
        "knn_testing_pred <-\n",
        "  predict(knn_fit, data_test) |>\n",
        "  bind_cols(predict(knn_fit, data_test, type = \"prob\")) |>\n",
        "  bind_cols(data_test |> select(Admission.Status))"
      ],
      "metadata": {
        "id": "dj5XYZ6StuhC"
      },
      "execution_count": 53,
      "outputs": []
    },
    {
      "cell_type": "code",
      "source": [
        "# <> ----------------------------\n",
        "# <> Avaliando a acurácia do modelo\n",
        "knn_testing_pred |>\n",
        "  accuracy(truth = Admission.Status, .pred_class)"
      ],
      "metadata": {
        "colab": {
          "base_uri": "https://localhost:8080/",
          "height": 129
        },
        "id": "XvlVV4o0twVG",
        "outputId": "d11e1ca0-8656-4b57-c061-dc46597d4418"
      },
      "execution_count": 54,
      "outputs": [
        {
          "output_type": "display_data",
          "data": {
            "text/html": [
              "<table class=\"dataframe\">\n",
              "<caption>A tibble: 1 × 3</caption>\n",
              "<thead>\n",
              "\t<tr><th scope=col>.metric</th><th scope=col>.estimator</th><th scope=col>.estimate</th></tr>\n",
              "\t<tr><th scope=col>&lt;chr&gt;</th><th scope=col>&lt;chr&gt;</th><th scope=col>&lt;dbl&gt;</th></tr>\n",
              "</thead>\n",
              "<tbody>\n",
              "\t<tr><td>accuracy</td><td>multiclass</td><td>0.55</td></tr>\n",
              "</tbody>\n",
              "</table>\n"
            ],
            "text/markdown": "\nA tibble: 1 × 3\n\n| .metric &lt;chr&gt; | .estimator &lt;chr&gt; | .estimate &lt;dbl&gt; |\n|---|---|---|\n| accuracy | multiclass | 0.55 |\n\n",
            "text/latex": "A tibble: 1 × 3\n\\begin{tabular}{lll}\n .metric & .estimator & .estimate\\\\\n <chr> & <chr> & <dbl>\\\\\n\\hline\n\t accuracy & multiclass & 0.55\\\\\n\\end{tabular}\n",
            "text/plain": [
              "  .metric  .estimator .estimate\n",
              "1 accuracy multiclass 0.55     "
            ]
          },
          "metadata": {}
        }
      ]
    },
    {
      "cell_type": "code",
      "execution_count": null,
      "metadata": {
        "id": "hJwsmiEBGaA7",
        "vscode": {
          "languageId": "r"
        }
      },
      "outputs": [],
      "source": []
    }
  ],
  "metadata": {
    "colab": {
      "provenance": [],
      "include_colab_link": true
    },
    "kernelspec": {
      "display_name": "R",
      "name": "ir"
    },
    "language_info": {
      "name": "R"
    }
  },
  "nbformat": 4,
  "nbformat_minor": 0
}