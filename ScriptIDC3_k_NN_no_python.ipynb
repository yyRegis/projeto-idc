{
  "nbformat": 4,
  "nbformat_minor": 0,
  "metadata": {
    "colab": {
      "provenance": [],
      "include_colab_link": true
    },
    "kernelspec": {
      "name": "python3",
      "display_name": "Python 3"
    },
    "language_info": {
      "name": "python"
    },
    "widgets": {
      "application/vnd.jupyter.widget-state+json": {
        "1f1d21d3b9eb4c0fae2caed768b4ea0e": {
          "model_module": "@jupyter-widgets/controls",
          "model_name": "HBoxModel",
          "model_module_version": "1.5.0",
          "state": {
            "_dom_classes": [],
            "_model_module": "@jupyter-widgets/controls",
            "_model_module_version": "1.5.0",
            "_model_name": "HBoxModel",
            "_view_count": null,
            "_view_module": "@jupyter-widgets/controls",
            "_view_module_version": "1.5.0",
            "_view_name": "HBoxView",
            "box_style": "",
            "children": [
              "IPY_MODEL_1389200719d941f79d4dfec905881420",
              "IPY_MODEL_c140207bb27842ce9fbd828e08122b4b",
              "IPY_MODEL_38ca5c0bc5264228bc4f6f8473a8dcee"
            ],
            "layout": "IPY_MODEL_5b1df4a5c28341a9a1a741f5fd35ec97"
          }
        },
        "1389200719d941f79d4dfec905881420": {
          "model_module": "@jupyter-widgets/controls",
          "model_name": "HTMLModel",
          "model_module_version": "1.5.0",
          "state": {
            "_dom_classes": [],
            "_model_module": "@jupyter-widgets/controls",
            "_model_module_version": "1.5.0",
            "_model_name": "HTMLModel",
            "_view_count": null,
            "_view_module": "@jupyter-widgets/controls",
            "_view_module_version": "1.5.0",
            "_view_name": "HTMLView",
            "description": "",
            "description_tooltip": null,
            "layout": "IPY_MODEL_0fef3239b1564283be2875c557e4be71",
            "placeholder": "​",
            "style": "IPY_MODEL_7e945a9997914d4a9b30833e4ca6be33",
            "value": "Processing:  75%"
          }
        },
        "c140207bb27842ce9fbd828e08122b4b": {
          "model_module": "@jupyter-widgets/controls",
          "model_name": "FloatProgressModel",
          "model_module_version": "1.5.0",
          "state": {
            "_dom_classes": [],
            "_model_module": "@jupyter-widgets/controls",
            "_model_module_version": "1.5.0",
            "_model_name": "FloatProgressModel",
            "_view_count": null,
            "_view_module": "@jupyter-widgets/controls",
            "_view_module_version": "1.5.0",
            "_view_name": "ProgressView",
            "bar_style": "",
            "description": "",
            "description_tooltip": null,
            "layout": "IPY_MODEL_18c38783b8b54736a248b39b44826110",
            "max": 4,
            "min": 0,
            "orientation": "horizontal",
            "style": "IPY_MODEL_6d29398c697946439c45402c61213a0d",
            "value": 4
          }
        },
        "38ca5c0bc5264228bc4f6f8473a8dcee": {
          "model_module": "@jupyter-widgets/controls",
          "model_name": "HTMLModel",
          "model_module_version": "1.5.0",
          "state": {
            "_dom_classes": [],
            "_model_module": "@jupyter-widgets/controls",
            "_model_module_version": "1.5.0",
            "_model_name": "HTMLModel",
            "_view_count": null,
            "_view_module": "@jupyter-widgets/controls",
            "_view_module_version": "1.5.0",
            "_view_name": "HTMLView",
            "description": "",
            "description_tooltip": null,
            "layout": "IPY_MODEL_597efd9f9a50419ca62b7aa755201b3c",
            "placeholder": "​",
            "style": "IPY_MODEL_54289200d0294a7f84587ccd86e2d851",
            "value": " 3/4 [00:06&lt;00:02,  2.33s/it]"
          }
        },
        "5b1df4a5c28341a9a1a741f5fd35ec97": {
          "model_module": "@jupyter-widgets/base",
          "model_name": "LayoutModel",
          "model_module_version": "1.2.0",
          "state": {
            "_model_module": "@jupyter-widgets/base",
            "_model_module_version": "1.2.0",
            "_model_name": "LayoutModel",
            "_view_count": null,
            "_view_module": "@jupyter-widgets/base",
            "_view_module_version": "1.2.0",
            "_view_name": "LayoutView",
            "align_content": null,
            "align_items": null,
            "align_self": null,
            "border": null,
            "bottom": null,
            "display": null,
            "flex": null,
            "flex_flow": null,
            "grid_area": null,
            "grid_auto_columns": null,
            "grid_auto_flow": null,
            "grid_auto_rows": null,
            "grid_column": null,
            "grid_gap": null,
            "grid_row": null,
            "grid_template_areas": null,
            "grid_template_columns": null,
            "grid_template_rows": null,
            "height": null,
            "justify_content": null,
            "justify_items": null,
            "left": null,
            "margin": null,
            "max_height": null,
            "max_width": null,
            "min_height": null,
            "min_width": null,
            "object_fit": null,
            "object_position": null,
            "order": null,
            "overflow": null,
            "overflow_x": null,
            "overflow_y": null,
            "padding": null,
            "right": null,
            "top": null,
            "visibility": "hidden",
            "width": null
          }
        },
        "0fef3239b1564283be2875c557e4be71": {
          "model_module": "@jupyter-widgets/base",
          "model_name": "LayoutModel",
          "model_module_version": "1.2.0",
          "state": {
            "_model_module": "@jupyter-widgets/base",
            "_model_module_version": "1.2.0",
            "_model_name": "LayoutModel",
            "_view_count": null,
            "_view_module": "@jupyter-widgets/base",
            "_view_module_version": "1.2.0",
            "_view_name": "LayoutView",
            "align_content": null,
            "align_items": null,
            "align_self": null,
            "border": null,
            "bottom": null,
            "display": null,
            "flex": null,
            "flex_flow": null,
            "grid_area": null,
            "grid_auto_columns": null,
            "grid_auto_flow": null,
            "grid_auto_rows": null,
            "grid_column": null,
            "grid_gap": null,
            "grid_row": null,
            "grid_template_areas": null,
            "grid_template_columns": null,
            "grid_template_rows": null,
            "height": null,
            "justify_content": null,
            "justify_items": null,
            "left": null,
            "margin": null,
            "max_height": null,
            "max_width": null,
            "min_height": null,
            "min_width": null,
            "object_fit": null,
            "object_position": null,
            "order": null,
            "overflow": null,
            "overflow_x": null,
            "overflow_y": null,
            "padding": null,
            "right": null,
            "top": null,
            "visibility": null,
            "width": null
          }
        },
        "7e945a9997914d4a9b30833e4ca6be33": {
          "model_module": "@jupyter-widgets/controls",
          "model_name": "DescriptionStyleModel",
          "model_module_version": "1.5.0",
          "state": {
            "_model_module": "@jupyter-widgets/controls",
            "_model_module_version": "1.5.0",
            "_model_name": "DescriptionStyleModel",
            "_view_count": null,
            "_view_module": "@jupyter-widgets/base",
            "_view_module_version": "1.2.0",
            "_view_name": "StyleView",
            "description_width": ""
          }
        },
        "18c38783b8b54736a248b39b44826110": {
          "model_module": "@jupyter-widgets/base",
          "model_name": "LayoutModel",
          "model_module_version": "1.2.0",
          "state": {
            "_model_module": "@jupyter-widgets/base",
            "_model_module_version": "1.2.0",
            "_model_name": "LayoutModel",
            "_view_count": null,
            "_view_module": "@jupyter-widgets/base",
            "_view_module_version": "1.2.0",
            "_view_name": "LayoutView",
            "align_content": null,
            "align_items": null,
            "align_self": null,
            "border": null,
            "bottom": null,
            "display": null,
            "flex": null,
            "flex_flow": null,
            "grid_area": null,
            "grid_auto_columns": null,
            "grid_auto_flow": null,
            "grid_auto_rows": null,
            "grid_column": null,
            "grid_gap": null,
            "grid_row": null,
            "grid_template_areas": null,
            "grid_template_columns": null,
            "grid_template_rows": null,
            "height": null,
            "justify_content": null,
            "justify_items": null,
            "left": null,
            "margin": null,
            "max_height": null,
            "max_width": null,
            "min_height": null,
            "min_width": null,
            "object_fit": null,
            "object_position": null,
            "order": null,
            "overflow": null,
            "overflow_x": null,
            "overflow_y": null,
            "padding": null,
            "right": null,
            "top": null,
            "visibility": null,
            "width": null
          }
        },
        "6d29398c697946439c45402c61213a0d": {
          "model_module": "@jupyter-widgets/controls",
          "model_name": "ProgressStyleModel",
          "model_module_version": "1.5.0",
          "state": {
            "_model_module": "@jupyter-widgets/controls",
            "_model_module_version": "1.5.0",
            "_model_name": "ProgressStyleModel",
            "_view_count": null,
            "_view_module": "@jupyter-widgets/base",
            "_view_module_version": "1.2.0",
            "_view_name": "StyleView",
            "bar_color": null,
            "description_width": ""
          }
        },
        "597efd9f9a50419ca62b7aa755201b3c": {
          "model_module": "@jupyter-widgets/base",
          "model_name": "LayoutModel",
          "model_module_version": "1.2.0",
          "state": {
            "_model_module": "@jupyter-widgets/base",
            "_model_module_version": "1.2.0",
            "_model_name": "LayoutModel",
            "_view_count": null,
            "_view_module": "@jupyter-widgets/base",
            "_view_module_version": "1.2.0",
            "_view_name": "LayoutView",
            "align_content": null,
            "align_items": null,
            "align_self": null,
            "border": null,
            "bottom": null,
            "display": null,
            "flex": null,
            "flex_flow": null,
            "grid_area": null,
            "grid_auto_columns": null,
            "grid_auto_flow": null,
            "grid_auto_rows": null,
            "grid_column": null,
            "grid_gap": null,
            "grid_row": null,
            "grid_template_areas": null,
            "grid_template_columns": null,
            "grid_template_rows": null,
            "height": null,
            "justify_content": null,
            "justify_items": null,
            "left": null,
            "margin": null,
            "max_height": null,
            "max_width": null,
            "min_height": null,
            "min_width": null,
            "object_fit": null,
            "object_position": null,
            "order": null,
            "overflow": null,
            "overflow_x": null,
            "overflow_y": null,
            "padding": null,
            "right": null,
            "top": null,
            "visibility": null,
            "width": null
          }
        },
        "54289200d0294a7f84587ccd86e2d851": {
          "model_module": "@jupyter-widgets/controls",
          "model_name": "DescriptionStyleModel",
          "model_module_version": "1.5.0",
          "state": {
            "_model_module": "@jupyter-widgets/controls",
            "_model_module_version": "1.5.0",
            "_model_name": "DescriptionStyleModel",
            "_view_count": null,
            "_view_module": "@jupyter-widgets/base",
            "_view_module_version": "1.2.0",
            "_view_name": "StyleView",
            "description_width": ""
          }
        }
      }
    }
  },
  "cells": [
    {
      "cell_type": "markdown",
      "metadata": {
        "id": "view-in-github",
        "colab_type": "text"
      },
      "source": [
        "<a href=\"https://colab.research.google.com/github/yyRegis/projeto-idc/blob/main/ScriptIDC3_k_NN_no_python.ipynb\" target=\"_parent\"><img src=\"https://colab.research.google.com/assets/colab-badge.svg\" alt=\"Open In Colab\"/></a>"
      ]
    },
    {
      "cell_type": "markdown",
      "source": [
        "#### Documentação do PyCaret:\n",
        "\n",
        "- https://pycaret.gitbook.io/docs\n",
        "- https://github.com/pycaret/pycaret/"
      ],
      "metadata": {
        "id": "cpyc1dur99yO"
      }
    },
    {
      "cell_type": "code",
      "source": [
        "!pip install numpy==1.26.4"
      ],
      "metadata": {
        "colab": {
          "base_uri": "https://localhost:8080/"
        },
        "id": "AifXFi2slkCh",
        "outputId": "b77aadc9-fb27-4baf-e9ae-38d4edc3aca9"
      },
      "execution_count": 1,
      "outputs": [
        {
          "output_type": "stream",
          "name": "stdout",
          "text": [
            "Collecting numpy==1.26.4\n",
            "  Downloading numpy-1.26.4-cp311-cp311-manylinux_2_17_x86_64.manylinux2014_x86_64.whl.metadata (61 kB)\n",
            "\u001b[2K     \u001b[90m━━━━━━━━━━━━━━━━━━━━━━━━━━━━━━━━━━━━━━━━\u001b[0m \u001b[32m61.0/61.0 kB\u001b[0m \u001b[31m386.5 kB/s\u001b[0m eta \u001b[36m0:00:00\u001b[0m\n",
            "\u001b[?25hDownloading numpy-1.26.4-cp311-cp311-manylinux_2_17_x86_64.manylinux2014_x86_64.whl (18.3 MB)\n",
            "\u001b[2K   \u001b[90m━━━━━━━━━━━━━━━━━━━━━━━━━━━━━━━━━━━━━━━━\u001b[0m \u001b[32m18.3/18.3 MB\u001b[0m \u001b[31m13.3 MB/s\u001b[0m eta \u001b[36m0:00:00\u001b[0m\n",
            "\u001b[?25hInstalling collected packages: numpy\n",
            "  Attempting uninstall: numpy\n",
            "    Found existing installation: numpy 2.0.2\n",
            "    Uninstalling numpy-2.0.2:\n",
            "      Successfully uninstalled numpy-2.0.2\n",
            "Successfully installed numpy-1.26.4\n"
          ]
        }
      ]
    },
    {
      "cell_type": "code",
      "source": [
        "# <> ------------------------------------------------------\n",
        "# <> Se o pacote não tiver instalado\n",
        "# <> executar o comando abaixo\n",
        "%pip install pycaret --quiet"
      ],
      "metadata": {
        "id": "i04-9iUo9-xs",
        "collapsed": true,
        "colab": {
          "base_uri": "https://localhost:8080/"
        },
        "outputId": "e5e8e844-4b93-432c-968c-923e9958420c"
      },
      "execution_count": 2,
      "outputs": [
        {
          "output_type": "stream",
          "name": "stdout",
          "text": [
            "\u001b[2K     \u001b[90m━━━━━━━━━━━━━━━━━━━━━━━━━━━━━━━━━━━━━━━━\u001b[0m \u001b[32m60.4/60.4 kB\u001b[0m \u001b[31m2.1 MB/s\u001b[0m eta \u001b[36m0:00:00\u001b[0m\n",
            "\u001b[2K     \u001b[90m━━━━━━━━━━━━━━━━━━━━━━━━━━━━━━━━━━━━━━━━\u001b[0m \u001b[32m169.6/169.6 kB\u001b[0m \u001b[31m6.5 MB/s\u001b[0m eta \u001b[36m0:00:00\u001b[0m\n",
            "\u001b[?25h  Preparing metadata (setup.py) ... \u001b[?25l\u001b[?25hdone\n",
            "  Preparing metadata (setup.py) ... \u001b[?25l\u001b[?25hdone\n",
            "\u001b[2K   \u001b[90m━━━━━━━━━━━━━━━━━━━━━━━━━━━━━━━━━━━━━━━━\u001b[0m \u001b[32m486.1/486.1 kB\u001b[0m \u001b[31m13.4 MB/s\u001b[0m eta \u001b[36m0:00:00\u001b[0m\n",
            "\u001b[2K   \u001b[90m━━━━━━━━━━━━━━━━━━━━━━━━━━━━━━━━━━━━━━━━\u001b[0m \u001b[32m106.8/106.8 kB\u001b[0m \u001b[31m5.7 MB/s\u001b[0m eta \u001b[36m0:00:00\u001b[0m\n",
            "\u001b[2K   \u001b[90m━━━━━━━━━━━━━━━━━━━━━━━━━━━━━━━━━━━━━━━━\u001b[0m \u001b[32m21.8/21.8 MB\u001b[0m \u001b[31m37.9 MB/s\u001b[0m eta \u001b[36m0:00:00\u001b[0m\n",
            "\u001b[2K   \u001b[90m━━━━━━━━━━━━━━━━━━━━━━━━━━━━━━━━━━━━━━━━\u001b[0m \u001b[32m85.4/85.4 kB\u001b[0m \u001b[31m6.5 MB/s\u001b[0m eta \u001b[36m0:00:00\u001b[0m\n",
            "\u001b[2K   \u001b[90m━━━━━━━━━━━━━━━━━━━━━━━━━━━━━━━━━━━━━━━━\u001b[0m \u001b[32m302.2/302.2 kB\u001b[0m \u001b[31m21.1 MB/s\u001b[0m eta \u001b[36m0:00:00\u001b[0m\n",
            "\u001b[2K   \u001b[90m━━━━━━━━━━━━━━━━━━━━━━━━━━━━━━━━━━━━━━━━\u001b[0m \u001b[32m79.9/79.9 MB\u001b[0m \u001b[31m7.1 MB/s\u001b[0m eta \u001b[36m0:00:00\u001b[0m\n",
            "\u001b[2K   \u001b[90m━━━━━━━━━━━━━━━━━━━━━━━━━━━━━━━━━━━━━━━━\u001b[0m \u001b[32m11.6/11.6 MB\u001b[0m \u001b[31m82.5 MB/s\u001b[0m eta \u001b[36m0:00:00\u001b[0m\n",
            "\u001b[2K   \u001b[90m━━━━━━━━━━━━━━━━━━━━━━━━━━━━━━━━━━━━━━━━\u001b[0m \u001b[32m12.2/12.2 MB\u001b[0m \u001b[31m79.4 MB/s\u001b[0m eta \u001b[36m0:00:00\u001b[0m\n",
            "\u001b[2K   \u001b[90m━━━━━━━━━━━━━━━━━━━━━━━━━━━━━━━━━━━━━━━━\u001b[0m \u001b[32m80.7/80.7 kB\u001b[0m \u001b[31m5.6 MB/s\u001b[0m eta \u001b[36m0:00:00\u001b[0m\n",
            "\u001b[2K   \u001b[90m━━━━━━━━━━━━━━━━━━━━━━━━━━━━━━━━━━━━━━━━\u001b[0m \u001b[32m2.2/2.2 MB\u001b[0m \u001b[31m61.9 MB/s\u001b[0m eta \u001b[36m0:00:00\u001b[0m\n",
            "\u001b[2K   \u001b[90m━━━━━━━━━━━━━━━━━━━━━━━━━━━━━━━━━━━━━━━━\u001b[0m \u001b[32m12.1/12.1 MB\u001b[0m \u001b[31m56.4 MB/s\u001b[0m eta \u001b[36m0:00:00\u001b[0m\n",
            "\u001b[2K   \u001b[90m━━━━━━━━━━━━━━━━━━━━━━━━━━━━━━━━━━━━━━━━\u001b[0m \u001b[32m36.4/36.4 MB\u001b[0m \u001b[31m11.9 MB/s\u001b[0m eta \u001b[36m0:00:00\u001b[0m\n",
            "\u001b[2K   \u001b[90m━━━━━━━━━━━━━━━━━━━━━━━━━━━━━━━━━━━━━━━━\u001b[0m \u001b[32m44.0/44.0 kB\u001b[0m \u001b[31m2.8 MB/s\u001b[0m eta \u001b[36m0:00:00\u001b[0m\n",
            "\u001b[2K   \u001b[90m━━━━━━━━━━━━━━━━━━━━━━━━━━━━━━━━━━━━━━━━\u001b[0m \u001b[32m194.8/194.8 kB\u001b[0m \u001b[31m12.2 MB/s\u001b[0m eta \u001b[36m0:00:00\u001b[0m\n",
            "\u001b[2K   \u001b[90m━━━━━━━━━━━━━━━━━━━━━━━━━━━━━━━━━━━━━━━━\u001b[0m \u001b[32m8.0/8.0 MB\u001b[0m \u001b[31m65.2 MB/s\u001b[0m eta \u001b[36m0:00:00\u001b[0m\n",
            "\u001b[2K   \u001b[90m━━━━━━━━━━━━━━━━━━━━━━━━━━━━━━━━━━━━━━━━\u001b[0m \u001b[32m1.6/1.6 MB\u001b[0m \u001b[31m48.0 MB/s\u001b[0m eta \u001b[36m0:00:00\u001b[0m\n",
            "\u001b[2K   \u001b[90m━━━━━━━━━━━━━━━━━━━━━━━━━━━━━━━━━━━━━━━━\u001b[0m \u001b[32m130.1/130.1 kB\u001b[0m \u001b[31m10.1 MB/s\u001b[0m eta \u001b[36m0:00:00\u001b[0m\n",
            "\u001b[2K   \u001b[90m━━━━━━━━━━━━━━━━━━━━━━━━━━━━━━━━━━━━━━━━\u001b[0m \u001b[32m1.3/1.3 MB\u001b[0m \u001b[31m55.3 MB/s\u001b[0m eta \u001b[36m0:00:00\u001b[0m\n",
            "\u001b[2K   \u001b[90m━━━━━━━━━━━━━━━━━━━━━━━━━━━━━━━━━━━━━━━━\u001b[0m \u001b[32m101.7/101.7 kB\u001b[0m \u001b[31m8.3 MB/s\u001b[0m eta \u001b[36m0:00:00\u001b[0m\n",
            "\u001b[2K   \u001b[90m━━━━━━━━━━━━━━━━━━━━━━━━━━━━━━━━━━━━━━━━\u001b[0m \u001b[32m228.0/228.0 kB\u001b[0m \u001b[31m17.4 MB/s\u001b[0m eta \u001b[36m0:00:00\u001b[0m\n",
            "\u001b[?25h  Building wheel for pyod (setup.py) ... \u001b[?25l\u001b[?25hdone\n",
            "  Building wheel for stringcase (setup.py) ... \u001b[?25l\u001b[?25hdone\n",
            "\u001b[31mERROR: pip's dependency resolver does not currently take into account all the packages that are installed. This behaviour is the source of the following dependency conflicts.\n",
            "google-colab 1.0.0 requires pandas==2.2.2, but you have pandas 2.1.4 which is incompatible.\n",
            "mizani 0.13.1 requires pandas>=2.2.0, but you have pandas 2.1.4 which is incompatible.\n",
            "plotnine 0.14.5 requires matplotlib>=3.8.0, but you have matplotlib 3.7.5 which is incompatible.\n",
            "plotnine 0.14.5 requires pandas>=2.2.0, but you have pandas 2.1.4 which is incompatible.\u001b[0m\u001b[31m\n",
            "\u001b[0m"
          ]
        }
      ]
    },
    {
      "cell_type": "code",
      "source": [
        "# <> ------------------------------------------------------\n",
        "# <> Verificando se o pacote foi instalado\n",
        "%pip show pycaret"
      ],
      "metadata": {
        "id": "8VRf_bX_-P6L",
        "colab": {
          "base_uri": "https://localhost:8080/"
        },
        "outputId": "5654321f-59e9-4888-8d5e-b49f5d50bf68"
      },
      "execution_count": null,
      "outputs": [
        {
          "output_type": "stream",
          "name": "stdout",
          "text": [
            "\u001b[33mWARNING: Package(s) not found: pycaret\u001b[0m\u001b[33m\n",
            "\u001b[0m"
          ]
        }
      ]
    },
    {
      "cell_type": "code",
      "source": [
        "# <> -----------------------------------------------------\n",
        "# Lendo as bibliotecas necessárias\n",
        "\n",
        "# <> -----------------------------\n",
        "# <> Bibliotecas dos algoritmos\n",
        "from pycaret.classification import *\n",
        "from sklearn.metrics import confusion_matrix, accuracy_score\n",
        "from sklearn.metrics import cohen_kappa_score, classification_report\n",
        "from sklearn.preprocessing import LabelEncoder\n",
        "from pycaret.classification import setup, create_model, predict_model, tune_model\n",
        "import numpy as np\n",
        "from sklearn.model_selection import train_test_split\n",
        "from scipy import stats\n",
        "\n",
        "# <> Bibliotecas de Visualização\n",
        "import seaborn as sns\n",
        "import matplotlib.pyplot as plt\n",
        "\n",
        "# <> Biliotecas para manipulação com dados\n",
        "import pandas as pd\n"
      ],
      "metadata": {
        "id": "bQ2nmmjG-R81"
      },
      "execution_count": 1,
      "outputs": []
    },
    {
      "cell_type": "markdown",
      "source": [
        "Forma 1 - Utilizando dados\n"
      ],
      "metadata": {
        "id": "kv5nvJqj-kT4"
      }
    },
    {
      "cell_type": "code",
      "source": [
        "url_data = '/content/student_admission_record_dirty.csv'  # Caminho do dataset\n",
        "df= pd.read_csv(url_data)"
      ],
      "metadata": {
        "id": "s3DqY9pf-lFq"
      },
      "execution_count": 2,
      "outputs": []
    },
    {
      "cell_type": "code",
      "source": [
        "# Remover colunas que não interessam--------\n",
        "df.drop(columns=['Name','City'], inplace=True)\n",
        "\n",
        "# Corrigir valores negativos\n",
        "df.loc[df['Age'] < 0, 'Age'] = None\n",
        "df.loc[df['Admission Test Score'] < 0, 'Admission Test Score'] = None\n",
        "df.loc[df['High School Percentage'] < 0, 'High School Percentage'] = None\n",
        "\n",
        "# Remover outliers extremos\n",
        "percentile_99 = df[['Admission Test Score', 'High School Percentage']].quantile(0.99)\n",
        "df = df[(df['Admission Test Score'] <= percentile_99['Admission Test Score']) &\n",
        "        (df['High School Percentage'] <= percentile_99['High School Percentage'])]\n",
        "\n",
        "# Remover registros onde Admission Status está ausente\n",
        "df.dropna(subset=['Admission Status'], inplace=True)\n",
        "\n",
        "# Preencher valores ausentes com a mediana para números e moda para categorias\n",
        "df.fillna({'Age': df['Age'].median(),\n",
        "           'Admission Test Score': df['Admission Test Score'].median(),\n",
        "           'High School Percentage': df['High School Percentage'].median(),\n",
        "           'Gender': df['Gender'].mode()[0]})\n",
        "\n",
        "\n",
        "# Converter variáveis categóricas para numéricas\n",
        "label_encoder = LabelEncoder()\n",
        "df['Gender'] = label_encoder.fit_transform(df['Gender'])"
      ],
      "metadata": {
        "id": "Dt2sa1MBZwaB"
      },
      "execution_count": 3,
      "outputs": []
    },
    {
      "cell_type": "code",
      "source": [
        "# <> ------------------------------------------------------\n",
        "# <> Visualizando Cabeçalho dos dados\n",
        "# <> ------------------------------------------------------\n",
        "df.head()"
      ],
      "metadata": {
        "colab": {
          "base_uri": "https://localhost:8080/",
          "height": 206
        },
        "id": "Sd1gfiJCAgHU",
        "outputId": "7cb93302-c6de-4b5f-e6b7-b142e7e28899"
      },
      "execution_count": 4,
      "outputs": [
        {
          "output_type": "execute_result",
          "data": {
            "text/plain": [
              "     Age  Gender  Admission Test Score  High School Percentage  \\\n",
              "0   24.0       0                  50.0                   68.90   \n",
              "3   17.0       1                  55.0                   85.29   \n",
              "7   20.0       0                  82.0                   55.67   \n",
              "9   18.0       1                  53.0                   98.98   \n",
              "13  21.0       1                  62.0                   79.03   \n",
              "\n",
              "   Admission Status  \n",
              "0          Rejected  \n",
              "3          Rejected  \n",
              "7          Accepted  \n",
              "9          Rejected  \n",
              "13         Accepted  "
            ],
            "text/html": [
              "\n",
              "  <div id=\"df-85063c8f-e45d-43c9-9645-7bbb74ca972d\" class=\"colab-df-container\">\n",
              "    <div>\n",
              "<style scoped>\n",
              "    .dataframe tbody tr th:only-of-type {\n",
              "        vertical-align: middle;\n",
              "    }\n",
              "\n",
              "    .dataframe tbody tr th {\n",
              "        vertical-align: top;\n",
              "    }\n",
              "\n",
              "    .dataframe thead th {\n",
              "        text-align: right;\n",
              "    }\n",
              "</style>\n",
              "<table border=\"1\" class=\"dataframe\">\n",
              "  <thead>\n",
              "    <tr style=\"text-align: right;\">\n",
              "      <th></th>\n",
              "      <th>Age</th>\n",
              "      <th>Gender</th>\n",
              "      <th>Admission Test Score</th>\n",
              "      <th>High School Percentage</th>\n",
              "      <th>Admission Status</th>\n",
              "    </tr>\n",
              "  </thead>\n",
              "  <tbody>\n",
              "    <tr>\n",
              "      <th>0</th>\n",
              "      <td>24.0</td>\n",
              "      <td>0</td>\n",
              "      <td>50.0</td>\n",
              "      <td>68.90</td>\n",
              "      <td>Rejected</td>\n",
              "    </tr>\n",
              "    <tr>\n",
              "      <th>3</th>\n",
              "      <td>17.0</td>\n",
              "      <td>1</td>\n",
              "      <td>55.0</td>\n",
              "      <td>85.29</td>\n",
              "      <td>Rejected</td>\n",
              "    </tr>\n",
              "    <tr>\n",
              "      <th>7</th>\n",
              "      <td>20.0</td>\n",
              "      <td>0</td>\n",
              "      <td>82.0</td>\n",
              "      <td>55.67</td>\n",
              "      <td>Accepted</td>\n",
              "    </tr>\n",
              "    <tr>\n",
              "      <th>9</th>\n",
              "      <td>18.0</td>\n",
              "      <td>1</td>\n",
              "      <td>53.0</td>\n",
              "      <td>98.98</td>\n",
              "      <td>Rejected</td>\n",
              "    </tr>\n",
              "    <tr>\n",
              "      <th>13</th>\n",
              "      <td>21.0</td>\n",
              "      <td>1</td>\n",
              "      <td>62.0</td>\n",
              "      <td>79.03</td>\n",
              "      <td>Accepted</td>\n",
              "    </tr>\n",
              "  </tbody>\n",
              "</table>\n",
              "</div>\n",
              "    <div class=\"colab-df-buttons\">\n",
              "\n",
              "  <div class=\"colab-df-container\">\n",
              "    <button class=\"colab-df-convert\" onclick=\"convertToInteractive('df-85063c8f-e45d-43c9-9645-7bbb74ca972d')\"\n",
              "            title=\"Convert this dataframe to an interactive table.\"\n",
              "            style=\"display:none;\">\n",
              "\n",
              "  <svg xmlns=\"http://www.w3.org/2000/svg\" height=\"24px\" viewBox=\"0 -960 960 960\">\n",
              "    <path d=\"M120-120v-720h720v720H120Zm60-500h600v-160H180v160Zm220 220h160v-160H400v160Zm0 220h160v-160H400v160ZM180-400h160v-160H180v160Zm440 0h160v-160H620v160ZM180-180h160v-160H180v160Zm440 0h160v-160H620v160Z\"/>\n",
              "  </svg>\n",
              "    </button>\n",
              "\n",
              "  <style>\n",
              "    .colab-df-container {\n",
              "      display:flex;\n",
              "      gap: 12px;\n",
              "    }\n",
              "\n",
              "    .colab-df-convert {\n",
              "      background-color: #E8F0FE;\n",
              "      border: none;\n",
              "      border-radius: 50%;\n",
              "      cursor: pointer;\n",
              "      display: none;\n",
              "      fill: #1967D2;\n",
              "      height: 32px;\n",
              "      padding: 0 0 0 0;\n",
              "      width: 32px;\n",
              "    }\n",
              "\n",
              "    .colab-df-convert:hover {\n",
              "      background-color: #E2EBFA;\n",
              "      box-shadow: 0px 1px 2px rgba(60, 64, 67, 0.3), 0px 1px 3px 1px rgba(60, 64, 67, 0.15);\n",
              "      fill: #174EA6;\n",
              "    }\n",
              "\n",
              "    .colab-df-buttons div {\n",
              "      margin-bottom: 4px;\n",
              "    }\n",
              "\n",
              "    [theme=dark] .colab-df-convert {\n",
              "      background-color: #3B4455;\n",
              "      fill: #D2E3FC;\n",
              "    }\n",
              "\n",
              "    [theme=dark] .colab-df-convert:hover {\n",
              "      background-color: #434B5C;\n",
              "      box-shadow: 0px 1px 3px 1px rgba(0, 0, 0, 0.15);\n",
              "      filter: drop-shadow(0px 1px 2px rgba(0, 0, 0, 0.3));\n",
              "      fill: #FFFFFF;\n",
              "    }\n",
              "  </style>\n",
              "\n",
              "    <script>\n",
              "      const buttonEl =\n",
              "        document.querySelector('#df-85063c8f-e45d-43c9-9645-7bbb74ca972d button.colab-df-convert');\n",
              "      buttonEl.style.display =\n",
              "        google.colab.kernel.accessAllowed ? 'block' : 'none';\n",
              "\n",
              "      async function convertToInteractive(key) {\n",
              "        const element = document.querySelector('#df-85063c8f-e45d-43c9-9645-7bbb74ca972d');\n",
              "        const dataTable =\n",
              "          await google.colab.kernel.invokeFunction('convertToInteractive',\n",
              "                                                    [key], {});\n",
              "        if (!dataTable) return;\n",
              "\n",
              "        const docLinkHtml = 'Like what you see? Visit the ' +\n",
              "          '<a target=\"_blank\" href=https://colab.research.google.com/notebooks/data_table.ipynb>data table notebook</a>'\n",
              "          + ' to learn more about interactive tables.';\n",
              "        element.innerHTML = '';\n",
              "        dataTable['output_type'] = 'display_data';\n",
              "        await google.colab.output.renderOutput(dataTable, element);\n",
              "        const docLink = document.createElement('div');\n",
              "        docLink.innerHTML = docLinkHtml;\n",
              "        element.appendChild(docLink);\n",
              "      }\n",
              "    </script>\n",
              "  </div>\n",
              "\n",
              "\n",
              "<div id=\"df-6d9d134c-ddc5-4edb-9eb2-dad2fc729e7b\">\n",
              "  <button class=\"colab-df-quickchart\" onclick=\"quickchart('df-6d9d134c-ddc5-4edb-9eb2-dad2fc729e7b')\"\n",
              "            title=\"Suggest charts\"\n",
              "            style=\"display:none;\">\n",
              "\n",
              "<svg xmlns=\"http://www.w3.org/2000/svg\" height=\"24px\"viewBox=\"0 0 24 24\"\n",
              "     width=\"24px\">\n",
              "    <g>\n",
              "        <path d=\"M19 3H5c-1.1 0-2 .9-2 2v14c0 1.1.9 2 2 2h14c1.1 0 2-.9 2-2V5c0-1.1-.9-2-2-2zM9 17H7v-7h2v7zm4 0h-2V7h2v10zm4 0h-2v-4h2v4z\"/>\n",
              "    </g>\n",
              "</svg>\n",
              "  </button>\n",
              "\n",
              "<style>\n",
              "  .colab-df-quickchart {\n",
              "      --bg-color: #E8F0FE;\n",
              "      --fill-color: #1967D2;\n",
              "      --hover-bg-color: #E2EBFA;\n",
              "      --hover-fill-color: #174EA6;\n",
              "      --disabled-fill-color: #AAA;\n",
              "      --disabled-bg-color: #DDD;\n",
              "  }\n",
              "\n",
              "  [theme=dark] .colab-df-quickchart {\n",
              "      --bg-color: #3B4455;\n",
              "      --fill-color: #D2E3FC;\n",
              "      --hover-bg-color: #434B5C;\n",
              "      --hover-fill-color: #FFFFFF;\n",
              "      --disabled-bg-color: #3B4455;\n",
              "      --disabled-fill-color: #666;\n",
              "  }\n",
              "\n",
              "  .colab-df-quickchart {\n",
              "    background-color: var(--bg-color);\n",
              "    border: none;\n",
              "    border-radius: 50%;\n",
              "    cursor: pointer;\n",
              "    display: none;\n",
              "    fill: var(--fill-color);\n",
              "    height: 32px;\n",
              "    padding: 0;\n",
              "    width: 32px;\n",
              "  }\n",
              "\n",
              "  .colab-df-quickchart:hover {\n",
              "    background-color: var(--hover-bg-color);\n",
              "    box-shadow: 0 1px 2px rgba(60, 64, 67, 0.3), 0 1px 3px 1px rgba(60, 64, 67, 0.15);\n",
              "    fill: var(--button-hover-fill-color);\n",
              "  }\n",
              "\n",
              "  .colab-df-quickchart-complete:disabled,\n",
              "  .colab-df-quickchart-complete:disabled:hover {\n",
              "    background-color: var(--disabled-bg-color);\n",
              "    fill: var(--disabled-fill-color);\n",
              "    box-shadow: none;\n",
              "  }\n",
              "\n",
              "  .colab-df-spinner {\n",
              "    border: 2px solid var(--fill-color);\n",
              "    border-color: transparent;\n",
              "    border-bottom-color: var(--fill-color);\n",
              "    animation:\n",
              "      spin 1s steps(1) infinite;\n",
              "  }\n",
              "\n",
              "  @keyframes spin {\n",
              "    0% {\n",
              "      border-color: transparent;\n",
              "      border-bottom-color: var(--fill-color);\n",
              "      border-left-color: var(--fill-color);\n",
              "    }\n",
              "    20% {\n",
              "      border-color: transparent;\n",
              "      border-left-color: var(--fill-color);\n",
              "      border-top-color: var(--fill-color);\n",
              "    }\n",
              "    30% {\n",
              "      border-color: transparent;\n",
              "      border-left-color: var(--fill-color);\n",
              "      border-top-color: var(--fill-color);\n",
              "      border-right-color: var(--fill-color);\n",
              "    }\n",
              "    40% {\n",
              "      border-color: transparent;\n",
              "      border-right-color: var(--fill-color);\n",
              "      border-top-color: var(--fill-color);\n",
              "    }\n",
              "    60% {\n",
              "      border-color: transparent;\n",
              "      border-right-color: var(--fill-color);\n",
              "    }\n",
              "    80% {\n",
              "      border-color: transparent;\n",
              "      border-right-color: var(--fill-color);\n",
              "      border-bottom-color: var(--fill-color);\n",
              "    }\n",
              "    90% {\n",
              "      border-color: transparent;\n",
              "      border-bottom-color: var(--fill-color);\n",
              "    }\n",
              "  }\n",
              "</style>\n",
              "\n",
              "  <script>\n",
              "    async function quickchart(key) {\n",
              "      const quickchartButtonEl =\n",
              "        document.querySelector('#' + key + ' button');\n",
              "      quickchartButtonEl.disabled = true;  // To prevent multiple clicks.\n",
              "      quickchartButtonEl.classList.add('colab-df-spinner');\n",
              "      try {\n",
              "        const charts = await google.colab.kernel.invokeFunction(\n",
              "            'suggestCharts', [key], {});\n",
              "      } catch (error) {\n",
              "        console.error('Error during call to suggestCharts:', error);\n",
              "      }\n",
              "      quickchartButtonEl.classList.remove('colab-df-spinner');\n",
              "      quickchartButtonEl.classList.add('colab-df-quickchart-complete');\n",
              "    }\n",
              "    (() => {\n",
              "      let quickchartButtonEl =\n",
              "        document.querySelector('#df-6d9d134c-ddc5-4edb-9eb2-dad2fc729e7b button');\n",
              "      quickchartButtonEl.style.display =\n",
              "        google.colab.kernel.accessAllowed ? 'block' : 'none';\n",
              "    })();\n",
              "  </script>\n",
              "</div>\n",
              "\n",
              "    </div>\n",
              "  </div>\n"
            ],
            "application/vnd.google.colaboratory.intrinsic+json": {
              "type": "dataframe",
              "variable_name": "df",
              "summary": "{\n  \"name\": \"df\",\n  \"rows\": 124,\n  \"fields\": [\n    {\n      \"column\": \"Age\",\n      \"properties\": {\n        \"dtype\": \"number\",\n        \"std\": 2.444786456389962,\n        \"min\": 17.0,\n        \"max\": 24.0,\n        \"num_unique_values\": 8,\n        \"samples\": [\n          17.0,\n          22.0,\n          24.0\n        ],\n        \"semantic_type\": \"\",\n        \"description\": \"\"\n      }\n    },\n    {\n      \"column\": \"Gender\",\n      \"properties\": {\n        \"dtype\": \"number\",\n        \"std\": 0,\n        \"min\": 0,\n        \"max\": 2,\n        \"num_unique_values\": 3,\n        \"samples\": [\n          0,\n          1,\n          2\n        ],\n        \"semantic_type\": \"\",\n        \"description\": \"\"\n      }\n    },\n    {\n      \"column\": \"Admission Test Score\",\n      \"properties\": {\n        \"dtype\": \"number\",\n        \"std\": 14.145999333428465,\n        \"min\": 50.0,\n        \"max\": 99.0,\n        \"num_unique_values\": 44,\n        \"samples\": [\n          88.0,\n          98.0,\n          72.0\n        ],\n        \"semantic_type\": \"\",\n        \"description\": \"\"\n      }\n    },\n    {\n      \"column\": \"High School Percentage\",\n      \"properties\": {\n        \"dtype\": \"number\",\n        \"std\": 14.400113148650666,\n        \"min\": 40.7,\n        \"max\": 98.98,\n        \"num_unique_values\": 113,\n        \"samples\": [\n          58.77,\n          79.03,\n          86.58\n        ],\n        \"semantic_type\": \"\",\n        \"description\": \"\"\n      }\n    },\n    {\n      \"column\": \"Admission Status\",\n      \"properties\": {\n        \"dtype\": \"category\",\n        \"num_unique_values\": 2,\n        \"samples\": [\n          \"Accepted\",\n          \"Rejected\"\n        ],\n        \"semantic_type\": \"\",\n        \"description\": \"\"\n      }\n    }\n  ]\n}"
            }
          },
          "metadata": {},
          "execution_count": 4
        }
      ]
    },
    {
      "cell_type": "code",
      "source": [
        "df.dtypes"
      ],
      "metadata": {
        "colab": {
          "base_uri": "https://localhost:8080/",
          "height": 241
        },
        "id": "dZjok6CWm67j",
        "outputId": "1bd07613-82bf-4716-ad10-35c4cffaf39a"
      },
      "execution_count": 5,
      "outputs": [
        {
          "output_type": "execute_result",
          "data": {
            "text/plain": [
              "Age                       float64\n",
              "Gender                      int64\n",
              "Admission Test Score      float64\n",
              "High School Percentage    float64\n",
              "Admission Status           object\n",
              "dtype: object"
            ],
            "text/html": [
              "<div>\n",
              "<style scoped>\n",
              "    .dataframe tbody tr th:only-of-type {\n",
              "        vertical-align: middle;\n",
              "    }\n",
              "\n",
              "    .dataframe tbody tr th {\n",
              "        vertical-align: top;\n",
              "    }\n",
              "\n",
              "    .dataframe thead th {\n",
              "        text-align: right;\n",
              "    }\n",
              "</style>\n",
              "<table border=\"1\" class=\"dataframe\">\n",
              "  <thead>\n",
              "    <tr style=\"text-align: right;\">\n",
              "      <th></th>\n",
              "      <th>0</th>\n",
              "    </tr>\n",
              "  </thead>\n",
              "  <tbody>\n",
              "    <tr>\n",
              "      <th>Age</th>\n",
              "      <td>float64</td>\n",
              "    </tr>\n",
              "    <tr>\n",
              "      <th>Gender</th>\n",
              "      <td>int64</td>\n",
              "    </tr>\n",
              "    <tr>\n",
              "      <th>Admission Test Score</th>\n",
              "      <td>float64</td>\n",
              "    </tr>\n",
              "    <tr>\n",
              "      <th>High School Percentage</th>\n",
              "      <td>float64</td>\n",
              "    </tr>\n",
              "    <tr>\n",
              "      <th>Admission Status</th>\n",
              "      <td>object</td>\n",
              "    </tr>\n",
              "  </tbody>\n",
              "</table>\n",
              "</div><br><label><b>dtype:</b> object</label>"
            ]
          },
          "metadata": {},
          "execution_count": 5
        }
      ]
    },
    {
      "cell_type": "code",
      "source": [
        "# Separar 80% para treino e 20% para teste\n",
        "df_train, df_test = train_test_split(df, test_size=0.2, random_state=1234)"
      ],
      "metadata": {
        "id": "oqhHk4ICUv5i"
      },
      "execution_count": 6,
      "outputs": []
    },
    {
      "cell_type": "code",
      "source": [
        "# Configurar o ambiente PyCaret\n",
        "clf = setup(data=df_train, target='Admission Status', session_id=1234,normalize=True)"
      ],
      "metadata": {
        "id": "S0_LeqkFKP3G",
        "colab": {
          "base_uri": "https://localhost:8080/",
          "height": 771
        },
        "outputId": "faeaf592-a1b8-4944-f1ae-1c68219b0582"
      },
      "execution_count": 7,
      "outputs": [
        {
          "output_type": "display_data",
          "data": {
            "text/plain": [
              "<pandas.io.formats.style.Styler at 0x78c323926150>"
            ],
            "text/html": [
              "<style type=\"text/css\">\n",
              "#T_d6d5c_row10_col1, #T_d6d5c_row14_col1 {\n",
              "  background-color: lightgreen;\n",
              "}\n",
              "</style>\n",
              "<table id=\"T_d6d5c\" class=\"dataframe\">\n",
              "  <thead>\n",
              "    <tr>\n",
              "      <th class=\"blank level0\" >&nbsp;</th>\n",
              "      <th id=\"T_d6d5c_level0_col0\" class=\"col_heading level0 col0\" >Description</th>\n",
              "      <th id=\"T_d6d5c_level0_col1\" class=\"col_heading level0 col1\" >Value</th>\n",
              "    </tr>\n",
              "  </thead>\n",
              "  <tbody>\n",
              "    <tr>\n",
              "      <th id=\"T_d6d5c_level0_row0\" class=\"row_heading level0 row0\" >0</th>\n",
              "      <td id=\"T_d6d5c_row0_col0\" class=\"data row0 col0\" >Session id</td>\n",
              "      <td id=\"T_d6d5c_row0_col1\" class=\"data row0 col1\" >1234</td>\n",
              "    </tr>\n",
              "    <tr>\n",
              "      <th id=\"T_d6d5c_level0_row1\" class=\"row_heading level0 row1\" >1</th>\n",
              "      <td id=\"T_d6d5c_row1_col0\" class=\"data row1 col0\" >Target</td>\n",
              "      <td id=\"T_d6d5c_row1_col1\" class=\"data row1 col1\" >Admission Status</td>\n",
              "    </tr>\n",
              "    <tr>\n",
              "      <th id=\"T_d6d5c_level0_row2\" class=\"row_heading level0 row2\" >2</th>\n",
              "      <td id=\"T_d6d5c_row2_col0\" class=\"data row2 col0\" >Target type</td>\n",
              "      <td id=\"T_d6d5c_row2_col1\" class=\"data row2 col1\" >Binary</td>\n",
              "    </tr>\n",
              "    <tr>\n",
              "      <th id=\"T_d6d5c_level0_row3\" class=\"row_heading level0 row3\" >3</th>\n",
              "      <td id=\"T_d6d5c_row3_col0\" class=\"data row3 col0\" >Target mapping</td>\n",
              "      <td id=\"T_d6d5c_row3_col1\" class=\"data row3 col1\" >Accepted: 0, Rejected: 1</td>\n",
              "    </tr>\n",
              "    <tr>\n",
              "      <th id=\"T_d6d5c_level0_row4\" class=\"row_heading level0 row4\" >4</th>\n",
              "      <td id=\"T_d6d5c_row4_col0\" class=\"data row4 col0\" >Original data shape</td>\n",
              "      <td id=\"T_d6d5c_row4_col1\" class=\"data row4 col1\" >(99, 5)</td>\n",
              "    </tr>\n",
              "    <tr>\n",
              "      <th id=\"T_d6d5c_level0_row5\" class=\"row_heading level0 row5\" >5</th>\n",
              "      <td id=\"T_d6d5c_row5_col0\" class=\"data row5 col0\" >Transformed data shape</td>\n",
              "      <td id=\"T_d6d5c_row5_col1\" class=\"data row5 col1\" >(99, 5)</td>\n",
              "    </tr>\n",
              "    <tr>\n",
              "      <th id=\"T_d6d5c_level0_row6\" class=\"row_heading level0 row6\" >6</th>\n",
              "      <td id=\"T_d6d5c_row6_col0\" class=\"data row6 col0\" >Transformed train set shape</td>\n",
              "      <td id=\"T_d6d5c_row6_col1\" class=\"data row6 col1\" >(69, 5)</td>\n",
              "    </tr>\n",
              "    <tr>\n",
              "      <th id=\"T_d6d5c_level0_row7\" class=\"row_heading level0 row7\" >7</th>\n",
              "      <td id=\"T_d6d5c_row7_col0\" class=\"data row7 col0\" >Transformed test set shape</td>\n",
              "      <td id=\"T_d6d5c_row7_col1\" class=\"data row7 col1\" >(30, 5)</td>\n",
              "    </tr>\n",
              "    <tr>\n",
              "      <th id=\"T_d6d5c_level0_row8\" class=\"row_heading level0 row8\" >8</th>\n",
              "      <td id=\"T_d6d5c_row8_col0\" class=\"data row8 col0\" >Numeric features</td>\n",
              "      <td id=\"T_d6d5c_row8_col1\" class=\"data row8 col1\" >4</td>\n",
              "    </tr>\n",
              "    <tr>\n",
              "      <th id=\"T_d6d5c_level0_row9\" class=\"row_heading level0 row9\" >9</th>\n",
              "      <td id=\"T_d6d5c_row9_col0\" class=\"data row9 col0\" >Rows with missing values</td>\n",
              "      <td id=\"T_d6d5c_row9_col1\" class=\"data row9 col1\" >10.1%</td>\n",
              "    </tr>\n",
              "    <tr>\n",
              "      <th id=\"T_d6d5c_level0_row10\" class=\"row_heading level0 row10\" >10</th>\n",
              "      <td id=\"T_d6d5c_row10_col0\" class=\"data row10 col0\" >Preprocess</td>\n",
              "      <td id=\"T_d6d5c_row10_col1\" class=\"data row10 col1\" >True</td>\n",
              "    </tr>\n",
              "    <tr>\n",
              "      <th id=\"T_d6d5c_level0_row11\" class=\"row_heading level0 row11\" >11</th>\n",
              "      <td id=\"T_d6d5c_row11_col0\" class=\"data row11 col0\" >Imputation type</td>\n",
              "      <td id=\"T_d6d5c_row11_col1\" class=\"data row11 col1\" >simple</td>\n",
              "    </tr>\n",
              "    <tr>\n",
              "      <th id=\"T_d6d5c_level0_row12\" class=\"row_heading level0 row12\" >12</th>\n",
              "      <td id=\"T_d6d5c_row12_col0\" class=\"data row12 col0\" >Numeric imputation</td>\n",
              "      <td id=\"T_d6d5c_row12_col1\" class=\"data row12 col1\" >mean</td>\n",
              "    </tr>\n",
              "    <tr>\n",
              "      <th id=\"T_d6d5c_level0_row13\" class=\"row_heading level0 row13\" >13</th>\n",
              "      <td id=\"T_d6d5c_row13_col0\" class=\"data row13 col0\" >Categorical imputation</td>\n",
              "      <td id=\"T_d6d5c_row13_col1\" class=\"data row13 col1\" >mode</td>\n",
              "    </tr>\n",
              "    <tr>\n",
              "      <th id=\"T_d6d5c_level0_row14\" class=\"row_heading level0 row14\" >14</th>\n",
              "      <td id=\"T_d6d5c_row14_col0\" class=\"data row14 col0\" >Normalize</td>\n",
              "      <td id=\"T_d6d5c_row14_col1\" class=\"data row14 col1\" >True</td>\n",
              "    </tr>\n",
              "    <tr>\n",
              "      <th id=\"T_d6d5c_level0_row15\" class=\"row_heading level0 row15\" >15</th>\n",
              "      <td id=\"T_d6d5c_row15_col0\" class=\"data row15 col0\" >Normalize method</td>\n",
              "      <td id=\"T_d6d5c_row15_col1\" class=\"data row15 col1\" >zscore</td>\n",
              "    </tr>\n",
              "    <tr>\n",
              "      <th id=\"T_d6d5c_level0_row16\" class=\"row_heading level0 row16\" >16</th>\n",
              "      <td id=\"T_d6d5c_row16_col0\" class=\"data row16 col0\" >Fold Generator</td>\n",
              "      <td id=\"T_d6d5c_row16_col1\" class=\"data row16 col1\" >StratifiedKFold</td>\n",
              "    </tr>\n",
              "    <tr>\n",
              "      <th id=\"T_d6d5c_level0_row17\" class=\"row_heading level0 row17\" >17</th>\n",
              "      <td id=\"T_d6d5c_row17_col0\" class=\"data row17 col0\" >Fold Number</td>\n",
              "      <td id=\"T_d6d5c_row17_col1\" class=\"data row17 col1\" >10</td>\n",
              "    </tr>\n",
              "    <tr>\n",
              "      <th id=\"T_d6d5c_level0_row18\" class=\"row_heading level0 row18\" >18</th>\n",
              "      <td id=\"T_d6d5c_row18_col0\" class=\"data row18 col0\" >CPU Jobs</td>\n",
              "      <td id=\"T_d6d5c_row18_col1\" class=\"data row18 col1\" >-1</td>\n",
              "    </tr>\n",
              "    <tr>\n",
              "      <th id=\"T_d6d5c_level0_row19\" class=\"row_heading level0 row19\" >19</th>\n",
              "      <td id=\"T_d6d5c_row19_col0\" class=\"data row19 col0\" >Use GPU</td>\n",
              "      <td id=\"T_d6d5c_row19_col1\" class=\"data row19 col1\" >False</td>\n",
              "    </tr>\n",
              "    <tr>\n",
              "      <th id=\"T_d6d5c_level0_row20\" class=\"row_heading level0 row20\" >20</th>\n",
              "      <td id=\"T_d6d5c_row20_col0\" class=\"data row20 col0\" >Log Experiment</td>\n",
              "      <td id=\"T_d6d5c_row20_col1\" class=\"data row20 col1\" >False</td>\n",
              "    </tr>\n",
              "    <tr>\n",
              "      <th id=\"T_d6d5c_level0_row21\" class=\"row_heading level0 row21\" >21</th>\n",
              "      <td id=\"T_d6d5c_row21_col0\" class=\"data row21 col0\" >Experiment Name</td>\n",
              "      <td id=\"T_d6d5c_row21_col1\" class=\"data row21 col1\" >clf-default-name</td>\n",
              "    </tr>\n",
              "    <tr>\n",
              "      <th id=\"T_d6d5c_level0_row22\" class=\"row_heading level0 row22\" >22</th>\n",
              "      <td id=\"T_d6d5c_row22_col0\" class=\"data row22 col0\" >USI</td>\n",
              "      <td id=\"T_d6d5c_row22_col1\" class=\"data row22 col1\" >b176</td>\n",
              "    </tr>\n",
              "  </tbody>\n",
              "</table>\n"
            ]
          },
          "metadata": {}
        }
      ]
    },
    {
      "cell_type": "code",
      "source": [
        "# Criando o modelo 'knn'\n",
        "knn_model = create_model('knn', n_neighbors=5, fold=5)\n",
        "print(knn_model)"
      ],
      "metadata": {
        "id": "8bii451HKQ4d",
        "colab": {
          "base_uri": "https://localhost:8080/",
          "height": 352,
          "referenced_widgets": [
            "1f1d21d3b9eb4c0fae2caed768b4ea0e",
            "1389200719d941f79d4dfec905881420",
            "c140207bb27842ce9fbd828e08122b4b",
            "38ca5c0bc5264228bc4f6f8473a8dcee",
            "5b1df4a5c28341a9a1a741f5fd35ec97",
            "0fef3239b1564283be2875c557e4be71",
            "7e945a9997914d4a9b30833e4ca6be33",
            "18c38783b8b54736a248b39b44826110",
            "6d29398c697946439c45402c61213a0d",
            "597efd9f9a50419ca62b7aa755201b3c",
            "54289200d0294a7f84587ccd86e2d851"
          ]
        },
        "outputId": "9ca254d6-8bb1-4f3e-b825-4a0ec12e350c"
      },
      "execution_count": 8,
      "outputs": [
        {
          "output_type": "display_data",
          "data": {
            "text/plain": [
              "<IPython.core.display.HTML object>"
            ],
            "text/html": []
          },
          "metadata": {}
        },
        {
          "output_type": "display_data",
          "data": {
            "text/plain": [
              "<pandas.io.formats.style.Styler at 0x78c188559a10>"
            ],
            "text/html": [
              "<style type=\"text/css\">\n",
              "#T_585d5_row5_col0, #T_585d5_row5_col1, #T_585d5_row5_col2, #T_585d5_row5_col3, #T_585d5_row5_col4, #T_585d5_row5_col5, #T_585d5_row5_col6 {\n",
              "  background: yellow;\n",
              "}\n",
              "</style>\n",
              "<table id=\"T_585d5\" class=\"dataframe\">\n",
              "  <thead>\n",
              "    <tr>\n",
              "      <th class=\"blank level0\" >&nbsp;</th>\n",
              "      <th id=\"T_585d5_level0_col0\" class=\"col_heading level0 col0\" >Accuracy</th>\n",
              "      <th id=\"T_585d5_level0_col1\" class=\"col_heading level0 col1\" >AUC</th>\n",
              "      <th id=\"T_585d5_level0_col2\" class=\"col_heading level0 col2\" >Recall</th>\n",
              "      <th id=\"T_585d5_level0_col3\" class=\"col_heading level0 col3\" >Prec.</th>\n",
              "      <th id=\"T_585d5_level0_col4\" class=\"col_heading level0 col4\" >F1</th>\n",
              "      <th id=\"T_585d5_level0_col5\" class=\"col_heading level0 col5\" >Kappa</th>\n",
              "      <th id=\"T_585d5_level0_col6\" class=\"col_heading level0 col6\" >MCC</th>\n",
              "    </tr>\n",
              "    <tr>\n",
              "      <th class=\"index_name level0\" >Fold</th>\n",
              "      <th class=\"blank col0\" >&nbsp;</th>\n",
              "      <th class=\"blank col1\" >&nbsp;</th>\n",
              "      <th class=\"blank col2\" >&nbsp;</th>\n",
              "      <th class=\"blank col3\" >&nbsp;</th>\n",
              "      <th class=\"blank col4\" >&nbsp;</th>\n",
              "      <th class=\"blank col5\" >&nbsp;</th>\n",
              "      <th class=\"blank col6\" >&nbsp;</th>\n",
              "    </tr>\n",
              "  </thead>\n",
              "  <tbody>\n",
              "    <tr>\n",
              "      <th id=\"T_585d5_level0_row0\" class=\"row_heading level0 row0\" >0</th>\n",
              "      <td id=\"T_585d5_row0_col0\" class=\"data row0 col0\" >0.3571</td>\n",
              "      <td id=\"T_585d5_row0_col1\" class=\"data row0 col1\" >0.2604</td>\n",
              "      <td id=\"T_585d5_row0_col2\" class=\"data row0 col2\" >0.3571</td>\n",
              "      <td id=\"T_585d5_row0_col3\" class=\"data row0 col3\" >0.3714</td>\n",
              "      <td id=\"T_585d5_row0_col4\" class=\"data row0 col4\" >0.3473</td>\n",
              "      <td id=\"T_585d5_row0_col5\" class=\"data row0 col5\" >-0.2353</td>\n",
              "      <td id=\"T_585d5_row0_col6\" class=\"data row0 col6\" >-0.2582</td>\n",
              "    </tr>\n",
              "    <tr>\n",
              "      <th id=\"T_585d5_level0_row1\" class=\"row_heading level0 row1\" >1</th>\n",
              "      <td id=\"T_585d5_row1_col0\" class=\"data row1 col0\" >0.5714</td>\n",
              "      <td id=\"T_585d5_row1_col1\" class=\"data row1 col1\" >0.5510</td>\n",
              "      <td id=\"T_585d5_row1_col2\" class=\"data row1 col2\" >0.5714</td>\n",
              "      <td id=\"T_585d5_row1_col3\" class=\"data row1 col3\" >0.5778</td>\n",
              "      <td id=\"T_585d5_row1_col4\" class=\"data row1 col4\" >0.5625</td>\n",
              "      <td id=\"T_585d5_row1_col5\" class=\"data row1 col5\" >0.1429</td>\n",
              "      <td id=\"T_585d5_row1_col6\" class=\"data row1 col6\" >0.1491</td>\n",
              "    </tr>\n",
              "    <tr>\n",
              "      <th id=\"T_585d5_level0_row2\" class=\"row_heading level0 row2\" >2</th>\n",
              "      <td id=\"T_585d5_row2_col0\" class=\"data row2 col0\" >0.4286</td>\n",
              "      <td id=\"T_585d5_row2_col1\" class=\"data row2 col1\" >0.3673</td>\n",
              "      <td id=\"T_585d5_row2_col2\" class=\"data row2 col2\" >0.4286</td>\n",
              "      <td id=\"T_585d5_row2_col3\" class=\"data row2 col3\" >0.4286</td>\n",
              "      <td id=\"T_585d5_row2_col4\" class=\"data row2 col4\" >0.4286</td>\n",
              "      <td id=\"T_585d5_row2_col5\" class=\"data row2 col5\" >-0.1429</td>\n",
              "      <td id=\"T_585d5_row2_col6\" class=\"data row2 col6\" >-0.1429</td>\n",
              "    </tr>\n",
              "    <tr>\n",
              "      <th id=\"T_585d5_level0_row3\" class=\"row_heading level0 row3\" >3</th>\n",
              "      <td id=\"T_585d5_row3_col0\" class=\"data row3 col0\" >0.3571</td>\n",
              "      <td id=\"T_585d5_row3_col1\" class=\"data row3 col1\" >0.1735</td>\n",
              "      <td id=\"T_585d5_row3_col2\" class=\"data row3 col2\" >0.3571</td>\n",
              "      <td id=\"T_585d5_row3_col3\" class=\"data row3 col3\" >0.3250</td>\n",
              "      <td id=\"T_585d5_row3_col4\" class=\"data row3 col4\" >0.3262</td>\n",
              "      <td id=\"T_585d5_row3_col5\" class=\"data row3 col5\" >-0.2857</td>\n",
              "      <td id=\"T_585d5_row3_col6\" class=\"data row3 col6\" >-0.3162</td>\n",
              "    </tr>\n",
              "    <tr>\n",
              "      <th id=\"T_585d5_level0_row4\" class=\"row_heading level0 row4\" >4</th>\n",
              "      <td id=\"T_585d5_row4_col0\" class=\"data row4 col0\" >0.3077</td>\n",
              "      <td id=\"T_585d5_row4_col1\" class=\"data row4 col1\" >0.4048</td>\n",
              "      <td id=\"T_585d5_row4_col2\" class=\"data row4 col2\" >0.3077</td>\n",
              "      <td id=\"T_585d5_row4_col3\" class=\"data row4 col3\" >0.2942</td>\n",
              "      <td id=\"T_585d5_row4_col4\" class=\"data row4 col4\" >0.2993</td>\n",
              "      <td id=\"T_585d5_row4_col5\" class=\"data row4 col5\" >-0.4096</td>\n",
              "      <td id=\"T_585d5_row4_col6\" class=\"data row4 col6\" >-0.4148</td>\n",
              "    </tr>\n",
              "    <tr>\n",
              "      <th id=\"T_585d5_level0_row5\" class=\"row_heading level0 row5\" >Mean</th>\n",
              "      <td id=\"T_585d5_row5_col0\" class=\"data row5 col0\" >0.4044</td>\n",
              "      <td id=\"T_585d5_row5_col1\" class=\"data row5 col1\" >0.3514</td>\n",
              "      <td id=\"T_585d5_row5_col2\" class=\"data row5 col2\" >0.4044</td>\n",
              "      <td id=\"T_585d5_row5_col3\" class=\"data row5 col3\" >0.3994</td>\n",
              "      <td id=\"T_585d5_row5_col4\" class=\"data row5 col4\" >0.3928</td>\n",
              "      <td id=\"T_585d5_row5_col5\" class=\"data row5 col5\" >-0.1861</td>\n",
              "      <td id=\"T_585d5_row5_col6\" class=\"data row5 col6\" >-0.1966</td>\n",
              "    </tr>\n",
              "    <tr>\n",
              "      <th id=\"T_585d5_level0_row6\" class=\"row_heading level0 row6\" >Std</th>\n",
              "      <td id=\"T_585d5_row6_col0\" class=\"data row6 col0\" >0.0920</td>\n",
              "      <td id=\"T_585d5_row6_col1\" class=\"data row6 col1\" >0.1288</td>\n",
              "      <td id=\"T_585d5_row6_col2\" class=\"data row6 col2\" >0.0920</td>\n",
              "      <td id=\"T_585d5_row6_col3\" class=\"data row6 col3\" >0.1000</td>\n",
              "      <td id=\"T_585d5_row6_col4\" class=\"data row6 col4\" >0.0952</td>\n",
              "      <td id=\"T_585d5_row6_col5\" class=\"data row6 col5\" >0.1857</td>\n",
              "      <td id=\"T_585d5_row6_col6\" class=\"data row6 col6\" >0.1939</td>\n",
              "    </tr>\n",
              "  </tbody>\n",
              "</table>\n"
            ]
          },
          "metadata": {}
        },
        {
          "output_type": "display_data",
          "data": {
            "text/plain": [
              "Processing:   0%|          | 0/4 [00:00<?, ?it/s]"
            ],
            "application/vnd.jupyter.widget-view+json": {
              "version_major": 2,
              "version_minor": 0,
              "model_id": "1f1d21d3b9eb4c0fae2caed768b4ea0e"
            }
          },
          "metadata": {
            "application/vnd.jupyter.widget-view+json": {
              "colab": {
                "custom_widget_manager": {
                  "url": "https://ssl.gstatic.com/colaboratory-static/widgets/colab-cdn-widget-manager/2b70e893a8ba7c0f/manager.min.js"
                }
              }
            }
          }
        },
        {
          "output_type": "display_data",
          "data": {
            "text/plain": [
              "<IPython.core.display.HTML object>"
            ],
            "text/html": []
          },
          "metadata": {}
        },
        {
          "output_type": "stream",
          "name": "stdout",
          "text": [
            "KNeighborsClassifier(algorithm='auto', leaf_size=30, metric='minkowski',\n",
            "                     metric_params=None, n_jobs=-1, n_neighbors=5, p=2,\n",
            "                     weights='uniform')\n"
          ]
        }
      ]
    },
    {
      "cell_type": "code",
      "source": [
        "# Testar modelo nos dados de teste (dados novos, sem \"contaminação\")\n",
        "test_predictions = predict_model(knn_model, data=df_test)"
      ],
      "metadata": {
        "colab": {
          "base_uri": "https://localhost:8080/",
          "height": 81
        },
        "id": "gKwGWypsOFIQ",
        "outputId": "a0f438d5-69be-4392-f308-e8e5a202086e"
      },
      "execution_count": 9,
      "outputs": [
        {
          "output_type": "display_data",
          "data": {
            "text/plain": [
              "<pandas.io.formats.style.Styler at 0x78c2e0686150>"
            ],
            "text/html": [
              "<style type=\"text/css\">\n",
              "</style>\n",
              "<table id=\"T_6addf\" class=\"dataframe\">\n",
              "  <thead>\n",
              "    <tr>\n",
              "      <th class=\"blank level0\" >&nbsp;</th>\n",
              "      <th id=\"T_6addf_level0_col0\" class=\"col_heading level0 col0\" >Model</th>\n",
              "      <th id=\"T_6addf_level0_col1\" class=\"col_heading level0 col1\" >Accuracy</th>\n",
              "      <th id=\"T_6addf_level0_col2\" class=\"col_heading level0 col2\" >AUC</th>\n",
              "      <th id=\"T_6addf_level0_col3\" class=\"col_heading level0 col3\" >Recall</th>\n",
              "      <th id=\"T_6addf_level0_col4\" class=\"col_heading level0 col4\" >Prec.</th>\n",
              "      <th id=\"T_6addf_level0_col5\" class=\"col_heading level0 col5\" >F1</th>\n",
              "      <th id=\"T_6addf_level0_col6\" class=\"col_heading level0 col6\" >Kappa</th>\n",
              "      <th id=\"T_6addf_level0_col7\" class=\"col_heading level0 col7\" >MCC</th>\n",
              "    </tr>\n",
              "  </thead>\n",
              "  <tbody>\n",
              "    <tr>\n",
              "      <th id=\"T_6addf_level0_row0\" class=\"row_heading level0 row0\" >0</th>\n",
              "      <td id=\"T_6addf_row0_col0\" class=\"data row0 col0\" >K Neighbors Classifier</td>\n",
              "      <td id=\"T_6addf_row0_col1\" class=\"data row0 col1\" >0.5600</td>\n",
              "      <td id=\"T_6addf_row0_col2\" class=\"data row0 col2\" >0.5673</td>\n",
              "      <td id=\"T_6addf_row0_col3\" class=\"data row0 col3\" >0.5600</td>\n",
              "      <td id=\"T_6addf_row0_col4\" class=\"data row0 col4\" >0.5590</td>\n",
              "      <td id=\"T_6addf_row0_col5\" class=\"data row0 col5\" >0.5586</td>\n",
              "      <td id=\"T_6addf_row0_col6\" class=\"data row0 col6\" >0.1158</td>\n",
              "      <td id=\"T_6addf_row0_col7\" class=\"data row0 col7\" >0.1161</td>\n",
              "    </tr>\n",
              "  </tbody>\n",
              "</table>\n"
            ]
          },
          "metadata": {}
        }
      ]
    },
    {
      "cell_type": "code",
      "source": [
        "# Assuming test_predictions['prediction_label'] contains your predicted labels\n",
        "predicted_labels = test_predictions['prediction_label']\n",
        "true_labels = df_test['Admission Status']  # Assuming 'Admission Status' is your target column\n",
        "\n",
        "conf_matrix = confusion_matrix(true_labels, predicted_labels)\n",
        "plt.figure(figsize=(10,7))\n",
        "sns.heatmap(conf_matrix, annot=True, fmt='d', cmap='Blues')\n",
        "plt.xlabel('Predicted Labels')\n",
        "plt.ylabel('True Labels')\n",
        "plt.title('Confusion Matrix')\n",
        "plt.show()\n",
        "\n",
        "# Calcular métricas\n",
        "accuracy = accuracy_score(true_labels, predicted_labels)\n",
        "kappa = cohen_kappa_score(true_labels, predicted_labels)\n",
        "classification_rep = classification_report(true_labels, predicted_labels)\n",
        "\n",
        "print(f'Accuracy: {accuracy}')\n",
        "print(f'Kappa: {kappa}')\n",
        "print('Classification Report:')\n",
        "print(classification_rep)\n"
      ],
      "metadata": {
        "colab": {
          "base_uri": "https://localhost:8080/",
          "height": 847
        },
        "id": "bK0bODB7O3R2",
        "outputId": "287aee3c-f052-4d23-df2f-f4ae9aa0c103"
      },
      "execution_count": 10,
      "outputs": [
        {
          "output_type": "display_data",
          "data": {
            "text/plain": [
              "<Figure size 1000x700 with 2 Axes>"
            ],
            "image/png": "[encoded data removed]"
          },
          "metadata": {}
        },
        {
          "output_type": "stream",
          "name": "stdout",
          "text": [
            "Accuracy: 0.56\n",
            "Kappa: 0.11575562700964626\n",
            "Classification Report:\n",
            "              precision    recall  f1-score   support\n",
            "\n",
            "    Accepted       0.57      0.62      0.59        13\n",
            "    Rejected       0.55      0.50      0.52        12\n",
            "\n",
            "    accuracy                           0.56        25\n",
            "   macro avg       0.56      0.56      0.56        25\n",
            "weighted avg       0.56      0.56      0.56        25\n",
            "\n"
          ]
        }
      ]
    },
    {
      "cell_type": "code",
      "source": [
        "# Visualizando o modelo\n",
        "graph1 = plot_model(knn_model, plot='boundary')"
      ],
      "metadata": {
        "colab": {
          "base_uri": "https://localhost:8080/",
          "height": 503
        },
        "id": "4rEz2TdFWXyc",
        "outputId": "5777f07b-9124-4597-c05d-a2d7889c3ccc"
      },
      "execution_count": 11,
      "outputs": [
        {
          "output_type": "display_data",
          "data": {
            "text/plain": [
              "<IPython.core.display.HTML object>"
            ],
            "text/html": []
          },
          "metadata": {}
        },
        {
          "output_type": "display_data",
          "data": {
            "text/plain": [
              "<Figure size 800x550 with 1 Axes>"
            ],
            "image/png": "[encoded data removed]"
          },
          "metadata": {}
        }
      ]
    },
    {
      "cell_type": "code",
      "source": [
        "# Visualizando o modelo\n",
        "graph2 = plot_model(knn_model, plot='learning')\n"
      ],
      "metadata": {
        "id": "pbQIeeqKKVE5",
        "colab": {
          "base_uri": "https://localhost:8080/",
          "height": 524
        },
        "outputId": "c1e3d462-7d68-4019-faf4-2bb43d24e2f3"
      },
      "execution_count": 12,
      "outputs": [
        {
          "output_type": "display_data",
          "data": {
            "text/plain": [
              "<IPython.core.display.HTML object>"
            ],
            "text/html": []
          },
          "metadata": {}
        },
        {
          "output_type": "display_data",
          "data": {
            "text/plain": [
              "<Figure size 800x550 with 1 Axes>"
            ],
            "image/png": "[encoded data removed]"
          },
          "metadata": {}
        }
      ]
    }
  ]
}