{
  "cells": [
    {
      "cell_type": "markdown",
      "metadata": {
        "id": "view-in-github",
        "colab_type": "text"
      },
      "source": [
        "<a href=\"https://colab.research.google.com/github/yyRegis/projeto-idc/blob/main/ScriptIDC_Arvore_de_Decisao_no_R.ipynb\" target=\"_parent\"><img src=\"https://colab.research.google.com/assets/colab-badge.svg\" alt=\"Open In Colab\"/></a>"
      ]
    },
    {
      "cell_type": "markdown",
      "metadata": {
        "id": "tcYAr0kmxMDw"
      },
      "source": [
        "Abrir colab com R\n",
        "\n",
        "Link: https://colab.research.google.com/#create=true&language=r\n",
        "\n",
        "Atualizado em: 01.2025"
      ]
    },
    {
      "cell_type": "markdown",
      "metadata": {
        "id": "ytRYlB1yxPpD"
      },
      "source": [
        "### Árvore de Decisão"
      ]
    },
    {
      "cell_type": "code",
      "execution_count": 1,
      "metadata": {
        "id": "Bmd2prFtx85g",
        "vscode": {
          "languageId": "r"
        },
        "colab": {
          "base_uri": "https://localhost:8080/"
        },
        "outputId": "248996db-dc23-4d7c-80f7-82865b1bbbc6"
      },
      "outputs": [
        {
          "output_type": "stream",
          "name": "stderr",
          "text": [
            "Installing package into ‘/usr/local/lib/R/site-library’\n",
            "(as ‘lib’ is unspecified)\n",
            "\n",
            "also installing the dependencies ‘shape’, ‘numDeriv’, ‘progressr’, ‘SQUAREM’, ‘diagram’, ‘lava’, ‘prodlim’, ‘warp’, ‘future.apply’, ‘iterators’, ‘listenv’, ‘parallelly’, ‘lhs’, ‘DiceDesign’, ‘sfd’, ‘sparsevctrs’, ‘patchwork’, ‘globals’, ‘clock’, ‘gower’, ‘ipred’, ‘timeDate’, ‘furrr’, ‘slider’, ‘doFuture’, ‘foreach’, ‘future’, ‘GPfit’, ‘modelenv’, ‘dials’, ‘hardhat’, ‘infer’, ‘modeldata’, ‘parsnip’, ‘recipes’, ‘rsample’, ‘tune’, ‘workflows’, ‘workflowsets’, ‘yardstick’\n",
            "\n",
            "\n",
            "Installing package into ‘/usr/local/lib/R/site-library’\n",
            "(as ‘lib’ is unspecified)\n",
            "\n"
          ]
        }
      ],
      "source": [
        "# <> ----------------------------\n",
        "# <> Instalando bibliotecas\n",
        "install.packages(\"tidymodels\")\n",
        "install.packages(\"rpart.plot\")"
      ]
    },
    {
      "cell_type": "code",
      "execution_count": 2,
      "metadata": {
        "id": "C7efr9Zux2iQ",
        "vscode": {
          "languageId": "r"
        },
        "colab": {
          "base_uri": "https://localhost:8080/"
        },
        "outputId": "6b262509-2850-4337-dd1c-019e1d356ce5"
      },
      "outputs": [
        {
          "output_type": "stream",
          "name": "stderr",
          "text": [
            "── \u001b[1mAttaching packages\u001b[22m ────────────────────────────────────── tidymodels 1.3.0 ──\n",
            "\n",
            "\u001b[32m✔\u001b[39m \u001b[34mbroom       \u001b[39m 1.0.7     \u001b[32m✔\u001b[39m \u001b[34mrecipes     \u001b[39m 1.2.0\n",
            "\u001b[32m✔\u001b[39m \u001b[34mdials       \u001b[39m 1.4.0     \u001b[32m✔\u001b[39m \u001b[34mrsample     \u001b[39m 1.2.1\n",
            "\u001b[32m✔\u001b[39m \u001b[34mdplyr       \u001b[39m 1.1.4     \u001b[32m✔\u001b[39m \u001b[34mtibble      \u001b[39m 3.2.1\n",
            "\u001b[32m✔\u001b[39m \u001b[34mggplot2     \u001b[39m 3.5.1     \u001b[32m✔\u001b[39m \u001b[34mtidyr       \u001b[39m 1.3.1\n",
            "\u001b[32m✔\u001b[39m \u001b[34minfer       \u001b[39m 1.0.7     \u001b[32m✔\u001b[39m \u001b[34mtune        \u001b[39m 1.3.0\n",
            "\u001b[32m✔\u001b[39m \u001b[34mmodeldata   \u001b[39m 1.4.0     \u001b[32m✔\u001b[39m \u001b[34mworkflows   \u001b[39m 1.2.0\n",
            "\u001b[32m✔\u001b[39m \u001b[34mparsnip     \u001b[39m 1.3.1     \u001b[32m✔\u001b[39m \u001b[34mworkflowsets\u001b[39m 1.1.0\n",
            "\u001b[32m✔\u001b[39m \u001b[34mpurrr       \u001b[39m 1.0.4     \u001b[32m✔\u001b[39m \u001b[34myardstick   \u001b[39m 1.3.2\n",
            "\n",
            "── \u001b[1mConflicts\u001b[22m ───────────────────────────────────────── tidymodels_conflicts() ──\n",
            "\u001b[31m✖\u001b[39m \u001b[34mpurrr\u001b[39m::\u001b[32mdiscard()\u001b[39m masks \u001b[34mscales\u001b[39m::discard()\n",
            "\u001b[31m✖\u001b[39m \u001b[34mdplyr\u001b[39m::\u001b[32mfilter()\u001b[39m  masks \u001b[34mstats\u001b[39m::filter()\n",
            "\u001b[31m✖\u001b[39m \u001b[34mdplyr\u001b[39m::\u001b[32mlag()\u001b[39m     masks \u001b[34mstats\u001b[39m::lag()\n",
            "\u001b[31m✖\u001b[39m \u001b[34mrecipes\u001b[39m::\u001b[32mstep()\u001b[39m  masks \u001b[34mstats\u001b[39m::step()\n",
            "\n"
          ]
        }
      ],
      "source": [
        "# <> ----------------------------\n",
        "# Lendo bibliotecas\n",
        "library(tidymodels)\n",
        "library(yardstick)"
      ]
    },
    {
      "cell_type": "code",
      "execution_count": 74,
      "metadata": {
        "id": "FFUwFU3D065N",
        "vscode": {
          "languageId": "r"
        }
      },
      "outputs": [],
      "source": [
        "# <> ----------------------------\n",
        "# <> Para conflitos de funções, usar a do tidymodels\n",
        "tidymodels_prefer()"
      ]
    },
    {
      "cell_type": "code",
      "execution_count": 75,
      "metadata": {
        "id": "vkV1owU8Cu2A",
        "vscode": {
          "languageId": "r"
        },
        "colab": {
          "base_uri": "https://localhost:8080/",
          "height": 286
        },
        "outputId": "b6b4e54e-2d09-46f9-b958-c8c7ecb76a24"
      },
      "outputs": [
        {
          "output_type": "display_data",
          "data": {
            "text/html": [
              "<table class=\"dataframe\">\n",
              "<caption>A data.frame: 6 × 7</caption>\n",
              "<thead>\n",
              "\t<tr><th></th><th scope=col>Name</th><th scope=col>Age</th><th scope=col>Gender</th><th scope=col>Admission.Test.Score</th><th scope=col>High.School.Percentage</th><th scope=col>City</th><th scope=col>Admission.Status</th></tr>\n",
              "\t<tr><th></th><th scope=col>&lt;chr&gt;</th><th scope=col>&lt;dbl&gt;</th><th scope=col>&lt;chr&gt;</th><th scope=col>&lt;dbl&gt;</th><th scope=col>&lt;dbl&gt;</th><th scope=col>&lt;chr&gt;</th><th scope=col>&lt;chr&gt;</th></tr>\n",
              "</thead>\n",
              "<tbody>\n",
              "\t<tr><th scope=row>1</th><td>Shehroz</td><td>24</td><td>Female</td><td>50</td><td>68.90</td><td>Quetta   </td><td>Rejected</td></tr>\n",
              "\t<tr><th scope=row>2</th><td>Waqar  </td><td>21</td><td>Female</td><td>99</td><td>60.73</td><td>Karachi  </td><td>        </td></tr>\n",
              "\t<tr><th scope=row>3</th><td>Bushra </td><td>17</td><td>Male  </td><td>89</td><td>   NA</td><td>Islamabad</td><td>Accepted</td></tr>\n",
              "\t<tr><th scope=row>4</th><td>Aliya  </td><td>17</td><td>Male  </td><td>55</td><td>85.29</td><td>Karachi  </td><td>Rejected</td></tr>\n",
              "\t<tr><th scope=row>5</th><td>Bilal  </td><td>20</td><td>Male  </td><td>65</td><td>61.13</td><td>Lahore   </td><td>        </td></tr>\n",
              "\t<tr><th scope=row>6</th><td>Murtaza</td><td>23</td><td>Female</td><td>NA</td><td>   NA</td><td>Islamabad</td><td>Accepted</td></tr>\n",
              "</tbody>\n",
              "</table>\n"
            ],
            "text/markdown": "\nA data.frame: 6 × 7\n\n| <!--/--> | Name &lt;chr&gt; | Age &lt;dbl&gt; | Gender &lt;chr&gt; | Admission.Test.Score &lt;dbl&gt; | High.School.Percentage &lt;dbl&gt; | City &lt;chr&gt; | Admission.Status &lt;chr&gt; |\n|---|---|---|---|---|---|---|---|\n| 1 | Shehroz | 24 | Female | 50 | 68.90 | Quetta    | Rejected |\n| 2 | Waqar   | 21 | Female | 99 | 60.73 | Karachi   | <!----> |\n| 3 | Bushra  | 17 | Male   | 89 |    NA | Islamabad | Accepted |\n| 4 | Aliya   | 17 | Male   | 55 | 85.29 | Karachi   | Rejected |\n| 5 | Bilal   | 20 | Male   | 65 | 61.13 | Lahore    | <!----> |\n| 6 | Murtaza | 23 | Female | NA |    NA | Islamabad | Accepted |\n\n",
            "text/latex": "A data.frame: 6 × 7\n\\begin{tabular}{r|lllllll}\n  & Name & Age & Gender & Admission.Test.Score & High.School.Percentage & City & Admission.Status\\\\\n  & <chr> & <dbl> & <chr> & <dbl> & <dbl> & <chr> & <chr>\\\\\n\\hline\n\t1 & Shehroz & 24 & Female & 50 & 68.90 & Quetta    & Rejected\\\\\n\t2 & Waqar   & 21 & Female & 99 & 60.73 & Karachi   &         \\\\\n\t3 & Bushra  & 17 & Male   & 89 &    NA & Islamabad & Accepted\\\\\n\t4 & Aliya   & 17 & Male   & 55 & 85.29 & Karachi   & Rejected\\\\\n\t5 & Bilal   & 20 & Male   & 65 & 61.13 & Lahore    &         \\\\\n\t6 & Murtaza & 23 & Female & NA &    NA & Islamabad & Accepted\\\\\n\\end{tabular}\n",
            "text/plain": [
              "  Name    Age Gender Admission.Test.Score High.School.Percentage City     \n",
              "1 Shehroz 24  Female 50                   68.90                  Quetta   \n",
              "2 Waqar   21  Female 99                   60.73                  Karachi  \n",
              "3 Bushra  17  Male   89                      NA                  Islamabad\n",
              "4 Aliya   17  Male   55                   85.29                  Karachi  \n",
              "5 Bilal   20  Male   65                   61.13                  Lahore   \n",
              "6 Murtaza 23  Female NA                      NA                  Islamabad\n",
              "  Admission.Status\n",
              "1 Rejected        \n",
              "2                 \n",
              "3 Accepted        \n",
              "4 Rejected        \n",
              "5                 \n",
              "6 Accepted        "
            ]
          },
          "metadata": {}
        }
      ],
      "source": [
        "# <> ----------------------------\n",
        "# <> Trabalhando com os dados two_class_dat\n",
        "# Assuming your CSV file is named 'student_admission_record_dirty.csv'\n",
        "df <-read.csv(\"student_admission_record_dirty.csv\")\n",
        "# Read data from 'student_admission_record_dirty.csv' file\n",
        "head(df) # Display the first few rows\n"
      ]
    },
    {
      "cell_type": "code",
      "source": [
        "# Remover colunas irrelevantes\n",
        "df <- df[, !(names(df) %in% c(\"Name\", \"City\"))]\n",
        "\n",
        "# Corrigir valores negativos\n",
        "df$Age[df$Age < 0] <- NA\n",
        "df$Admission.Test.Score[df$Admission.Test.Score < 0] <- NA\n",
        "df$High.School.Percentage[df$High.School.Percentage < 0] <- NA\n",
        "\n",
        "# Remover outliers extremos\n",
        "percentile_99 <- apply(df[, c(\"Admission.Test.Score\", \"High.School.Percentage\")], 2, quantile, 0.99, na.rm = TRUE)\n",
        "df <- df[df$Admission.Test.Score <= percentile_99[\"Admission.Test.Score\"] &\n",
        "         df$High.School.Percentage <= percentile_99[\"High.School.Percentage\"], ]\n",
        "\n",
        "# Preencher valores ausentes com mediana (para números) e moda (para categorias)\n",
        "df$Age[is.na(df$Age)] <- median(df$Age, na.rm = TRUE)\n",
        "df$Admission.Test.Score[is.na(df$Admission.Test.Score)] <- median(df$Admission.Test.Score, na.rm = TRUE)\n",
        "df$High.School.Percentage[is.na(df$High.School.Percentage)] <- median(df$High.School.Percentage, na.rm = TRUE)\n",
        "df$Gender[is.na(df$Gender)] <- names(sort(table(df$Gender), decreasing = TRUE))[1]\n",
        "\n",
        "# Define the Mode function\n",
        "Mode <- function(x) {\n",
        "  ux <- unique(x)\n",
        "  ux[which.max(tabulate(match(x, ux)))]\n",
        "}\n",
        "# Remover valores ausentes em 'Admission Status'\n",
        "df <- df[!is.na(df$Admission.Status), ]\n",
        "\n",
        "\n",
        "\n",
        "# Converter variáveis categóricas para fator\n",
        "df$Gender <- as.factor(df$Gender)\n",
        "df$Admission.Status <- as.factor(df$Admission.Status)\n",
        "\n",
        "\n",
        "\n"
      ],
      "metadata": {
        "id": "mINQe53bdFxG"
      },
      "execution_count": 217,
      "outputs": []
    },
    {
      "cell_type": "code",
      "source": [
        "names(df)"
      ],
      "metadata": {
        "colab": {
          "base_uri": "https://localhost:8080/",
          "height": 34
        },
        "id": "PlRm4UU5Scl7",
        "outputId": "3050b62f-6ea3-430c-dbf8-a07f1deceab9"
      },
      "execution_count": 199,
      "outputs": [
        {
          "output_type": "display_data",
          "data": {
            "text/html": [
              "<style>\n",
              ".list-inline {list-style: none; margin:0; padding: 0}\n",
              ".list-inline>li {display: inline-block}\n",
              ".list-inline>li:not(:last-child)::after {content: \"\\00b7\"; padding: 0 .5ex}\n",
              "</style>\n",
              "<ol class=list-inline><li>'Age'</li><li>'Gender'</li><li>'Admission.Test.Score'</li><li>'High.School.Percentage'</li><li>'Admission.Status'</li></ol>\n"
            ],
            "text/markdown": "1. 'Age'\n2. 'Gender'\n3. 'Admission.Test.Score'\n4. 'High.School.Percentage'\n5. 'Admission.Status'\n\n\n",
            "text/latex": "\\begin{enumerate*}\n\\item 'Age'\n\\item 'Gender'\n\\item 'Admission.Test.Score'\n\\item 'High.School.Percentage'\n\\item 'Admission.Status'\n\\end{enumerate*}\n",
            "text/plain": [
              "[1] \"Age\"                    \"Gender\"                 \"Admission.Test.Score\"  \n",
              "[4] \"High.School.Percentage\" \"Admission.Status\"      "
            ]
          },
          "metadata": {}
        }
      ]
    },
    {
      "cell_type": "code",
      "execution_count": 218,
      "metadata": {
        "id": "kU2dTCpjDJbf",
        "vscode": {
          "languageId": "r"
        },
        "colab": {
          "base_uri": "https://localhost:8080/",
          "height": 192
        },
        "outputId": "283cecdd-7136-46fa-827a-cd5e77051fcd"
      },
      "outputs": [
        {
          "output_type": "display_data",
          "data": {
            "text/html": [
              "<table class=\"dataframe\">\n",
              "<caption>A data.frame: 3 × 3</caption>\n",
              "<thead>\n",
              "\t<tr><th scope=col>Admission.Status</th><th scope=col>n</th><th scope=col>prop</th></tr>\n",
              "\t<tr><th scope=col>&lt;fct&gt;</th><th scope=col>&lt;int&gt;</th><th scope=col>&lt;dbl&gt;</th></tr>\n",
              "</thead>\n",
              "<tbody>\n",
              "\t<tr><td>        </td><td> 7</td><td>0.05932203</td></tr>\n",
              "\t<tr><td>Accepted</td><td>59</td><td>0.50000000</td></tr>\n",
              "\t<tr><td>Rejected</td><td>52</td><td>0.44067797</td></tr>\n",
              "</tbody>\n",
              "</table>\n"
            ],
            "text/markdown": "\nA data.frame: 3 × 3\n\n| Admission.Status &lt;fct&gt; | n &lt;int&gt; | prop &lt;dbl&gt; |\n|---|---|---|\n| <!----> |  7 | 0.05932203 |\n| Accepted | 59 | 0.50000000 |\n| Rejected | 52 | 0.44067797 |\n\n",
            "text/latex": "A data.frame: 3 × 3\n\\begin{tabular}{lll}\n Admission.Status & n & prop\\\\\n <fct> & <int> & <dbl>\\\\\n\\hline\n\t          &  7 & 0.05932203\\\\\n\t Accepted & 59 & 0.50000000\\\\\n\t Rejected & 52 & 0.44067797\\\\\n\\end{tabular}\n",
            "text/plain": [
              "  Admission.Status n  prop      \n",
              "1                   7 0.05932203\n",
              "2 Accepted         59 0.50000000\n",
              "3 Rejected         52 0.44067797"
            ]
          },
          "metadata": {}
        }
      ],
      "source": [
        "\n",
        "\n",
        "# <> ----------------------------\n",
        "# <> Verificando proporcao total por classe\n",
        "df |>\n",
        "  count(Admission.Status) |>\n",
        "  mutate(prop = n/sum(n))"
      ]
    },
    {
      "cell_type": "code",
      "execution_count": 219,
      "metadata": {
        "id": "htv1k2e7Csw_",
        "vscode": {
          "languageId": "r"
        }
      },
      "outputs": [],
      "source": [
        "# <> ----------------------------\n",
        "# <> Selecionando Amostra de Treinamento e Teste\n",
        "set.seed(123)\n",
        "cell_split <- initial_split(df,\n",
        "                            strata = Admission.Status ,\n",
        "                            prop = 0.7)"
      ]
    },
    {
      "cell_type": "code",
      "execution_count": 220,
      "metadata": {
        "id": "de1lcl5cC5dA",
        "vscode": {
          "languageId": "r"
        }
      },
      "outputs": [],
      "source": [
        "# <> ----------------------------\n",
        "# <> Dividindo em treinamento e teste\n",
        "data_train <- training(cell_split)\n",
        "data_test  <- testing(cell_split)"
      ]
    },
    {
      "cell_type": "code",
      "execution_count": 221,
      "metadata": {
        "id": "xIqgCuszDFiZ",
        "vscode": {
          "languageId": "r"
        },
        "colab": {
          "base_uri": "https://localhost:8080/",
          "height": 192
        },
        "outputId": "0b3bef76-fdb0-4aba-d95b-c6b4a54d99ba"
      },
      "outputs": [
        {
          "output_type": "display_data",
          "data": {
            "text/html": [
              "<table class=\"dataframe\">\n",
              "<caption>A data.frame: 3 × 3</caption>\n",
              "<thead>\n",
              "\t<tr><th scope=col>Admission.Status</th><th scope=col>n</th><th scope=col>prop</th></tr>\n",
              "\t<tr><th scope=col>&lt;fct&gt;</th><th scope=col>&lt;int&gt;</th><th scope=col>&lt;dbl&gt;</th></tr>\n",
              "</thead>\n",
              "<tbody>\n",
              "\t<tr><td>        </td><td> 5</td><td>0.06097561</td></tr>\n",
              "\t<tr><td>Accepted</td><td>42</td><td>0.51219512</td></tr>\n",
              "\t<tr><td>Rejected</td><td>35</td><td>0.42682927</td></tr>\n",
              "</tbody>\n",
              "</table>\n"
            ],
            "text/markdown": "\nA data.frame: 3 × 3\n\n| Admission.Status &lt;fct&gt; | n &lt;int&gt; | prop &lt;dbl&gt; |\n|---|---|---|\n| <!----> |  5 | 0.06097561 |\n| Accepted | 42 | 0.51219512 |\n| Rejected | 35 | 0.42682927 |\n\n",
            "text/latex": "A data.frame: 3 × 3\n\\begin{tabular}{lll}\n Admission.Status & n & prop\\\\\n <fct> & <int> & <dbl>\\\\\n\\hline\n\t          &  5 & 0.06097561\\\\\n\t Accepted & 42 & 0.51219512\\\\\n\t Rejected & 35 & 0.42682927\\\\\n\\end{tabular}\n",
            "text/plain": [
              "  Admission.Status n  prop      \n",
              "1                   5 0.06097561\n",
              "2 Accepted         42 0.51219512\n",
              "3 Rejected         35 0.42682927"
            ]
          },
          "metadata": {}
        }
      ],
      "source": [
        "# <> ----------------------------\n",
        "# <> Verificando proporcao dados treinamento\n",
        "data_train |>\n",
        "  count(Admission.Status) |>\n",
        "  mutate(prop = n/sum(n))"
      ]
    },
    {
      "cell_type": "code",
      "execution_count": 222,
      "metadata": {
        "id": "XP7guUu7DhY1",
        "vscode": {
          "languageId": "r"
        },
        "colab": {
          "base_uri": "https://localhost:8080/",
          "height": 192
        },
        "outputId": "972a954f-20c0-4bfc-f0ab-9d81a9cd8adf"
      },
      "outputs": [
        {
          "output_type": "display_data",
          "data": {
            "text/html": [
              "<table class=\"dataframe\">\n",
              "<caption>A data.frame: 3 × 3</caption>\n",
              "<thead>\n",
              "\t<tr><th scope=col>Admission.Status</th><th scope=col>n</th><th scope=col>prop</th></tr>\n",
              "\t<tr><th scope=col>&lt;fct&gt;</th><th scope=col>&lt;int&gt;</th><th scope=col>&lt;dbl&gt;</th></tr>\n",
              "</thead>\n",
              "<tbody>\n",
              "\t<tr><td>        </td><td> 2</td><td>0.05555556</td></tr>\n",
              "\t<tr><td>Accepted</td><td>17</td><td>0.47222222</td></tr>\n",
              "\t<tr><td>Rejected</td><td>17</td><td>0.47222222</td></tr>\n",
              "</tbody>\n",
              "</table>\n"
            ],
            "text/markdown": "\nA data.frame: 3 × 3\n\n| Admission.Status &lt;fct&gt; | n &lt;int&gt; | prop &lt;dbl&gt; |\n|---|---|---|\n| <!----> |  2 | 0.05555556 |\n| Accepted | 17 | 0.47222222 |\n| Rejected | 17 | 0.47222222 |\n\n",
            "text/latex": "A data.frame: 3 × 3\n\\begin{tabular}{lll}\n Admission.Status & n & prop\\\\\n <fct> & <int> & <dbl>\\\\\n\\hline\n\t          &  2 & 0.05555556\\\\\n\t Accepted & 17 & 0.47222222\\\\\n\t Rejected & 17 & 0.47222222\\\\\n\\end{tabular}\n",
            "text/plain": [
              "  Admission.Status n  prop      \n",
              "1                   2 0.05555556\n",
              "2 Accepted         17 0.47222222\n",
              "3 Rejected         17 0.47222222"
            ]
          },
          "metadata": {}
        }
      ],
      "source": [
        "# <> ----------------------------\n",
        "# <> Verificando proporcao dados teste\n",
        "data_test |>\n",
        "  count(Admission.Status) |>\n",
        "  mutate(prop = n/sum(n))"
      ]
    },
    {
      "cell_type": "code",
      "execution_count": 223,
      "metadata": {
        "id": "TMnoxulExPNN",
        "vscode": {
          "languageId": "r"
        }
      },
      "outputs": [],
      "source": [
        "# <> ----------------------------\n",
        "# <> Definimos o modelo e os parâmetros\n",
        "dt_cls_spec <-\n",
        "  decision_tree(tree_depth = 10) |> #tree_depth  => profundidade máxima da árvore\n",
        "  # This model can be used for classification or regression, so set mode\n",
        "  set_mode(\"classification\") |>\n",
        "  set_engine(\"rpart\")"
      ]
    },
    {
      "cell_type": "code",
      "execution_count": 224,
      "metadata": {
        "id": "L7zdRQFO1wcj",
        "vscode": {
          "languageId": "r"
        },
        "colab": {
          "base_uri": "https://localhost:8080/",
          "height": 121
        },
        "outputId": "b0cfd761-3e25-4d1c-a99a-02d604c8b12b"
      },
      "outputs": [
        {
          "output_type": "display_data",
          "data": {
            "text/plain": [
              "Decision Tree Model Specification (classification)\n",
              "\n",
              "Main Arguments:\n",
              "  tree_depth = 10\n",
              "\n",
              "Computational engine: rpart \n"
            ]
          },
          "metadata": {}
        }
      ],
      "source": [
        "dt_cls_spec"
      ]
    },
    {
      "cell_type": "code",
      "execution_count": 225,
      "metadata": {
        "id": "7kKUTLiXw4_R",
        "vscode": {
          "languageId": "r"
        }
      },
      "outputs": [],
      "source": [
        "# <> ----------------------------\n",
        "# <> Vamos fazer o 'treinamento' do modelo\n",
        "set.seed(1)\n",
        "dt_cls_fit <- dt_cls_spec |>\n",
        "  fit(Admission.Status  ~ ., data = data_train)\n"
      ]
    },
    {
      "cell_type": "code",
      "execution_count": 226,
      "metadata": {
        "id": "TH8D3uRN2FB5",
        "vscode": {
          "languageId": "r"
        },
        "colab": {
          "base_uri": "https://localhost:8080/",
          "height": 399
        },
        "outputId": "f3789b6b-6e6c-4e99-f3cf-533dd4e01410"
      },
      "outputs": [
        {
          "output_type": "display_data",
          "data": {
            "text/plain": [
              "parsnip model object\n",
              "\n",
              "n= 82 \n",
              "\n",
              "node), split, n, loss, yval, (yprob)\n",
              "      * denotes terminal node\n",
              "\n",
              " 1) root 82 40 Accepted (0.06097561 0.51219512 0.42682927)  \n",
              "   2) High.School.Percentage>=60.73 70 30 Accepted (0.07142857 0.57142857 0.35714286)  \n",
              "     4) High.School.Percentage< 77.185 29 16 Accepted (0.13793103 0.44827586 0.41379310)  \n",
              "       8) Admission.Test.Score>=69.5 22 10 Accepted (0.13636364 0.54545455 0.31818182)  \n",
              "        16) High.School.Percentage< 68.2 9  2 Accepted (0.11111111 0.77777778 0.11111111) *\n",
              "        17) High.School.Percentage>=68.2 13  7 Rejected (0.15384615 0.38461538 0.46153846) *\n",
              "       9) Admission.Test.Score< 69.5 7  2 Rejected (0.14285714 0.14285714 0.71428571) *\n",
              "     5) High.School.Percentage>=77.185 41 14 Accepted (0.02439024 0.65853659 0.31707317)  \n",
              "      10) High.School.Percentage< 79.05 8  0 Accepted (0.00000000 1.00000000 0.00000000) *\n",
              "      11) High.School.Percentage>=79.05 33 14 Accepted (0.03030303 0.57575758 0.39393939)  \n",
              "        22) Age>=19.5 24  8 Accepted (0.04166667 0.66666667 0.29166667)  \n",
              "          44) High.School.Percentage>=84.42 16  3 Accepted (0.00000000 0.81250000 0.18750000) *\n",
              "          45) High.School.Percentage< 84.42 8  4 Rejected (0.12500000 0.37500000 0.50000000) *\n",
              "        23) Age< 19.5 9  3 Rejected (0.00000000 0.33333333 0.66666667) *\n",
              "   3) High.School.Percentage< 60.73 12  2 Rejected (0.00000000 0.16666667 0.83333333) *"
            ]
          },
          "metadata": {}
        }
      ],
      "source": [
        "# <> Visualizando o modelo\n",
        "dt_cls_fit"
      ]
    },
    {
      "cell_type": "code",
      "execution_count": 227,
      "metadata": {
        "id": "sfbIv_pX5HsZ",
        "vscode": {
          "languageId": "r"
        },
        "colab": {
          "base_uri": "https://localhost:8080/",
          "height": 524
        },
        "outputId": "c083a2ab-9d2e-4541-ff09-24859c49fa50"
      },
      "outputs": [
        {
          "output_type": "stream",
          "name": "stderr",
          "text": [
            "Warning message:\n",
            "“Cannot retrieve the data used to build the model (so cannot determine roundint and is.binary for the variables).\n",
            "To silence this warning:\n",
            "    Call rpart.plot with roundint=FALSE,\n",
            "    or rebuild the rpart model with model=TRUE.”\n"
          ]
        },
        {
          "output_type": "display_data",
          "data": {
            "text/plain": [
              "plot without title"
            ],
            "image/png": "[encoded data removed]"
          },
          "metadata": {
            "image/png": {
              "width": 420,
              "height": 420
            }
          }
        }
      ],
      "source": [
        "# <> ----------------------------\n",
        "# <> Fazendo o plot do modelo\n",
        "dt_cls_fit |>\n",
        "  extract_fit_engine() |>\n",
        "  rpart.plot::rpart.plot()"
      ]
    },
    {
      "cell_type": "code",
      "execution_count": 228,
      "metadata": {
        "id": "TY8CnW7gBfbi",
        "vscode": {
          "languageId": "r"
        }
      },
      "outputs": [],
      "source": [
        "# <> ----------------------------\n",
        "# <> Fazendo o predição do resultado e adicionando coluna verdadeira\n",
        "dt_testing_pred <-\n",
        "  predict(dt_cls_fit, data_test) |>\n",
        "  bind_cols(predict(dt_cls_fit, data_test, type = \"prob\")) |>\n",
        "  bind_cols(data_test |> select(Admission.Status))"
      ]
    },
    {
      "cell_type": "code",
      "execution_count": 229,
      "metadata": {
        "id": "q5RYTaRQBno9",
        "vscode": {
          "languageId": "r"
        },
        "colab": {
          "base_uri": "https://localhost:8080/",
          "height": 1000
        },
        "outputId": "725e081c-5bbc-44e7-eab7-4c08a4e10a99"
      },
      "outputs": [
        {
          "output_type": "display_data",
          "data": {
            "text/html": [
              "<table class=\"dataframe\">\n",
              "<caption>A tibble: 36 × 5</caption>\n",
              "<thead>\n",
              "\t<tr><th></th><th scope=col>.pred_class</th><th scope=col>.pred_V1</th><th scope=col>.pred_Accepted</th><th scope=col>.pred_Rejected</th><th scope=col>Admission.Status</th></tr>\n",
              "\t<tr><th></th><th scope=col>&lt;fct&gt;</th><th scope=col>&lt;dbl&gt;</th><th scope=col>&lt;dbl&gt;</th><th scope=col>&lt;dbl&gt;</th><th scope=col>&lt;fct&gt;</th></tr>\n",
              "</thead>\n",
              "<tbody>\n",
              "\t<tr><th scope=row>1</th><td>Rejected</td><td>0.1428571</td><td>0.1428571</td><td>0.7142857</td><td>Rejected</td></tr>\n",
              "\t<tr><th scope=row>2</th><td>Rejected</td><td>0.0000000</td><td>0.1666667</td><td>0.8333333</td><td>        </td></tr>\n",
              "\t<tr><th scope=row>3</th><td>Rejected</td><td>0.0000000</td><td>0.3333333</td><td>0.6666667</td><td>Rejected</td></tr>\n",
              "\t<tr><th scope=row>4</th><td>Rejected</td><td>0.0000000</td><td>0.1666667</td><td>0.8333333</td><td>Accepted</td></tr>\n",
              "\t<tr><th scope=row>5</th><td>Rejected</td><td>0.0000000</td><td>0.3333333</td><td>0.6666667</td><td>        </td></tr>\n",
              "\t<tr><th scope=row>6</th><td>Rejected</td><td>0.1538462</td><td>0.3846154</td><td>0.4615385</td><td>Rejected</td></tr>\n",
              "\t<tr><th scope=row>7</th><td>Accepted</td><td>0.1111111</td><td>0.7777778</td><td>0.1111111</td><td>Rejected</td></tr>\n",
              "\t<tr><th scope=row>8</th><td>Rejected</td><td>0.0000000</td><td>0.1666667</td><td>0.8333333</td><td>Rejected</td></tr>\n",
              "\t<tr><th scope=row>9</th><td>Accepted</td><td>0.0000000</td><td>0.8125000</td><td>0.1875000</td><td>Rejected</td></tr>\n",
              "\t<tr><th scope=row>10</th><td>Rejected</td><td>0.0000000</td><td>0.1666667</td><td>0.8333333</td><td>Accepted</td></tr>\n",
              "\t<tr><th scope=row>11</th><td>Rejected</td><td>0.0000000</td><td>0.3333333</td><td>0.6666667</td><td>Accepted</td></tr>\n",
              "\t<tr><th scope=row>12</th><td>Rejected</td><td>0.0000000</td><td>0.1666667</td><td>0.8333333</td><td>Accepted</td></tr>\n",
              "\t<tr><th scope=row>13</th><td>Rejected</td><td>0.0000000</td><td>0.1666667</td><td>0.8333333</td><td>Accepted</td></tr>\n",
              "\t<tr><th scope=row>14</th><td>Accepted</td><td>0.0000000</td><td>0.8125000</td><td>0.1875000</td><td>Accepted</td></tr>\n",
              "\t<tr><th scope=row>15</th><td>Accepted</td><td>0.0000000</td><td>1.0000000</td><td>0.0000000</td><td>Accepted</td></tr>\n",
              "\t<tr><th scope=row>16</th><td>Accepted</td><td>0.1111111</td><td>0.7777778</td><td>0.1111111</td><td>Rejected</td></tr>\n",
              "\t<tr><th scope=row>17</th><td>Accepted</td><td>0.1111111</td><td>0.7777778</td><td>0.1111111</td><td>Accepted</td></tr>\n",
              "\t<tr><th scope=row>18</th><td>Accepted</td><td>0.1111111</td><td>0.7777778</td><td>0.1111111</td><td>Accepted</td></tr>\n",
              "\t<tr><th scope=row>19</th><td>Rejected</td><td>0.1250000</td><td>0.3750000</td><td>0.5000000</td><td>Accepted</td></tr>\n",
              "\t<tr><th scope=row>20</th><td>Rejected</td><td>0.1250000</td><td>0.3750000</td><td>0.5000000</td><td>Accepted</td></tr>\n",
              "\t<tr><th scope=row>21</th><td>Accepted</td><td>0.1111111</td><td>0.7777778</td><td>0.1111111</td><td>Rejected</td></tr>\n",
              "\t<tr><th scope=row>22</th><td>Rejected</td><td>0.1250000</td><td>0.3750000</td><td>0.5000000</td><td>Rejected</td></tr>\n",
              "\t<tr><th scope=row>23</th><td>Rejected</td><td>0.1428571</td><td>0.1428571</td><td>0.7142857</td><td>Rejected</td></tr>\n",
              "\t<tr><th scope=row>24</th><td>Accepted</td><td>0.0000000</td><td>0.8125000</td><td>0.1875000</td><td>Accepted</td></tr>\n",
              "\t<tr><th scope=row>25</th><td>Rejected</td><td>0.1538462</td><td>0.3846154</td><td>0.4615385</td><td>Accepted</td></tr>\n",
              "\t<tr><th scope=row>26</th><td>Rejected</td><td>0.0000000</td><td>0.1666667</td><td>0.8333333</td><td>Accepted</td></tr>\n",
              "\t<tr><th scope=row>27</th><td>Accepted</td><td>0.0000000</td><td>0.8125000</td><td>0.1875000</td><td>Accepted</td></tr>\n",
              "\t<tr><th scope=row>28</th><td>Accepted</td><td>0.1111111</td><td>0.7777778</td><td>0.1111111</td><td>Accepted</td></tr>\n",
              "\t<tr><th scope=row>29</th><td>Accepted</td><td>0.0000000</td><td>0.8125000</td><td>0.1875000</td><td>Rejected</td></tr>\n",
              "\t<tr><th scope=row>30</th><td>Accepted</td><td>0.1111111</td><td>0.7777778</td><td>0.1111111</td><td>Rejected</td></tr>\n",
              "\t<tr><th scope=row>31</th><td>Rejected</td><td>0.1250000</td><td>0.3750000</td><td>0.5000000</td><td>Rejected</td></tr>\n",
              "\t<tr><th scope=row>32</th><td>Rejected</td><td>0.1538462</td><td>0.3846154</td><td>0.4615385</td><td>Rejected</td></tr>\n",
              "\t<tr><th scope=row>33</th><td>Rejected</td><td>0.1428571</td><td>0.1428571</td><td>0.7142857</td><td>Rejected</td></tr>\n",
              "\t<tr><th scope=row>34</th><td>Rejected</td><td>0.0000000</td><td>0.1666667</td><td>0.8333333</td><td>Rejected</td></tr>\n",
              "\t<tr><th scope=row>35</th><td>Rejected</td><td>0.0000000</td><td>0.3333333</td><td>0.6666667</td><td>Rejected</td></tr>\n",
              "\t<tr><th scope=row>36</th><td>Rejected</td><td>0.0000000</td><td>0.1666667</td><td>0.8333333</td><td>Accepted</td></tr>\n",
              "</tbody>\n",
              "</table>\n"
            ],
            "text/markdown": "\nA tibble: 36 × 5\n\n| <!--/--> | .pred_class &lt;fct&gt; | .pred_V1 &lt;dbl&gt; | .pred_Accepted &lt;dbl&gt; | .pred_Rejected &lt;dbl&gt; | Admission.Status &lt;fct&gt; |\n|---|---|---|---|---|---|\n| 1 | Rejected | 0.1428571 | 0.1428571 | 0.7142857 | Rejected |\n| 2 | Rejected | 0.0000000 | 0.1666667 | 0.8333333 | <!----> |\n| 3 | Rejected | 0.0000000 | 0.3333333 | 0.6666667 | Rejected |\n| 4 | Rejected | 0.0000000 | 0.1666667 | 0.8333333 | Accepted |\n| 5 | Rejected | 0.0000000 | 0.3333333 | 0.6666667 | <!----> |\n| 6 | Rejected | 0.1538462 | 0.3846154 | 0.4615385 | Rejected |\n| 7 | Accepted | 0.1111111 | 0.7777778 | 0.1111111 | Rejected |\n| 8 | Rejected | 0.0000000 | 0.1666667 | 0.8333333 | Rejected |\n| 9 | Accepted | 0.0000000 | 0.8125000 | 0.1875000 | Rejected |\n| 10 | Rejected | 0.0000000 | 0.1666667 | 0.8333333 | Accepted |\n| 11 | Rejected | 0.0000000 | 0.3333333 | 0.6666667 | Accepted |\n| 12 | Rejected | 0.0000000 | 0.1666667 | 0.8333333 | Accepted |\n| 13 | Rejected | 0.0000000 | 0.1666667 | 0.8333333 | Accepted |\n| 14 | Accepted | 0.0000000 | 0.8125000 | 0.1875000 | Accepted |\n| 15 | Accepted | 0.0000000 | 1.0000000 | 0.0000000 | Accepted |\n| 16 | Accepted | 0.1111111 | 0.7777778 | 0.1111111 | Rejected |\n| 17 | Accepted | 0.1111111 | 0.7777778 | 0.1111111 | Accepted |\n| 18 | Accepted | 0.1111111 | 0.7777778 | 0.1111111 | Accepted |\n| 19 | Rejected | 0.1250000 | 0.3750000 | 0.5000000 | Accepted |\n| 20 | Rejected | 0.1250000 | 0.3750000 | 0.5000000 | Accepted |\n| 21 | Accepted | 0.1111111 | 0.7777778 | 0.1111111 | Rejected |\n| 22 | Rejected | 0.1250000 | 0.3750000 | 0.5000000 | Rejected |\n| 23 | Rejected | 0.1428571 | 0.1428571 | 0.7142857 | Rejected |\n| 24 | Accepted | 0.0000000 | 0.8125000 | 0.1875000 | Accepted |\n| 25 | Rejected | 0.1538462 | 0.3846154 | 0.4615385 | Accepted |\n| 26 | Rejected | 0.0000000 | 0.1666667 | 0.8333333 | Accepted |\n| 27 | Accepted | 0.0000000 | 0.8125000 | 0.1875000 | Accepted |\n| 28 | Accepted | 0.1111111 | 0.7777778 | 0.1111111 | Accepted |\n| 29 | Accepted | 0.0000000 | 0.8125000 | 0.1875000 | Rejected |\n| 30 | Accepted | 0.1111111 | 0.7777778 | 0.1111111 | Rejected |\n| 31 | Rejected | 0.1250000 | 0.3750000 | 0.5000000 | Rejected |\n| 32 | Rejected | 0.1538462 | 0.3846154 | 0.4615385 | Rejected |\n| 33 | Rejected | 0.1428571 | 0.1428571 | 0.7142857 | Rejected |\n| 34 | Rejected | 0.0000000 | 0.1666667 | 0.8333333 | Rejected |\n| 35 | Rejected | 0.0000000 | 0.3333333 | 0.6666667 | Rejected |\n| 36 | Rejected | 0.0000000 | 0.1666667 | 0.8333333 | Accepted |\n\n",
            "text/latex": "A tibble: 36 × 5\n\\begin{tabular}{r|lllll}\n  & .pred\\_class & .pred\\_V1 & .pred\\_Accepted & .pred\\_Rejected & Admission.Status\\\\\n  & <fct> & <dbl> & <dbl> & <dbl> & <fct>\\\\\n\\hline\n\t1 & Rejected & 0.1428571 & 0.1428571 & 0.7142857 & Rejected\\\\\n\t2 & Rejected & 0.0000000 & 0.1666667 & 0.8333333 &         \\\\\n\t3 & Rejected & 0.0000000 & 0.3333333 & 0.6666667 & Rejected\\\\\n\t4 & Rejected & 0.0000000 & 0.1666667 & 0.8333333 & Accepted\\\\\n\t5 & Rejected & 0.0000000 & 0.3333333 & 0.6666667 &         \\\\\n\t6 & Rejected & 0.1538462 & 0.3846154 & 0.4615385 & Rejected\\\\\n\t7 & Accepted & 0.1111111 & 0.7777778 & 0.1111111 & Rejected\\\\\n\t8 & Rejected & 0.0000000 & 0.1666667 & 0.8333333 & Rejected\\\\\n\t9 & Accepted & 0.0000000 & 0.8125000 & 0.1875000 & Rejected\\\\\n\t10 & Rejected & 0.0000000 & 0.1666667 & 0.8333333 & Accepted\\\\\n\t11 & Rejected & 0.0000000 & 0.3333333 & 0.6666667 & Accepted\\\\\n\t12 & Rejected & 0.0000000 & 0.1666667 & 0.8333333 & Accepted\\\\\n\t13 & Rejected & 0.0000000 & 0.1666667 & 0.8333333 & Accepted\\\\\n\t14 & Accepted & 0.0000000 & 0.8125000 & 0.1875000 & Accepted\\\\\n\t15 & Accepted & 0.0000000 & 1.0000000 & 0.0000000 & Accepted\\\\\n\t16 & Accepted & 0.1111111 & 0.7777778 & 0.1111111 & Rejected\\\\\n\t17 & Accepted & 0.1111111 & 0.7777778 & 0.1111111 & Accepted\\\\\n\t18 & Accepted & 0.1111111 & 0.7777778 & 0.1111111 & Accepted\\\\\n\t19 & Rejected & 0.1250000 & 0.3750000 & 0.5000000 & Accepted\\\\\n\t20 & Rejected & 0.1250000 & 0.3750000 & 0.5000000 & Accepted\\\\\n\t21 & Accepted & 0.1111111 & 0.7777778 & 0.1111111 & Rejected\\\\\n\t22 & Rejected & 0.1250000 & 0.3750000 & 0.5000000 & Rejected\\\\\n\t23 & Rejected & 0.1428571 & 0.1428571 & 0.7142857 & Rejected\\\\\n\t24 & Accepted & 0.0000000 & 0.8125000 & 0.1875000 & Accepted\\\\\n\t25 & Rejected & 0.1538462 & 0.3846154 & 0.4615385 & Accepted\\\\\n\t26 & Rejected & 0.0000000 & 0.1666667 & 0.8333333 & Accepted\\\\\n\t27 & Accepted & 0.0000000 & 0.8125000 & 0.1875000 & Accepted\\\\\n\t28 & Accepted & 0.1111111 & 0.7777778 & 0.1111111 & Accepted\\\\\n\t29 & Accepted & 0.0000000 & 0.8125000 & 0.1875000 & Rejected\\\\\n\t30 & Accepted & 0.1111111 & 0.7777778 & 0.1111111 & Rejected\\\\\n\t31 & Rejected & 0.1250000 & 0.3750000 & 0.5000000 & Rejected\\\\\n\t32 & Rejected & 0.1538462 & 0.3846154 & 0.4615385 & Rejected\\\\\n\t33 & Rejected & 0.1428571 & 0.1428571 & 0.7142857 & Rejected\\\\\n\t34 & Rejected & 0.0000000 & 0.1666667 & 0.8333333 & Rejected\\\\\n\t35 & Rejected & 0.0000000 & 0.3333333 & 0.6666667 & Rejected\\\\\n\t36 & Rejected & 0.0000000 & 0.1666667 & 0.8333333 & Accepted\\\\\n\\end{tabular}\n",
            "text/plain": [
              "   .pred_class .pred_V1  .pred_Accepted .pred_Rejected Admission.Status\n",
              "1  Rejected    0.1428571 0.1428571      0.7142857      Rejected        \n",
              "2  Rejected    0.0000000 0.1666667      0.8333333                      \n",
              "3  Rejected    0.0000000 0.3333333      0.6666667      Rejected        \n",
              "4  Rejected    0.0000000 0.1666667      0.8333333      Accepted        \n",
              "5  Rejected    0.0000000 0.3333333      0.6666667                      \n",
              "6  Rejected    0.1538462 0.3846154      0.4615385      Rejected        \n",
              "7  Accepted    0.1111111 0.7777778      0.1111111      Rejected        \n",
              "8  Rejected    0.0000000 0.1666667      0.8333333      Rejected        \n",
              "9  Accepted    0.0000000 0.8125000      0.1875000      Rejected        \n",
              "10 Rejected    0.0000000 0.1666667      0.8333333      Accepted        \n",
              "11 Rejected    0.0000000 0.3333333      0.6666667      Accepted        \n",
              "12 Rejected    0.0000000 0.1666667      0.8333333      Accepted        \n",
              "13 Rejected    0.0000000 0.1666667      0.8333333      Accepted        \n",
              "14 Accepted    0.0000000 0.8125000      0.1875000      Accepted        \n",
              "15 Accepted    0.0000000 1.0000000      0.0000000      Accepted        \n",
              "16 Accepted    0.1111111 0.7777778      0.1111111      Rejected        \n",
              "17 Accepted    0.1111111 0.7777778      0.1111111      Accepted        \n",
              "18 Accepted    0.1111111 0.7777778      0.1111111      Accepted        \n",
              "19 Rejected    0.1250000 0.3750000      0.5000000      Accepted        \n",
              "20 Rejected    0.1250000 0.3750000      0.5000000      Accepted        \n",
              "21 Accepted    0.1111111 0.7777778      0.1111111      Rejected        \n",
              "22 Rejected    0.1250000 0.3750000      0.5000000      Rejected        \n",
              "23 Rejected    0.1428571 0.1428571      0.7142857      Rejected        \n",
              "24 Accepted    0.0000000 0.8125000      0.1875000      Accepted        \n",
              "25 Rejected    0.1538462 0.3846154      0.4615385      Accepted        \n",
              "26 Rejected    0.0000000 0.1666667      0.8333333      Accepted        \n",
              "27 Accepted    0.0000000 0.8125000      0.1875000      Accepted        \n",
              "28 Accepted    0.1111111 0.7777778      0.1111111      Accepted        \n",
              "29 Accepted    0.0000000 0.8125000      0.1875000      Rejected        \n",
              "30 Accepted    0.1111111 0.7777778      0.1111111      Rejected        \n",
              "31 Rejected    0.1250000 0.3750000      0.5000000      Rejected        \n",
              "32 Rejected    0.1538462 0.3846154      0.4615385      Rejected        \n",
              "33 Rejected    0.1428571 0.1428571      0.7142857      Rejected        \n",
              "34 Rejected    0.0000000 0.1666667      0.8333333      Rejected        \n",
              "35 Rejected    0.0000000 0.3333333      0.6666667      Rejected        \n",
              "36 Rejected    0.0000000 0.1666667      0.8333333      Accepted        "
            ]
          },
          "metadata": {}
        }
      ],
      "source": [
        "dt_testing_pred"
      ]
    },
    {
      "cell_type": "code",
      "execution_count": 230,
      "metadata": {
        "id": "pNruNKvH9C2o",
        "vscode": {
          "languageId": "r"
        },
        "colab": {
          "base_uri": "https://localhost:8080/",
          "height": 129
        },
        "outputId": "e5b68da1-09cf-4dc4-8f8e-6a38aa2aa57a"
      },
      "outputs": [
        {
          "output_type": "display_data",
          "data": {
            "text/html": [
              "<table class=\"dataframe\">\n",
              "<caption>A tibble: 1 × 3</caption>\n",
              "<thead>\n",
              "\t<tr><th scope=col>.metric</th><th scope=col>.estimator</th><th scope=col>.estimate</th></tr>\n",
              "\t<tr><th scope=col>&lt;chr&gt;</th><th scope=col>&lt;chr&gt;</th><th scope=col>&lt;dbl&gt;</th></tr>\n",
              "</thead>\n",
              "<tbody>\n",
              "\t<tr><td>accuracy</td><td>multiclass</td><td>0.5</td></tr>\n",
              "</tbody>\n",
              "</table>\n"
            ],
            "text/markdown": "\nA tibble: 1 × 3\n\n| .metric &lt;chr&gt; | .estimator &lt;chr&gt; | .estimate &lt;dbl&gt; |\n|---|---|---|\n| accuracy | multiclass | 0.5 |\n\n",
            "text/latex": "A tibble: 1 × 3\n\\begin{tabular}{lll}\n .metric & .estimator & .estimate\\\\\n <chr> & <chr> & <dbl>\\\\\n\\hline\n\t accuracy & multiclass & 0.5\\\\\n\\end{tabular}\n",
            "text/plain": [
              "  .metric  .estimator .estimate\n",
              "1 accuracy multiclass 0.5      "
            ]
          },
          "metadata": {}
        }
      ],
      "source": [
        "# <> ----------------------------\n",
        "# <> Fazendo avaliação do modelo na amostra de teste\n",
        "dt_testing_pred |>\n",
        "  accuracy(truth = Admission.Status, .pred_class)"
      ]
    },
    {
      "cell_type": "markdown",
      "metadata": {
        "id": "Cq1p_mnYCSGq"
      },
      "source": [
        "--------"
      ]
    },
    {
      "cell_type": "markdown",
      "source": [
        "## Aplicando k-fold"
      ],
      "metadata": {
        "id": "9G9rRwtMJ_aq"
      }
    },
    {
      "cell_type": "code",
      "execution_count": 231,
      "metadata": {
        "id": "RsJB4oJWCTOF",
        "vscode": {
          "languageId": "r"
        }
      },
      "outputs": [],
      "source": [
        "# <> ----------------------------\n",
        "# <> Fazendo treinamento com reamostragem - k-fold\n",
        "set.seed(345)\n",
        "folds <- vfold_cv(data_train, v = 5,strata =Admission.Status )"
      ]
    },
    {
      "cell_type": "code",
      "execution_count": 232,
      "metadata": {
        "id": "-OzQAtR2DoYK",
        "vscode": {
          "languageId": "r"
        }
      },
      "outputs": [],
      "source": [
        "# <> ----------------------------\n",
        "# <> Criando o workflow de treinamento\n",
        "dt_wf <-\n",
        "  workflow() |>\n",
        "  add_model(dt_cls_spec) |>\n",
        "  add_formula(Admission.Status ~ .)"
      ]
    },
    {
      "cell_type": "code",
      "execution_count": 233,
      "metadata": {
        "id": "si8_iU_TDxOF",
        "vscode": {
          "languageId": "r"
        },
        "colab": {
          "base_uri": "https://localhost:8080/"
        },
        "outputId": "a056376c-a944-46f8-d9f2-cb7e9202da47"
      },
      "outputs": [
        {
          "output_type": "stream",
          "name": "stderr",
          "text": [
            "→ \u001b[31m\u001b[1mA\u001b[22m\u001b[39m | \u001b[31merror\u001b[39m:   \u001b[1m\u001b[22mFailed to compute `roc_auc()`.\n",
            "               \u001b[1mCaused by error:\u001b[22m\n",
            "               \u001b[33m!\u001b[39m Can't select columns that don't exist.\n",
            "               \u001b[31m✖\u001b[39m Column `.pred_` doesn't exist.\n",
            "\n",
            "There were issues with some computations   \u001b[1m\u001b[31mA\u001b[39m\u001b[22m: x1\n",
            "\n",
            "There were issues with some computations   \u001b[1m\u001b[31mA\u001b[39m\u001b[22m: x5\n",
            "\n",
            "\n",
            "\n",
            "Warning message:\n",
            "“All models failed. Run `show_notes(.Last.tune.result)` for more information.”\n"
          ]
        }
      ],
      "source": [
        "# <> ----------------------------\n",
        "# <> Aplicando o treinamento com k-fold\n",
        "set.seed(456)\n",
        "dt_fit_rs <-\n",
        "  dt_wf |>\n",
        "  fit_resamples(folds)"
      ]
    },
    {
      "cell_type": "code",
      "execution_count": 234,
      "metadata": {
        "id": "GVayo_MLCd6Q",
        "vscode": {
          "languageId": "r"
        },
        "colab": {
          "base_uri": "https://localhost:8080/",
          "height": 129
        },
        "outputId": "e28d4346-537d-4f84-967b-1cd6241cefcd"
      },
      "outputs": [
        {
          "output_type": "display_data",
          "data": {
            "text/html": [
              "<table class=\"dataframe\">\n",
              "<caption>A tibble: 1 × 3</caption>\n",
              "<thead>\n",
              "\t<tr><th scope=col>.metric</th><th scope=col>.estimator</th><th scope=col>.estimate</th></tr>\n",
              "\t<tr><th scope=col>&lt;chr&gt;</th><th scope=col>&lt;chr&gt;</th><th scope=col>&lt;dbl&gt;</th></tr>\n",
              "</thead>\n",
              "<tbody>\n",
              "\t<tr><td>accuracy</td><td>multiclass</td><td>0.5</td></tr>\n",
              "</tbody>\n",
              "</table>\n"
            ],
            "text/markdown": "\nA tibble: 1 × 3\n\n| .metric &lt;chr&gt; | .estimator &lt;chr&gt; | .estimate &lt;dbl&gt; |\n|---|---|---|\n| accuracy | multiclass | 0.5 |\n\n",
            "text/latex": "A tibble: 1 × 3\n\\begin{tabular}{lll}\n .metric & .estimator & .estimate\\\\\n <chr> & <chr> & <dbl>\\\\\n\\hline\n\t accuracy & multiclass & 0.5\\\\\n\\end{tabular}\n",
            "text/plain": [
              "  .metric  .estimator .estimate\n",
              "1 accuracy multiclass 0.5      "
            ]
          },
          "metadata": {}
        }
      ],
      "source": [
        "# <> ----------------------------\n",
        "# <> Fazendo avaliação do modelo na amostra de teste\n",
        "dt_testing_pred |>\n",
        "  accuracy(truth = Admission.Status, .pred_class)"
      ]
    },
    {
      "cell_type": "code",
      "execution_count": null,
      "metadata": {
        "id": "hJwsmiEBGaA7",
        "vscode": {
          "languageId": "r"
        }
      },
      "outputs": [],
      "source": []
    }
  ],
  "metadata": {
    "colab": {
      "provenance": [],
      "include_colab_link": true
    },
    "kernelspec": {
      "display_name": "R",
      "name": "ir"
    },
    "language_info": {
      "name": "R"
    }
  },
  "nbformat": 4,
  "nbformat_minor": 0
}